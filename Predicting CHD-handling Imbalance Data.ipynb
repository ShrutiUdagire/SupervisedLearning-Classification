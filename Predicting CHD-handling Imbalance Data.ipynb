{
 "cells": [
  {
   "cell_type": "code",
   "execution_count": 1,
   "metadata": {},
   "outputs": [],
   "source": [
    "import pandas as pd\n",
    "import numpy as np\n",
    "import matplotlib.pyplot as plt\n",
    "import seaborn as sns\n",
    "import statsmodels.api as sm"
   ]
  },
  {
   "cell_type": "code",
   "execution_count": 2,
   "metadata": {},
   "outputs": [],
   "source": [
    "df=pd.read_csv(\"C:\\\\Users\\\\Shruti Udagire\\\\Supervised_Categorical\\\\Files\\\\US_Heart_Patients.csv\")\n",
    "df=df.sample(frac=1,random_state=3)\n",
    "#if any sort of sorting is done on data we want shuffle the data here 1 means 100 percent or all"
   ]
  },
  {
   "cell_type": "code",
   "execution_count": 3,
   "metadata": {},
   "outputs": [
    {
     "data": {
      "text/html": [
       "<div>\n",
       "<style scoped>\n",
       "    .dataframe tbody tr th:only-of-type {\n",
       "        vertical-align: middle;\n",
       "    }\n",
       "\n",
       "    .dataframe tbody tr th {\n",
       "        vertical-align: top;\n",
       "    }\n",
       "\n",
       "    .dataframe thead th {\n",
       "        text-align: right;\n",
       "    }\n",
       "</style>\n",
       "<table border=\"1\" class=\"dataframe\">\n",
       "  <thead>\n",
       "    <tr style=\"text-align: right;\">\n",
       "      <th></th>\n",
       "      <th>male</th>\n",
       "      <th>age</th>\n",
       "      <th>education</th>\n",
       "      <th>currentSmoker</th>\n",
       "      <th>cigsPerDay</th>\n",
       "      <th>BPMeds</th>\n",
       "      <th>prevalentStroke</th>\n",
       "      <th>prevalentHyp</th>\n",
       "      <th>diabetes</th>\n",
       "      <th>totChol</th>\n",
       "      <th>sysBP</th>\n",
       "      <th>diaBP</th>\n",
       "      <th>BMI</th>\n",
       "      <th>heartRate</th>\n",
       "      <th>glucose</th>\n",
       "      <th>TenYearCHD</th>\n",
       "    </tr>\n",
       "  </thead>\n",
       "  <tbody>\n",
       "    <tr>\n",
       "      <td>3546</td>\n",
       "      <td>0</td>\n",
       "      <td>54</td>\n",
       "      <td>1.0</td>\n",
       "      <td>0</td>\n",
       "      <td>0.0</td>\n",
       "      <td>0.0</td>\n",
       "      <td>0</td>\n",
       "      <td>0</td>\n",
       "      <td>0</td>\n",
       "      <td>241.0</td>\n",
       "      <td>106.0</td>\n",
       "      <td>77.0</td>\n",
       "      <td>27.64</td>\n",
       "      <td>78.0</td>\n",
       "      <td>74.0</td>\n",
       "      <td>0</td>\n",
       "    </tr>\n",
       "    <tr>\n",
       "      <td>1127</td>\n",
       "      <td>0</td>\n",
       "      <td>42</td>\n",
       "      <td>3.0</td>\n",
       "      <td>1</td>\n",
       "      <td>10.0</td>\n",
       "      <td>0.0</td>\n",
       "      <td>0</td>\n",
       "      <td>0</td>\n",
       "      <td>0</td>\n",
       "      <td>253.0</td>\n",
       "      <td>109.0</td>\n",
       "      <td>74.0</td>\n",
       "      <td>24.38</td>\n",
       "      <td>88.0</td>\n",
       "      <td>60.0</td>\n",
       "      <td>0</td>\n",
       "    </tr>\n",
       "    <tr>\n",
       "      <td>3088</td>\n",
       "      <td>0</td>\n",
       "      <td>58</td>\n",
       "      <td>1.0</td>\n",
       "      <td>0</td>\n",
       "      <td>0.0</td>\n",
       "      <td>1.0</td>\n",
       "      <td>1</td>\n",
       "      <td>1</td>\n",
       "      <td>0</td>\n",
       "      <td>274.0</td>\n",
       "      <td>159.0</td>\n",
       "      <td>90.0</td>\n",
       "      <td>28.40</td>\n",
       "      <td>72.0</td>\n",
       "      <td>81.0</td>\n",
       "      <td>0</td>\n",
       "    </tr>\n",
       "    <tr>\n",
       "      <td>437</td>\n",
       "      <td>1</td>\n",
       "      <td>45</td>\n",
       "      <td>1.0</td>\n",
       "      <td>1</td>\n",
       "      <td>30.0</td>\n",
       "      <td>0.0</td>\n",
       "      <td>0</td>\n",
       "      <td>0</td>\n",
       "      <td>0</td>\n",
       "      <td>240.0</td>\n",
       "      <td>141.0</td>\n",
       "      <td>89.0</td>\n",
       "      <td>25.01</td>\n",
       "      <td>95.0</td>\n",
       "      <td>76.0</td>\n",
       "      <td>0</td>\n",
       "    </tr>\n",
       "    <tr>\n",
       "      <td>3188</td>\n",
       "      <td>1</td>\n",
       "      <td>63</td>\n",
       "      <td>1.0</td>\n",
       "      <td>0</td>\n",
       "      <td>0.0</td>\n",
       "      <td>0.0</td>\n",
       "      <td>0</td>\n",
       "      <td>1</td>\n",
       "      <td>0</td>\n",
       "      <td>190.0</td>\n",
       "      <td>148.0</td>\n",
       "      <td>90.0</td>\n",
       "      <td>27.13</td>\n",
       "      <td>72.0</td>\n",
       "      <td>86.0</td>\n",
       "      <td>0</td>\n",
       "    </tr>\n",
       "    <tr>\n",
       "      <td>...</td>\n",
       "      <td>...</td>\n",
       "      <td>...</td>\n",
       "      <td>...</td>\n",
       "      <td>...</td>\n",
       "      <td>...</td>\n",
       "      <td>...</td>\n",
       "      <td>...</td>\n",
       "      <td>...</td>\n",
       "      <td>...</td>\n",
       "      <td>...</td>\n",
       "      <td>...</td>\n",
       "      <td>...</td>\n",
       "      <td>...</td>\n",
       "      <td>...</td>\n",
       "      <td>...</td>\n",
       "      <td>...</td>\n",
       "    </tr>\n",
       "    <tr>\n",
       "      <td>789</td>\n",
       "      <td>1</td>\n",
       "      <td>63</td>\n",
       "      <td>1.0</td>\n",
       "      <td>0</td>\n",
       "      <td>0.0</td>\n",
       "      <td>0.0</td>\n",
       "      <td>0</td>\n",
       "      <td>1</td>\n",
       "      <td>0</td>\n",
       "      <td>260.0</td>\n",
       "      <td>159.5</td>\n",
       "      <td>91.0</td>\n",
       "      <td>27.01</td>\n",
       "      <td>68.0</td>\n",
       "      <td>66.0</td>\n",
       "      <td>0</td>\n",
       "    </tr>\n",
       "    <tr>\n",
       "      <td>968</td>\n",
       "      <td>0</td>\n",
       "      <td>54</td>\n",
       "      <td>1.0</td>\n",
       "      <td>0</td>\n",
       "      <td>0.0</td>\n",
       "      <td>0.0</td>\n",
       "      <td>0</td>\n",
       "      <td>1</td>\n",
       "      <td>0</td>\n",
       "      <td>266.0</td>\n",
       "      <td>137.0</td>\n",
       "      <td>88.0</td>\n",
       "      <td>29.76</td>\n",
       "      <td>80.0</td>\n",
       "      <td>80.0</td>\n",
       "      <td>0</td>\n",
       "    </tr>\n",
       "    <tr>\n",
       "      <td>1667</td>\n",
       "      <td>0</td>\n",
       "      <td>56</td>\n",
       "      <td>1.0</td>\n",
       "      <td>1</td>\n",
       "      <td>3.0</td>\n",
       "      <td>0.0</td>\n",
       "      <td>0</td>\n",
       "      <td>1</td>\n",
       "      <td>0</td>\n",
       "      <td>285.0</td>\n",
       "      <td>145.0</td>\n",
       "      <td>100.0</td>\n",
       "      <td>30.14</td>\n",
       "      <td>80.0</td>\n",
       "      <td>86.0</td>\n",
       "      <td>0</td>\n",
       "    </tr>\n",
       "    <tr>\n",
       "      <td>3321</td>\n",
       "      <td>0</td>\n",
       "      <td>58</td>\n",
       "      <td>2.0</td>\n",
       "      <td>0</td>\n",
       "      <td>0.0</td>\n",
       "      <td>0.0</td>\n",
       "      <td>0</td>\n",
       "      <td>1</td>\n",
       "      <td>1</td>\n",
       "      <td>265.0</td>\n",
       "      <td>143.5</td>\n",
       "      <td>85.0</td>\n",
       "      <td>21.68</td>\n",
       "      <td>91.0</td>\n",
       "      <td>107.0</td>\n",
       "      <td>0</td>\n",
       "    </tr>\n",
       "    <tr>\n",
       "      <td>1688</td>\n",
       "      <td>0</td>\n",
       "      <td>40</td>\n",
       "      <td>4.0</td>\n",
       "      <td>1</td>\n",
       "      <td>15.0</td>\n",
       "      <td>0.0</td>\n",
       "      <td>0</td>\n",
       "      <td>0</td>\n",
       "      <td>0</td>\n",
       "      <td>155.0</td>\n",
       "      <td>121.0</td>\n",
       "      <td>86.0</td>\n",
       "      <td>23.16</td>\n",
       "      <td>70.0</td>\n",
       "      <td>59.0</td>\n",
       "      <td>0</td>\n",
       "    </tr>\n",
       "  </tbody>\n",
       "</table>\n",
       "<p>4240 rows × 16 columns</p>\n",
       "</div>"
      ],
      "text/plain": [
       "      male  age  education  currentSmoker  cigsPerDay  BPMeds  \\\n",
       "3546     0   54        1.0              0         0.0     0.0   \n",
       "1127     0   42        3.0              1        10.0     0.0   \n",
       "3088     0   58        1.0              0         0.0     1.0   \n",
       "437      1   45        1.0              1        30.0     0.0   \n",
       "3188     1   63        1.0              0         0.0     0.0   \n",
       "...    ...  ...        ...            ...         ...     ...   \n",
       "789      1   63        1.0              0         0.0     0.0   \n",
       "968      0   54        1.0              0         0.0     0.0   \n",
       "1667     0   56        1.0              1         3.0     0.0   \n",
       "3321     0   58        2.0              0         0.0     0.0   \n",
       "1688     0   40        4.0              1        15.0     0.0   \n",
       "\n",
       "      prevalentStroke  prevalentHyp  diabetes  totChol  sysBP  diaBP    BMI  \\\n",
       "3546                0             0         0    241.0  106.0   77.0  27.64   \n",
       "1127                0             0         0    253.0  109.0   74.0  24.38   \n",
       "3088                1             1         0    274.0  159.0   90.0  28.40   \n",
       "437                 0             0         0    240.0  141.0   89.0  25.01   \n",
       "3188                0             1         0    190.0  148.0   90.0  27.13   \n",
       "...               ...           ...       ...      ...    ...    ...    ...   \n",
       "789                 0             1         0    260.0  159.5   91.0  27.01   \n",
       "968                 0             1         0    266.0  137.0   88.0  29.76   \n",
       "1667                0             1         0    285.0  145.0  100.0  30.14   \n",
       "3321                0             1         1    265.0  143.5   85.0  21.68   \n",
       "1688                0             0         0    155.0  121.0   86.0  23.16   \n",
       "\n",
       "      heartRate  glucose  TenYearCHD  \n",
       "3546       78.0     74.0           0  \n",
       "1127       88.0     60.0           0  \n",
       "3088       72.0     81.0           0  \n",
       "437        95.0     76.0           0  \n",
       "3188       72.0     86.0           0  \n",
       "...         ...      ...         ...  \n",
       "789        68.0     66.0           0  \n",
       "968        80.0     80.0           0  \n",
       "1667       80.0     86.0           0  \n",
       "3321       91.0    107.0           0  \n",
       "1688       70.0     59.0           0  \n",
       "\n",
       "[4240 rows x 16 columns]"
      ]
     },
     "execution_count": 3,
     "metadata": {},
     "output_type": "execute_result"
    }
   ],
   "source": [
    "df"
   ]
  },
  {
   "cell_type": "code",
   "execution_count": 4,
   "metadata": {},
   "outputs": [
    {
     "data": {
      "text/plain": [
       "0    3596\n",
       "1     644\n",
       "Name: TenYearCHD, dtype: int64"
      ]
     },
     "execution_count": 4,
     "metadata": {},
     "output_type": "execute_result"
    }
   ],
   "source": [
    "df['TenYearCHD'].value_counts()"
   ]
  },
  {
   "cell_type": "code",
   "execution_count": 5,
   "metadata": {},
   "outputs": [
    {
     "data": {
      "text/plain": [
       "<matplotlib.axes._subplots.AxesSubplot at 0x282acc9bc08>"
      ]
     },
     "execution_count": 5,
     "metadata": {},
     "output_type": "execute_result"
    },
    {
     "data": {
      "image/png": "[encoded data removed]",
      "text/plain": [
       "<Figure size 432x288 with 1 Axes>"
      ]
     },
     "metadata": {
      "needs_background": "light"
     },
     "output_type": "display_data"
    }
   ],
   "source": [
    "#normalize gives u proportion\n",
    "df['TenYearCHD'].value_counts(normalize=True).plot(kind='bar')"
   ]
  },
  {
   "cell_type": "code",
   "execution_count": 6,
   "metadata": {
    "scrolled": true
   },
   "outputs": [
    {
     "data": {
      "text/plain": [
       "education     105\n",
       "cigsPerDay     29\n",
       "BPMeds         53\n",
       "totChol        50\n",
       "BMI            19\n",
       "heartRate       1\n",
       "glucose       388\n",
       "dtype: int64"
      ]
     },
     "execution_count": 6,
     "metadata": {},
     "output_type": "execute_result"
    }
   ],
   "source": [
    "#display only features that are missing\n",
    "# df.isnull().sum()\n",
    "ms=df.isnull().sum()\n",
    "ms[ms>0]"
   ]
  },
  {
   "cell_type": "code",
   "execution_count": 7,
   "metadata": {},
   "outputs": [
    {
     "data": {
      "text/plain": [
       "6.214948349534676"
      ]
     },
     "execution_count": 7,
     "metadata": {},
     "output_type": "execute_result"
    },
    {
     "data": {
      "image/png": "[encoded data removed]",
      "text/plain": [
       "<Figure size 432x288 with 1 Axes>"
      ]
     },
     "metadata": {
      "needs_background": "light"
     },
     "output_type": "display_data"
    }
   ],
   "source": [
    "#befor imputation\n",
    "df['glucose'].plot(kind='kde')\n",
    "df['glucose'].skew()"
   ]
  },
  {
   "cell_type": "code",
   "execution_count": 8,
   "metadata": {},
   "outputs": [],
   "source": [
    "# #aftr imputation\n",
    "# df['glucose']=df['glucose'].fillna(df['glucose'].median())\n",
    "# df['glucose'].plot(kind='kde')\n",
    "# df['glucose'].skew()"
   ]
  },
  {
   "cell_type": "code",
   "execution_count": 9,
   "metadata": {},
   "outputs": [],
   "source": [
    "df=df.fillna(method='ffill')"
   ]
  },
  {
   "cell_type": "code",
   "execution_count": 10,
   "metadata": {},
   "outputs": [
    {
     "name": "stdout",
     "output_type": "stream",
     "text": [
      "<class 'pandas.core.frame.DataFrame'>\n",
      "Int64Index: 4240 entries, 3546 to 1688\n",
      "Data columns (total 16 columns):\n",
      "male               4240 non-null int64\n",
      "age                4240 non-null int64\n",
      "education          4240 non-null float64\n",
      "currentSmoker      4240 non-null int64\n",
      "cigsPerDay         4240 non-null float64\n",
      "BPMeds             4240 non-null float64\n",
      "prevalentStroke    4240 non-null int64\n",
      "prevalentHyp       4240 non-null int64\n",
      "diabetes           4240 non-null int64\n",
      "totChol            4240 non-null float64\n",
      "sysBP              4240 non-null float64\n",
      "diaBP              4240 non-null float64\n",
      "BMI                4240 non-null float64\n",
      "heartRate          4240 non-null float64\n",
      "glucose            4240 non-null float64\n",
      "TenYearCHD         4240 non-null int64\n",
      "dtypes: float64(9), int64(7)\n",
      "memory usage: 563.1 KB\n"
     ]
    }
   ],
   "source": [
    "df.info()"
   ]
  },
  {
   "cell_type": "code",
   "execution_count": 11,
   "metadata": {},
   "outputs": [],
   "source": [
    "y=df['TenYearCHD']"
   ]
  },
  {
   "cell_type": "code",
   "execution_count": 12,
   "metadata": {},
   "outputs": [],
   "source": [
    "X=df.drop('TenYearCHD',axis=1)"
   ]
  },
  {
   "cell_type": "code",
   "execution_count": 13,
   "metadata": {},
   "outputs": [],
   "source": [
    "from sklearn.model_selection import train_test_split\n",
    "X_train, X_test, y_train, y_test = train_test_split(X, y, test_size=0.30, random_state=3)"
   ]
  },
  {
   "cell_type": "code",
   "execution_count": 14,
   "metadata": {},
   "outputs": [],
   "source": [
    "from sklearn.linear_model import LogisticRegression\n",
    "lr=LogisticRegression(solver='liblinear')"
   ]
  },
  {
   "cell_type": "code",
   "execution_count": 15,
   "metadata": {},
   "outputs": [],
   "source": [
    "from sklearn.metrics import confusion_matrix,accuracy_score,roc_auc_score,roc_curve\n",
    "def model_eval(algo,Xtrain,ytrain,Xtest,ytest):\n",
    "    algo.fit(Xtrain,ytrain)\n",
    "\n",
    "    #Train\n",
    "    ytrain_predict=algo.predict(Xtrain)\n",
    "    ytrain_prob=algo.predict_proba(Xtrain)[:,-1]\n",
    "    ytrain_predict\n",
    "    print('Confusion matrix-Train','\\n',confusion_matrix(ytrain,ytrain_predict))\n",
    "    print('Overall Accuracy -Train',accuracy_score(ytrain,ytrain_predict))\n",
    "    print('AUC - Train',roc_auc_score(ytrain,ytrain_prob))\n",
    "    \n",
    "    print(\"TEST\")\n",
    "    #test\n",
    "    ytest_pred=algo.predict(Xtest)\n",
    "    ytest_prob=algo.predict_proba(Xtest)[:,-1]\n",
    "    print('Confusion matrix-Test','\\n',confusion_matrix(ytest,ytest_pred))\n",
    "    print('Overall Accuracy -Test',accuracy_score(ytest,ytest_pred))\n",
    "    print('AUC - Test',roc_auc_score(ytest,ytest_prob))\n",
    "\n",
    "    #plot\n",
    "    fpr,tpr,thresholds=roc_curve(ytest,ytest_prob)\n",
    "    plt.plot(fpr,tpr)\n",
    "    plt.plot(fpr,fpr)\n",
    "    plt.xlabel('FPR')\n",
    "    plt.ylabel('TPR')"
   ]
  },
  {
   "cell_type": "code",
   "execution_count": 16,
   "metadata": {},
   "outputs": [
    {
     "name": "stdout",
     "output_type": "stream",
     "text": [
      "Confusion matrix-Train \n",
      " [[2520   13]\n",
      " [ 400   35]]\n",
      "Overall Accuracy -Train 0.8608490566037735\n",
      "AUC - Train 0.7313212718551896\n",
      "TEST\n",
      "Confusion matrix-Test \n",
      " [[1060    3]\n",
      " [ 200    9]]\n",
      "Overall Accuracy -Test 0.8404088050314465\n",
      "AUC - Test 0.699491823718194\n"
     ]
    },
    {
     "data": {
      "image/png": "[encoded data removed]",
      "text/plain": [
       "<Figure size 432x288 with 1 Axes>"
      ]
     },
     "metadata": {
      "needs_background": "light"
     },
     "output_type": "display_data"
    }
   ],
   "source": [
    "model_eval(lr,X_train,y_train,X_test,y_test)"
   ]
  },
  {
   "cell_type": "code",
   "execution_count": 17,
   "metadata": {},
   "outputs": [],
   "source": [
    "##Undersampling Majority class"
   ]
  },
  {
   "cell_type": "code",
   "execution_count": 18,
   "metadata": {},
   "outputs": [
    {
     "name": "stdout",
     "output_type": "stream",
     "text": [
      "Before undersampling :  \n",
      " 0    2533\n",
      "1     435\n",
      "Name: TenYearCHD, dtype: int64\n",
      "\n",
      "\n",
      "after undersampling  \n",
      " 1    435\n",
      "0    435\n",
      "Name: TenYearCHD, dtype: int64\n"
     ]
    }
   ],
   "source": [
    "Xytrain=pd.concat([X_train,y_train],axis=1)\n",
    "print(\"Before undersampling : \",'\\n',Xytrain['TenYearCHD'].value_counts())\n",
    "\n",
    "#separating o and 1 dataframe\n",
    "Xytrain0=Xytrain[Xytrain['TenYearCHD']==0]\n",
    "Xytrain1=Xytrain[Xytrain['TenYearCHD']==1]\n",
    "\n",
    "len0=len(Xytrain0)\n",
    "len1=len(Xytrain1)\n",
    "\n",
    "Xytrain0_us=Xytrain0.sample(len1,random_state=3)\n",
    "Xytrain_us=pd.concat([Xytrain0_us,Xytrain1],axis=0)\n",
    "\n",
    "print('\\n')\n",
    "print(\"after undersampling \",'\\n',Xytrain_us['TenYearCHD'].value_counts())\n",
    "\n",
    "y_train_us=Xytrain_us['TenYearCHD']\n",
    "x_train_us=Xytrain_us.drop(['TenYearCHD'],axis=1)"
   ]
  },
  {
   "cell_type": "code",
   "execution_count": 19,
   "metadata": {},
   "outputs": [
    {
     "name": "stdout",
     "output_type": "stream",
     "text": [
      "Confusion matrix-Train \n",
      " [[291 144]\n",
      " [137 298]]\n",
      "Overall Accuracy -Train 0.6770114942528735\n",
      "AUC - Train 0.7480089840137403\n",
      "TEST\n",
      "Confusion matrix-Test \n",
      " [[706 357]\n",
      " [ 75 134]]\n",
      "Overall Accuracy -Test 0.660377358490566\n",
      "AUC - Test 0.7068871614596228\n"
     ]
    },
    {
     "data": {
      "image/png": "[encoded data removed]",
      "text/plain": [
       "<Figure size 432x288 with 1 Axes>"
      ]
     },
     "metadata": {
      "needs_background": "light"
     },
     "output_type": "display_data"
    }
   ],
   "source": [
    "model_eval(lr,x_train_us,y_train_us,X_test,y_test)"
   ]
  },
  {
   "cell_type": "code",
   "execution_count": 20,
   "metadata": {},
   "outputs": [],
   "source": [
    "### Oversampling minority class"
   ]
  },
  {
   "cell_type": "code",
   "execution_count": 21,
   "metadata": {},
   "outputs": [
    {
     "name": "stdout",
     "output_type": "stream",
     "text": [
      "Before oversampling :  \n",
      " 0    2533\n",
      "1     435\n",
      "Name: TenYearCHD, dtype: int64\n",
      "After oversampling :  \n",
      " 1    2533\n",
      "0    2533\n",
      "Name: TenYearCHD, dtype: int64\n"
     ]
    }
   ],
   "source": [
    "Xytrain=pd.concat([X_train,y_train],axis=1)\n",
    "print(\"Before oversampling : \",'\\n',Xytrain['TenYearCHD'].value_counts())\n",
    "\n",
    "Xytrain0=Xytrain[Xytrain['TenYearCHD']==0]\n",
    "Xytrain1=Xytrain[Xytrain['TenYearCHD']==1]\n",
    "\n",
    "len0=len(Xytrain0)\n",
    "len1=len(Xytrain1)\n",
    "\n",
    "Xytrain1_os=Xytrain1.sample(len0,replace=True,random_state=3)\n",
    "Xytrain_os=pd.concat([Xytrain1_os,Xytrain0],axis=0)\n",
    "\n",
    "print(\"After oversampling : \",'\\n',Xytrain_os['TenYearCHD'].value_counts())\n",
    "\n",
    "x_train_os=Xytrain_os.drop(['TenYearCHD'],axis=1)\n",
    "y_train_os=Xytrain_os['TenYearCHD']\n"
   ]
  },
  {
   "cell_type": "code",
   "execution_count": 22,
   "metadata": {},
   "outputs": [
    {
     "name": "stdout",
     "output_type": "stream",
     "text": [
      "Confusion matrix-Train \n",
      " [[1717  816]\n",
      " [ 797 1736]]\n",
      "Overall Accuracy -Train 0.6816028424792736\n",
      "AUC - Train 0.7350937619475042\n",
      "TEST\n",
      "Confusion matrix-Test \n",
      " [[719 344]\n",
      " [ 71 138]]\n",
      "Overall Accuracy -Test 0.6737421383647799\n",
      "AUC - Test 0.7098173896213208\n"
     ]
    },
    {
     "data": {
      "image/png": "[encoded data removed]",
      "text/plain": [
       "<Figure size 432x288 with 1 Axes>"
      ]
     },
     "metadata": {
      "needs_background": "light"
     },
     "output_type": "display_data"
    }
   ],
   "source": [
    "model_eval(lr,x_train_os,y_train_os,X_test,y_test)"
   ]
  },
  {
   "cell_type": "code",
   "execution_count": 23,
   "metadata": {},
   "outputs": [],
   "source": [
    "from imblearn.over_sampling import SMOTE\n",
    "smote=SMOTE(sampling_strategy='minority',random_state=3)\n",
    "X_train_sm,y_train_sm=smote.fit_sample(X_train,y_train)"
   ]
  },
  {
   "cell_type": "code",
   "execution_count": 24,
   "metadata": {},
   "outputs": [
    {
     "data": {
      "text/plain": [
       "1    2533\n",
       "0    2533\n",
       "Name: TenYearCHD, dtype: int64"
      ]
     },
     "execution_count": 24,
     "metadata": {},
     "output_type": "execute_result"
    }
   ],
   "source": [
    "y_train_sm.value_counts()"
   ]
  },
  {
   "cell_type": "code",
   "execution_count": 25,
   "metadata": {},
   "outputs": [
    {
     "name": "stdout",
     "output_type": "stream",
     "text": [
      "Confusion matrix-Train \n",
      " [[1724  809]\n",
      " [ 770 1763]]\n",
      "Overall Accuracy -Train 0.6883142518752468\n",
      "AUC - Train 0.7501398437584017\n",
      "TEST\n",
      "Confusion matrix-Test \n",
      " [[714 349]\n",
      " [ 97 112]]\n",
      "Overall Accuracy -Test 0.64937106918239\n",
      "AUC - Test 0.6513793677728915\n"
     ]
    },
    {
     "data": {
      "image/png": "[encoded data removed]",
      "text/plain": [
       "<Figure size 432x288 with 1 Axes>"
      ]
     },
     "metadata": {
      "needs_background": "light"
     },
     "output_type": "display_data"
    }
   ],
   "source": [
    "model_eval(lr,X_train_sm,y_train_sm,X_test,y_test)"
   ]
  },
  {
   "cell_type": "code",
   "execution_count": null,
   "metadata": {},
   "outputs": [],
   "source": []
  },
  {
   "cell_type": "code",
   "execution_count": null,
   "metadata": {},
   "outputs": [],
   "source": []
  },
  {
   "cell_type": "code",
   "execution_count": null,
   "metadata": {},
   "outputs": [],
   "source": []
  },
  {
   "cell_type": "code",
   "execution_count": null,
   "metadata": {},
   "outputs": [],
   "source": []
  },
  {
   "cell_type": "code",
   "execution_count": null,
   "metadata": {},
   "outputs": [],
   "source": []
  },
  {
   "cell_type": "code",
   "execution_count": null,
   "metadata": {},
   "outputs": [],
   "source": []
  },
  {
   "cell_type": "code",
   "execution_count": null,
   "metadata": {},
   "outputs": [],
   "source": []
  },
  {
   "cell_type": "code",
   "execution_count": null,
   "metadata": {},
   "outputs": [],
   "source": []
  },
  {
   "cell_type": "code",
   "execution_count": null,
   "metadata": {},
   "outputs": [],
   "source": []
  },
  {
   "cell_type": "code",
   "execution_count": null,
   "metadata": {},
   "outputs": [],
   "source": []
  },
  {
   "cell_type": "code",
   "execution_count": null,
   "metadata": {},
   "outputs": [],
   "source": []
  },
  {
   "cell_type": "code",
   "execution_count": null,
   "metadata": {},
   "outputs": [],
   "source": []
  },
  {
   "cell_type": "code",
   "execution_count": null,
   "metadata": {},
   "outputs": [],
   "source": []
  },
  {
   "cell_type": "code",
   "execution_count": null,
   "metadata": {},
   "outputs": [],
   "source": []
  },
  {
   "cell_type": "code",
   "execution_count": null,
   "metadata": {},
   "outputs": [],
   "source": []
  }
 ],
 "metadata": {
  "kernelspec": {
   "display_name": "Python 3",
   "language": "python",
   "name": "python3"
  },
  "language_info": {
   "codemirror_mode": {
    "name": "ipython",
    "version": 3
   },
   "file_extension": ".py",
   "mimetype": "text/x-python",
   "name": "python",
   "nbconvert_exporter": "python",
   "pygments_lexer": "ipython3",
   "version": "3.7.4"
  }
 },
 "nbformat": 4,
 "nbformat_minor": 2
}
