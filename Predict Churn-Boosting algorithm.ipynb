{
 "cells": [
  {
   "cell_type": "code",
   "execution_count": 1,
   "metadata": {},
   "outputs": [],
   "source": [
    "import pandas as pd\n",
    "import numpy as np\n",
    "import matplotlib.pyplot as plt\n",
    "import seaborn as sns\n"
   ]
  },
  {
   "cell_type": "code",
   "execution_count": 2,
   "metadata": {},
   "outputs": [],
   "source": [
    "df=pd.read_csv(\"C:\\\\Users\\\\Shruti Udagire\\\\Supervised_Categorical\\\\Files\\\\telco_chrun_encoded.csv\")\n"
   ]
  },
  {
   "cell_type": "code",
   "execution_count": 3,
   "metadata": {},
   "outputs": [
    {
     "data": {
      "text/html": [
       "<div>\n",
       "<style scoped>\n",
       "    .dataframe tbody tr th:only-of-type {\n",
       "        vertical-align: middle;\n",
       "    }\n",
       "\n",
       "    .dataframe tbody tr th {\n",
       "        vertical-align: top;\n",
       "    }\n",
       "\n",
       "    .dataframe thead th {\n",
       "        text-align: right;\n",
       "    }\n",
       "</style>\n",
       "<table border=\"1\" class=\"dataframe\">\n",
       "  <thead>\n",
       "    <tr style=\"text-align: right;\">\n",
       "      <th></th>\n",
       "      <th>gender</th>\n",
       "      <th>senior</th>\n",
       "      <th>partner</th>\n",
       "      <th>dependents</th>\n",
       "      <th>tenure</th>\n",
       "      <th>phone_service</th>\n",
       "      <th>multiple_lines</th>\n",
       "      <th>online_security</th>\n",
       "      <th>online_backup</th>\n",
       "      <th>device_protection</th>\n",
       "      <th>...</th>\n",
       "      <th>total_charges</th>\n",
       "      <th>churn</th>\n",
       "      <th>avg_monthly_charges</th>\n",
       "      <th>internet_service-fiber_optic</th>\n",
       "      <th>internet_service-no</th>\n",
       "      <th>contract-one_year</th>\n",
       "      <th>contract-two_year</th>\n",
       "      <th>payment_method-credit_card_auto</th>\n",
       "      <th>payment_method-electronic_check</th>\n",
       "      <th>payment_method-mailed_check</th>\n",
       "    </tr>\n",
       "  </thead>\n",
       "  <tbody>\n",
       "    <tr>\n",
       "      <td>0</td>\n",
       "      <td>1</td>\n",
       "      <td>0</td>\n",
       "      <td>1</td>\n",
       "      <td>0</td>\n",
       "      <td>1</td>\n",
       "      <td>0</td>\n",
       "      <td>0</td>\n",
       "      <td>0</td>\n",
       "      <td>1</td>\n",
       "      <td>0</td>\n",
       "      <td>...</td>\n",
       "      <td>29.85</td>\n",
       "      <td>0</td>\n",
       "      <td>29.850000</td>\n",
       "      <td>0</td>\n",
       "      <td>0</td>\n",
       "      <td>0</td>\n",
       "      <td>0</td>\n",
       "      <td>0</td>\n",
       "      <td>1</td>\n",
       "      <td>0</td>\n",
       "    </tr>\n",
       "    <tr>\n",
       "      <td>1</td>\n",
       "      <td>0</td>\n",
       "      <td>0</td>\n",
       "      <td>0</td>\n",
       "      <td>0</td>\n",
       "      <td>34</td>\n",
       "      <td>1</td>\n",
       "      <td>0</td>\n",
       "      <td>1</td>\n",
       "      <td>0</td>\n",
       "      <td>1</td>\n",
       "      <td>...</td>\n",
       "      <td>1889.50</td>\n",
       "      <td>0</td>\n",
       "      <td>55.573529</td>\n",
       "      <td>0</td>\n",
       "      <td>0</td>\n",
       "      <td>1</td>\n",
       "      <td>0</td>\n",
       "      <td>0</td>\n",
       "      <td>0</td>\n",
       "      <td>1</td>\n",
       "    </tr>\n",
       "  </tbody>\n",
       "</table>\n",
       "<p>2 rows × 25 columns</p>\n",
       "</div>"
      ],
      "text/plain": [
       "   gender  senior  partner  dependents  tenure  phone_service  multiple_lines  \\\n",
       "0       1       0        1           0       1              0               0   \n",
       "1       0       0        0           0      34              1               0   \n",
       "\n",
       "   online_security  online_backup  device_protection  ...  total_charges  \\\n",
       "0                0              1                  0  ...          29.85   \n",
       "1                1              0                  1  ...        1889.50   \n",
       "\n",
       "   churn  avg_monthly_charges  internet_service-fiber_optic  \\\n",
       "0      0            29.850000                             0   \n",
       "1      0            55.573529                             0   \n",
       "\n",
       "   internet_service-no  contract-one_year  contract-two_year  \\\n",
       "0                    0                  0                  0   \n",
       "1                    0                  1                  0   \n",
       "\n",
       "   payment_method-credit_card_auto  payment_method-electronic_check  \\\n",
       "0                                0                                1   \n",
       "1                                0                                0   \n",
       "\n",
       "   payment_method-mailed_check  \n",
       "0                            0  \n",
       "1                            1  \n",
       "\n",
       "[2 rows x 25 columns]"
      ]
     },
     "execution_count": 3,
     "metadata": {},
     "output_type": "execute_result"
    }
   ],
   "source": [
    "df.head(2)"
   ]
  },
  {
   "cell_type": "code",
   "execution_count": 4,
   "metadata": {},
   "outputs": [
    {
     "data": {
      "text/plain": [
       "Index(['gender', 'senior', 'partner', 'dependents', 'tenure', 'phone_service',\n",
       "       'multiple_lines', 'online_security', 'online_backup',\n",
       "       'device_protection', 'tech_support', 'streaming_tv', 'streaming_movies',\n",
       "       'paperless_billing', 'monthly_charges', 'total_charges', 'churn',\n",
       "       'avg_monthly_charges', 'internet_service-fiber_optic',\n",
       "       'internet_service-no', 'contract-one_year', 'contract-two_year',\n",
       "       'payment_method-credit_card_auto', 'payment_method-electronic_check',\n",
       "       'payment_method-mailed_check'],\n",
       "      dtype='object')"
      ]
     },
     "execution_count": 4,
     "metadata": {},
     "output_type": "execute_result"
    }
   ],
   "source": [
    "df.columns"
   ]
  },
  {
   "cell_type": "code",
   "execution_count": 5,
   "metadata": {},
   "outputs": [
    {
     "data": {
      "text/plain": [
       "0    5163\n",
       "1    1869\n",
       "Name: churn, dtype: int64"
      ]
     },
     "execution_count": 5,
     "metadata": {},
     "output_type": "execute_result"
    }
   ],
   "source": [
    "df['churn'].value_counts()"
   ]
  },
  {
   "cell_type": "code",
   "execution_count": 6,
   "metadata": {},
   "outputs": [
    {
     "data": {
      "text/plain": [
       "<matplotlib.axes._subplots.AxesSubplot at 0x18c8f1f5b48>"
      ]
     },
     "execution_count": 6,
     "metadata": {},
     "output_type": "execute_result"
    },
    {
     "data": {
      "image/png": "[encoded data removed]",
      "text/plain": [
       "<Figure size 432x288 with 1 Axes>"
      ]
     },
     "metadata": {
      "needs_background": "light"
     },
     "output_type": "display_data"
    }
   ],
   "source": [
    "\n",
    "df['churn'].value_counts(normalize=True).plot(kind='bar')"
   ]
  },
  {
   "cell_type": "code",
   "execution_count": 7,
   "metadata": {},
   "outputs": [
    {
     "data": {
      "text/plain": [
       "gender                             0\n",
       "senior                             0\n",
       "partner                            0\n",
       "dependents                         0\n",
       "tenure                             0\n",
       "phone_service                      0\n",
       "multiple_lines                     0\n",
       "online_security                    0\n",
       "online_backup                      0\n",
       "device_protection                  0\n",
       "tech_support                       0\n",
       "streaming_tv                       0\n",
       "streaming_movies                   0\n",
       "paperless_billing                  0\n",
       "monthly_charges                    0\n",
       "total_charges                      0\n",
       "churn                              0\n",
       "avg_monthly_charges                0\n",
       "internet_service-fiber_optic       0\n",
       "internet_service-no                0\n",
       "contract-one_year                  0\n",
       "contract-two_year                  0\n",
       "payment_method-credit_card_auto    0\n",
       "payment_method-electronic_check    0\n",
       "payment_method-mailed_check        0\n",
       "dtype: int64"
      ]
     },
     "execution_count": 7,
     "metadata": {},
     "output_type": "execute_result"
    }
   ],
   "source": [
    "df.isnull().sum()"
   ]
  },
  {
   "cell_type": "code",
   "execution_count": 8,
   "metadata": {},
   "outputs": [],
   "source": [
    "df=df.sample(frac=1,random_state=3)\n",
    "y=df['churn']\n",
    "X=df.drop('churn',axis=1)"
   ]
  },
  {
   "cell_type": "code",
   "execution_count": 9,
   "metadata": {},
   "outputs": [],
   "source": [
    "from sklearn.model_selection import train_test_split\n",
    "X_train, X_test, y_train, y_test = train_test_split(X, y, test_size=0.30, random_state=3)"
   ]
  },
  {
   "cell_type": "code",
   "execution_count": 10,
   "metadata": {},
   "outputs": [],
   "source": [
    "#ADABOOST Classifier"
   ]
  },
  {
   "cell_type": "code",
   "execution_count": 11,
   "metadata": {},
   "outputs": [
    {
     "data": {
      "text/plain": [
       "AdaBoostClassifier(algorithm='SAMME.R', base_estimator=None, learning_rate=1.0,\n",
       "                   n_estimators=50, random_state=3)"
      ]
     },
     "execution_count": 11,
     "metadata": {},
     "output_type": "execute_result"
    }
   ],
   "source": [
    "from sklearn.ensemble import AdaBoostClassifier\n",
    "ada=AdaBoostClassifier(random_state=3)\n",
    "ada.fit(X_train,y_train)"
   ]
  },
  {
   "cell_type": "code",
   "execution_count": 12,
   "metadata": {},
   "outputs": [
    {
     "name": "stdout",
     "output_type": "stream",
     "text": [
      "Overall Accuracy -Train 0.8108492482730597\n",
      "Confusion matrix-Train \n",
      " [[3235  356]\n",
      " [ 575  756]]\n",
      "AUC - Train 0.8626860790845132\n",
      "-------------------------------------------------------------------------\n",
      "Overall Accuracy -Test 0.8080568720379147\n",
      "Confusion matrix-Test \n",
      " [[1412  160]\n",
      " [ 245  293]]\n",
      "AUC - Test 0.8384466311000124\n"
     ]
    },
    {
     "data": {
      "text/plain": [
       "Text(0, 0.5, 'TPR')"
      ]
     },
     "execution_count": 12,
     "metadata": {},
     "output_type": "execute_result"
    },
    {
     "data": {
      "image/png": "[encoded data removed]",
      "text/plain": [
       "<Figure size 432x288 with 1 Axes>"
      ]
     },
     "metadata": {
      "needs_background": "light"
     },
     "output_type": "display_data"
    }
   ],
   "source": [
    "from sklearn.metrics import confusion_matrix,accuracy_score,roc_auc_score,roc_curve\n",
    "y_train_predict=ada.predict(X_train)\n",
    "y_train_prob=ada.predict_proba(X_train)[:,-1]\n",
    "y_train_predict\n",
    "print('Overall Accuracy -Train',accuracy_score(y_train,y_train_predict))\n",
    "print('Confusion matrix-Train','\\n',confusion_matrix(y_train,y_train_predict))\n",
    "print('AUC - Train',roc_auc_score(y_train,y_train_prob))\n",
    "print(\"-------------------------------------------------------------------------\")\n",
    "\n",
    "y_test_pred=ada.predict(X_test)\n",
    "y_test_prob=ada.predict_proba(X_test)[:,-1]\n",
    "print('Overall Accuracy -Test',accuracy_score(y_test,y_test_pred))\n",
    "print('Confusion matrix-Test','\\n',confusion_matrix(y_test,y_test_pred))\n",
    "print('AUC - Test',roc_auc_score(y_test,y_test_prob))\n",
    "\n",
    "fpr,tpr,thresholds=roc_curve(y_test,y_test_prob)\n",
    "plt.plot(fpr,tpr)\n",
    "plt.plot(fpr,fpr)\n",
    "plt.xlabel('FPR')\n",
    "plt.ylabel('TPR')"
   ]
  },
  {
   "cell_type": "code",
   "execution_count": null,
   "metadata": {},
   "outputs": [],
   "source": [
    "#lightgbm classifier"
   ]
  },
  {
   "cell_type": "code",
   "execution_count": 20,
   "metadata": {},
   "outputs": [],
   "source": [
    "import lightgbm as lgb\n",
    "lgbm=lgb.LGBMClassifier()"
   ]
  },
  {
   "cell_type": "code",
   "execution_count": 25,
   "metadata": {},
   "outputs": [
    {
     "data": {
      "text/plain": [
       "RandomizedSearchCV(cv=3, error_score=nan,\n",
       "                   estimator=LGBMClassifier(boosting_type='gbdt',\n",
       "                                            class_weight=None,\n",
       "                                            colsample_bytree=1.0,\n",
       "                                            importance_type='split',\n",
       "                                            learning_rate=0.1, max_depth=-1,\n",
       "                                            min_child_samples=20,\n",
       "                                            min_child_weight=0.001,\n",
       "                                            min_split_gain=0.0,\n",
       "                                            n_estimators=100, n_jobs=-1,\n",
       "                                            num_leaves=31, objective=None,\n",
       "                                            random_state=None, reg_alpha=0.0,\n",
       "                                            reg_lambda=0.0, sile...\n",
       "                                        'max_depth': <scipy.stats._distn_infrastructure.rv_frozen object at 0x0000026D78226C48>,\n",
       "                                        'n_estimators': <scipy.stats._distn_infrastructure.rv_frozen object at 0x0000026D78226908>,\n",
       "                                        'num_leaves': <scipy.stats._distn_infrastructure.rv_frozen object at 0x0000026D78205D88>},\n",
       "                   pre_dispatch='2*n_jobs', random_state=3, refit=True,\n",
       "                   return_train_score=False, scoring=None, verbose=0)"
      ]
     },
     "execution_count": 25,
     "metadata": {},
     "output_type": "execute_result"
    }
   ],
   "source": [
    "from sklearn.model_selection import RandomizedSearchCV\n",
    "from scipy.stats import randint as sp_randint\n",
    "from scipy.stats import uniform as sp_uniform\n",
    "\n",
    "params={\"n_estimators\":sp_randint(50,200),\n",
    "        'max_depth':sp_randint(2,15),\n",
    "        'learning_rate':sp_uniform(0.001,0.05),\n",
    "        \"num_leaves\":sp_randint(20,50)\n",
    "}\n",
    "rsearch=RandomizedSearchCV(lgbm,param_distributions=params,cv=3,n_iter=200,n_jobs=-1,random_state=3)\n",
    "rsearch.fit(X,y)"
   ]
  },
  {
   "cell_type": "code",
   "execution_count": 26,
   "metadata": {},
   "outputs": [
    {
     "data": {
      "text/plain": [
       "{'learning_rate': 0.03355613852207997,\n",
       " 'max_depth': 6,\n",
       " 'n_estimators': 113,\n",
       " 'num_leaves': 29}"
      ]
     },
     "execution_count": 26,
     "metadata": {},
     "output_type": "execute_result"
    }
   ],
   "source": [
    "rsearch.best_params_"
   ]
  },
  {
   "cell_type": "code",
   "execution_count": 30,
   "metadata": {},
   "outputs": [
    {
     "data": {
      "text/plain": [
       "LGBMClassifier(boosting_type='gbdt', class_weight=None, colsample_bytree=1.0,\n",
       "               importance_type='split', learning_rate=0.03355613852207997,\n",
       "               max_depth=6, min_child_samples=20, min_child_weight=0.001,\n",
       "               min_split_gain=0.0, n_estimators=113, n_jobs=-1, num_leaves=29,\n",
       "               objective=None, random_state=None, reg_alpha=0.0, reg_lambda=0.0,\n",
       "               silent=True, subsample=1.0, subsample_for_bin=200000,\n",
       "               subsample_freq=0)"
      ]
     },
     "execution_count": 30,
     "metadata": {},
     "output_type": "execute_result"
    }
   ],
   "source": [
    "lgbm=lgb.LGBMClassifier(**rsearch.best_params_)\n",
    "lgbm.fit(X_train,y_train)"
   ]
  },
  {
   "cell_type": "code",
   "execution_count": 31,
   "metadata": {},
   "outputs": [
    {
     "name": "stdout",
     "output_type": "stream",
     "text": [
      "Overall Accuracy -Train 0.8350264120276311\n",
      "Confusion matrix-Train \n",
      " [[3304  287]\n",
      " [ 525  806]]\n",
      "AUC - Train 0.9001613307833404\n"
     ]
    }
   ],
   "source": [
    "y_train_predict=lgbm.predict(X_train)\n",
    "y_train_prob=lgbm.predict_proba(X_train)[:,-1]\n",
    "y_train_predict\n",
    "print('Overall Accuracy -Train',accuracy_score(y_train,y_train_predict))\n",
    "print('Confusion matrix-Train','\\n',confusion_matrix(y_train,y_train_predict))\n",
    "print('AUC - Train',roc_auc_score(y_train,y_train_prob))"
   ]
  },
  {
   "cell_type": "code",
   "execution_count": 33,
   "metadata": {},
   "outputs": [
    {
     "name": "stdout",
     "output_type": "stream",
     "text": [
      "Overall Accuracy -Test 0.809478672985782\n",
      "Confusion matrix-Test \n",
      " [[1422  150]\n",
      " [ 252  286]]\n",
      "AUC - Test 0.8452318453985639\n"
     ]
    }
   ],
   "source": [
    "y_test_pred=lgbm.predict(X_test)\n",
    "y_test_prob=lgbm.predict_proba(X_test)[:,-1]\n",
    "print('Overall Accuracy -Test',accuracy_score(y_test,y_test_pred))\n",
    "print('Confusion matrix-Test','\\n',confusion_matrix(y_test,y_test_pred))\n",
    "print('AUC - Test',roc_auc_score(y_test,y_test_prob))"
   ]
  },
  {
   "cell_type": "code",
   "execution_count": 34,
   "metadata": {},
   "outputs": [
    {
     "data": {
      "text/plain": [
       "Text(0, 0.5, 'TPR')"
      ]
     },
     "execution_count": 34,
     "metadata": {},
     "output_type": "execute_result"
    },
    {
     "data": {
      "image/png": "[encoded data removed]",
      "text/plain": [
       "<Figure size 432x288 with 1 Axes>"
      ]
     },
     "metadata": {
      "needs_background": "light"
     },
     "output_type": "display_data"
    }
   ],
   "source": [
    "fpr,tpr,thresholds=roc_curve(y_test,y_test_prob)\n",
    "plt.plot(fpr,tpr)\n",
    "plt.plot(fpr,fpr)\n",
    "plt.xlabel('FPR')\n",
    "plt.ylabel('TPR')"
   ]
  },
  {
   "cell_type": "code",
   "execution_count": null,
   "metadata": {},
   "outputs": [],
   "source": []
  }
 ],
 "metadata": {
  "kernelspec": {
   "display_name": "Python 3",
   "language": "python",
   "name": "python3"
  },
  "language_info": {
   "codemirror_mode": {
    "name": "ipython",
    "version": 3
   },
   "file_extension": ".py",
   "mimetype": "text/x-python",
   "name": "python",
   "nbconvert_exporter": "python",
   "pygments_lexer": "ipython3",
   "version": "3.7.4"
  }
 },
 "nbformat": 4,
 "nbformat_minor": 2
}
