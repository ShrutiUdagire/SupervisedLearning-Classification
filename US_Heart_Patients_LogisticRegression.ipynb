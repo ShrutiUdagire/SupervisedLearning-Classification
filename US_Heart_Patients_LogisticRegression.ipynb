{
  "nbformat": 4,
  "nbformat_minor": 0,
  "metadata": {
    "colab": {
      "name": "US_Heart_Patients.ipynb",
      "provenance": [],
      "collapsed_sections": [],
      "authorship_tag": "ABX9TyNc0uq+gS07ZVESdlxk3JoF",
      "include_colab_link": true
    },
    "kernelspec": {
      "name": "python3",
      "display_name": "Python 3"
    }
  },
  "cells": [
    {
      "cell_type": "markdown",
      "metadata": {
        "id": "view-in-github",
        "colab_type": "text"
      },
      "source": [
        "<a href=\"https://colab.research.google.com/github/ShrutiUdagire/SupervisedLearning-Classification/blob/master/US_Heart_Patients_LogisticRegression.ipynb\" target=\"_parent\"><img src=\"https://colab.research.google.com/assets/colab-badge.svg\" alt=\"Open In Colab\"/></a>"
      ]
    },
    {
      "cell_type": "code",
      "metadata": {
        "id": "MsK2pvds_Umf",
        "colab_type": "code",
        "colab": {
          "base_uri": "https://localhost:8080/",
          "height": 154
        },
        "outputId": "88bbdaaf-2481-407d-9094-ba6384bcc523"
      },
      "source": [
        "import numpy as np\n",
        "import matplotlib.pyplot as plt\n",
        "import seaborn as sns\n",
        "import statsmodels.api as sm\n",
        "sns.set(style='darkgrid')\n",
        "import pandas as pd\n",
        "from google.colab import drive\n",
        "drive.mount('/content/drive')"
      ],
      "execution_count": null,
      "outputs": [
        {
          "output_type": "stream",
          "text": [
            "/usr/local/lib/python3.6/dist-packages/statsmodels/tools/_testing.py:19: FutureWarning: pandas.util.testing is deprecated. Use the functions in the public API at pandas.testing instead.\n",
            "  import pandas.util.testing as tm\n"
          ],
          "name": "stderr"
        },
        {
          "output_type": "stream",
          "text": [
            "Go to this URL in a browser: https://accounts.google.com/o/oauth2/auth?client_id=947318989803-6bn6qk8qdgf4n4g3pfee6491hc0brc4i.apps.googleusercontent.com&redirect_uri=urn%3aietf%3awg%3aoauth%3a2.0%3aoob&response_type=code&scope=email%20https%3a%2f%2fwww.googleapis.com%2fauth%2fdocs.test%20https%3a%2f%2fwww.googleapis.com%2fauth%2fdrive%20https%3a%2f%2fwww.googleapis.com%2fauth%2fdrive.photos.readonly%20https%3a%2f%2fwww.googleapis.com%2fauth%2fpeopleapi.readonly\n",
            "\n",
            "Enter your authorization code:\n",
            "··········\n",
            "Mounted at /content/drive\n"
          ],
          "name": "stdout"
        }
      ]
    },
    {
      "cell_type": "code",
      "metadata": {
        "id": "tjm2cU4f_dAl",
        "colab_type": "code",
        "colab": {}
      },
      "source": [
        "df=pd.read_csv(\"/content/drive/My Drive/Categorical/Files/US_Heart_Patients.csv\")"
      ],
      "execution_count": null,
      "outputs": []
    },
    {
      "cell_type": "code",
      "metadata": {
        "id": "J9sJQ01e_ukh",
        "colab_type": "code",
        "colab": {
          "base_uri": "https://localhost:8080/",
          "height": 34
        },
        "outputId": "ceb945a6-f6f4-4985-941c-809603bcc556"
      },
      "source": [
        "df.shape"
      ],
      "execution_count": null,
      "outputs": [
        {
          "output_type": "execute_result",
          "data": {
            "text/plain": [
              "(4240, 16)"
            ]
          },
          "metadata": {
            "tags": []
          },
          "execution_count": 3
        }
      ]
    },
    {
      "cell_type": "code",
      "metadata": {
        "id": "NneyqK9J_7CB",
        "colab_type": "code",
        "colab": {
          "base_uri": "https://localhost:8080/",
          "height": 195
        },
        "outputId": "1573b69e-5493-45d6-f9a1-49543966e560"
      },
      "source": [
        "df.head()"
      ],
      "execution_count": null,
      "outputs": [
        {
          "output_type": "execute_result",
          "data": {
            "text/html": [
              "<div>\n",
              "<style scoped>\n",
              "    .dataframe tbody tr th:only-of-type {\n",
              "        vertical-align: middle;\n",
              "    }\n",
              "\n",
              "    .dataframe tbody tr th {\n",
              "        vertical-align: top;\n",
              "    }\n",
              "\n",
              "    .dataframe thead th {\n",
              "        text-align: right;\n",
              "    }\n",
              "</style>\n",
              "<table border=\"1\" class=\"dataframe\">\n",
              "  <thead>\n",
              "    <tr style=\"text-align: right;\">\n",
              "      <th></th>\n",
              "      <th>male</th>\n",
              "      <th>age</th>\n",
              "      <th>education</th>\n",
              "      <th>currentSmoker</th>\n",
              "      <th>cigsPerDay</th>\n",
              "      <th>BPMeds</th>\n",
              "      <th>prevalentStroke</th>\n",
              "      <th>prevalentHyp</th>\n",
              "      <th>diabetes</th>\n",
              "      <th>totChol</th>\n",
              "      <th>sysBP</th>\n",
              "      <th>diaBP</th>\n",
              "      <th>BMI</th>\n",
              "      <th>heartRate</th>\n",
              "      <th>glucose</th>\n",
              "      <th>TenYearCHD</th>\n",
              "    </tr>\n",
              "  </thead>\n",
              "  <tbody>\n",
              "    <tr>\n",
              "      <th>0</th>\n",
              "      <td>1</td>\n",
              "      <td>39</td>\n",
              "      <td>4.0</td>\n",
              "      <td>0</td>\n",
              "      <td>0.0</td>\n",
              "      <td>0.0</td>\n",
              "      <td>0</td>\n",
              "      <td>0</td>\n",
              "      <td>0</td>\n",
              "      <td>195.0</td>\n",
              "      <td>106.0</td>\n",
              "      <td>70.0</td>\n",
              "      <td>26.97</td>\n",
              "      <td>80.0</td>\n",
              "      <td>77.0</td>\n",
              "      <td>0</td>\n",
              "    </tr>\n",
              "    <tr>\n",
              "      <th>1</th>\n",
              "      <td>0</td>\n",
              "      <td>46</td>\n",
              "      <td>2.0</td>\n",
              "      <td>0</td>\n",
              "      <td>0.0</td>\n",
              "      <td>0.0</td>\n",
              "      <td>0</td>\n",
              "      <td>0</td>\n",
              "      <td>0</td>\n",
              "      <td>250.0</td>\n",
              "      <td>121.0</td>\n",
              "      <td>81.0</td>\n",
              "      <td>28.73</td>\n",
              "      <td>95.0</td>\n",
              "      <td>76.0</td>\n",
              "      <td>0</td>\n",
              "    </tr>\n",
              "    <tr>\n",
              "      <th>2</th>\n",
              "      <td>1</td>\n",
              "      <td>48</td>\n",
              "      <td>1.0</td>\n",
              "      <td>1</td>\n",
              "      <td>20.0</td>\n",
              "      <td>0.0</td>\n",
              "      <td>0</td>\n",
              "      <td>0</td>\n",
              "      <td>0</td>\n",
              "      <td>245.0</td>\n",
              "      <td>127.5</td>\n",
              "      <td>80.0</td>\n",
              "      <td>25.34</td>\n",
              "      <td>75.0</td>\n",
              "      <td>70.0</td>\n",
              "      <td>0</td>\n",
              "    </tr>\n",
              "    <tr>\n",
              "      <th>3</th>\n",
              "      <td>0</td>\n",
              "      <td>61</td>\n",
              "      <td>3.0</td>\n",
              "      <td>1</td>\n",
              "      <td>30.0</td>\n",
              "      <td>0.0</td>\n",
              "      <td>0</td>\n",
              "      <td>1</td>\n",
              "      <td>0</td>\n",
              "      <td>225.0</td>\n",
              "      <td>150.0</td>\n",
              "      <td>95.0</td>\n",
              "      <td>28.58</td>\n",
              "      <td>65.0</td>\n",
              "      <td>103.0</td>\n",
              "      <td>1</td>\n",
              "    </tr>\n",
              "    <tr>\n",
              "      <th>4</th>\n",
              "      <td>0</td>\n",
              "      <td>46</td>\n",
              "      <td>3.0</td>\n",
              "      <td>1</td>\n",
              "      <td>23.0</td>\n",
              "      <td>0.0</td>\n",
              "      <td>0</td>\n",
              "      <td>0</td>\n",
              "      <td>0</td>\n",
              "      <td>285.0</td>\n",
              "      <td>130.0</td>\n",
              "      <td>84.0</td>\n",
              "      <td>23.10</td>\n",
              "      <td>85.0</td>\n",
              "      <td>85.0</td>\n",
              "      <td>0</td>\n",
              "    </tr>\n",
              "  </tbody>\n",
              "</table>\n",
              "</div>"
            ],
            "text/plain": [
              "   male  age  education  currentSmoker  ...    BMI  heartRate  glucose  TenYearCHD\n",
              "0     1   39        4.0              0  ...  26.97       80.0     77.0           0\n",
              "1     0   46        2.0              0  ...  28.73       95.0     76.0           0\n",
              "2     1   48        1.0              1  ...  25.34       75.0     70.0           0\n",
              "3     0   61        3.0              1  ...  28.58       65.0    103.0           1\n",
              "4     0   46        3.0              1  ...  23.10       85.0     85.0           0\n",
              "\n",
              "[5 rows x 16 columns]"
            ]
          },
          "metadata": {
            "tags": []
          },
          "execution_count": 4
        }
      ]
    },
    {
      "cell_type": "code",
      "metadata": {
        "id": "NWfGesnVAYzX",
        "colab_type": "code",
        "colab": {
          "base_uri": "https://localhost:8080/",
          "height": 403
        },
        "outputId": "61f98fc2-a171-4e74-add3-b0978e9a6539"
      },
      "source": [
        "df.info()"
      ],
      "execution_count": null,
      "outputs": [
        {
          "output_type": "stream",
          "text": [
            "<class 'pandas.core.frame.DataFrame'>\n",
            "RangeIndex: 4240 entries, 0 to 4239\n",
            "Data columns (total 16 columns):\n",
            " #   Column           Non-Null Count  Dtype  \n",
            "---  ------           --------------  -----  \n",
            " 0   male             4240 non-null   int64  \n",
            " 1   age              4240 non-null   int64  \n",
            " 2   education        4135 non-null   float64\n",
            " 3   currentSmoker    4240 non-null   int64  \n",
            " 4   cigsPerDay       4211 non-null   float64\n",
            " 5   BPMeds           4187 non-null   float64\n",
            " 6   prevalentStroke  4240 non-null   int64  \n",
            " 7   prevalentHyp     4240 non-null   int64  \n",
            " 8   diabetes         4240 non-null   int64  \n",
            " 9   totChol          4190 non-null   float64\n",
            " 10  sysBP            4240 non-null   float64\n",
            " 11  diaBP            4240 non-null   float64\n",
            " 12  BMI              4221 non-null   float64\n",
            " 13  heartRate        4239 non-null   float64\n",
            " 14  glucose          3852 non-null   float64\n",
            " 15  TenYearCHD       4240 non-null   int64  \n",
            "dtypes: float64(9), int64(7)\n",
            "memory usage: 530.1 KB\n"
          ],
          "name": "stdout"
        }
      ]
    },
    {
      "cell_type": "code",
      "metadata": {
        "id": "zz725G2WBSZa",
        "colab_type": "code",
        "colab": {
          "base_uri": "https://localhost:8080/",
          "height": 302
        },
        "outputId": "761080db-b7a8-450f-e495-25b68da33a97"
      },
      "source": [
        "df.isnull().sum()"
      ],
      "execution_count": null,
      "outputs": [
        {
          "output_type": "execute_result",
          "data": {
            "text/plain": [
              "male                 0\n",
              "age                  0\n",
              "education          105\n",
              "currentSmoker        0\n",
              "cigsPerDay          29\n",
              "BPMeds              53\n",
              "prevalentStroke      0\n",
              "prevalentHyp         0\n",
              "diabetes             0\n",
              "totChol             50\n",
              "sysBP                0\n",
              "diaBP                0\n",
              "BMI                 19\n",
              "heartRate            1\n",
              "glucose            388\n",
              "TenYearCHD           0\n",
              "dtype: int64"
            ]
          },
          "metadata": {
            "tags": []
          },
          "execution_count": 6
        }
      ]
    },
    {
      "cell_type": "code",
      "metadata": {
        "id": "1-8Hi4woBbxH",
        "colab_type": "code",
        "colab": {
          "base_uri": "https://localhost:8080/",
          "height": 367
        },
        "outputId": "14cc09c8-5f0d-4dc9-eb19-9c9f350c2aac"
      },
      "source": [
        "sns.heatmap(df.isnull())"
      ],
      "execution_count": null,
      "outputs": [
        {
          "output_type": "execute_result",
          "data": {
            "text/plain": [
              "<matplotlib.axes._subplots.AxesSubplot at 0x7f9f65615ba8>"
            ]
          },
          "metadata": {
            "tags": []
          },
          "execution_count": 7
        },
        {
          "output_type": "display_data",
          "data": {
            "image/png": "[encoded data removed]",
            "text/plain": [
              "<Figure size 432x288 with 2 Axes>"
            ]
          },
          "metadata": {
            "tags": [],
            "needs_background": "light"
          }
        }
      ]
    },
    {
      "cell_type": "code",
      "metadata": {
        "id": "CIY4STFZBllR",
        "colab_type": "code",
        "colab": {
          "base_uri": "https://localhost:8080/",
          "height": 34
        },
        "outputId": "724cbb4c-1390-4a0f-e154-bb36abbc3b2f"
      },
      "source": [
        "df=df.dropna()\n",
        "df.shape"
      ],
      "execution_count": null,
      "outputs": [
        {
          "output_type": "execute_result",
          "data": {
            "text/plain": [
              "(3658, 16)"
            ]
          },
          "metadata": {
            "tags": []
          },
          "execution_count": 8
        }
      ]
    },
    {
      "cell_type": "code",
      "metadata": {
        "id": "Gl7pEf6UG4I5",
        "colab_type": "code",
        "colab": {
          "base_uri": "https://localhost:8080/",
          "height": 402
        },
        "outputId": "02297b8f-5c42-4ef6-9214-742a27c7e2af"
      },
      "source": [
        "df.rename(columns={'male':'Gender'},inplace=True)\n",
        "df"
      ],
      "execution_count": null,
      "outputs": [
        {
          "output_type": "execute_result",
          "data": {
            "text/html": [
              "<div>\n",
              "<style scoped>\n",
              "    .dataframe tbody tr th:only-of-type {\n",
              "        vertical-align: middle;\n",
              "    }\n",
              "\n",
              "    .dataframe tbody tr th {\n",
              "        vertical-align: top;\n",
              "    }\n",
              "\n",
              "    .dataframe thead th {\n",
              "        text-align: right;\n",
              "    }\n",
              "</style>\n",
              "<table border=\"1\" class=\"dataframe\">\n",
              "  <thead>\n",
              "    <tr style=\"text-align: right;\">\n",
              "      <th></th>\n",
              "      <th>Gender</th>\n",
              "      <th>age</th>\n",
              "      <th>education</th>\n",
              "      <th>currentSmoker</th>\n",
              "      <th>cigsPerDay</th>\n",
              "      <th>BPMeds</th>\n",
              "      <th>prevalentStroke</th>\n",
              "      <th>prevalentHyp</th>\n",
              "      <th>diabetes</th>\n",
              "      <th>totChol</th>\n",
              "      <th>sysBP</th>\n",
              "      <th>diaBP</th>\n",
              "      <th>BMI</th>\n",
              "      <th>heartRate</th>\n",
              "      <th>glucose</th>\n",
              "      <th>TenYearCHD</th>\n",
              "    </tr>\n",
              "  </thead>\n",
              "  <tbody>\n",
              "    <tr>\n",
              "      <th>0</th>\n",
              "      <td>1</td>\n",
              "      <td>39</td>\n",
              "      <td>4.0</td>\n",
              "      <td>0</td>\n",
              "      <td>0.0</td>\n",
              "      <td>0.0</td>\n",
              "      <td>0</td>\n",
              "      <td>0</td>\n",
              "      <td>0</td>\n",
              "      <td>195.0</td>\n",
              "      <td>106.0</td>\n",
              "      <td>70.0</td>\n",
              "      <td>26.97</td>\n",
              "      <td>80.0</td>\n",
              "      <td>77.0</td>\n",
              "      <td>0</td>\n",
              "    </tr>\n",
              "    <tr>\n",
              "      <th>1</th>\n",
              "      <td>0</td>\n",
              "      <td>46</td>\n",
              "      <td>2.0</td>\n",
              "      <td>0</td>\n",
              "      <td>0.0</td>\n",
              "      <td>0.0</td>\n",
              "      <td>0</td>\n",
              "      <td>0</td>\n",
              "      <td>0</td>\n",
              "      <td>250.0</td>\n",
              "      <td>121.0</td>\n",
              "      <td>81.0</td>\n",
              "      <td>28.73</td>\n",
              "      <td>95.0</td>\n",
              "      <td>76.0</td>\n",
              "      <td>0</td>\n",
              "    </tr>\n",
              "    <tr>\n",
              "      <th>2</th>\n",
              "      <td>1</td>\n",
              "      <td>48</td>\n",
              "      <td>1.0</td>\n",
              "      <td>1</td>\n",
              "      <td>20.0</td>\n",
              "      <td>0.0</td>\n",
              "      <td>0</td>\n",
              "      <td>0</td>\n",
              "      <td>0</td>\n",
              "      <td>245.0</td>\n",
              "      <td>127.5</td>\n",
              "      <td>80.0</td>\n",
              "      <td>25.34</td>\n",
              "      <td>75.0</td>\n",
              "      <td>70.0</td>\n",
              "      <td>0</td>\n",
              "    </tr>\n",
              "    <tr>\n",
              "      <th>3</th>\n",
              "      <td>0</td>\n",
              "      <td>61</td>\n",
              "      <td>3.0</td>\n",
              "      <td>1</td>\n",
              "      <td>30.0</td>\n",
              "      <td>0.0</td>\n",
              "      <td>0</td>\n",
              "      <td>1</td>\n",
              "      <td>0</td>\n",
              "      <td>225.0</td>\n",
              "      <td>150.0</td>\n",
              "      <td>95.0</td>\n",
              "      <td>28.58</td>\n",
              "      <td>65.0</td>\n",
              "      <td>103.0</td>\n",
              "      <td>1</td>\n",
              "    </tr>\n",
              "    <tr>\n",
              "      <th>4</th>\n",
              "      <td>0</td>\n",
              "      <td>46</td>\n",
              "      <td>3.0</td>\n",
              "      <td>1</td>\n",
              "      <td>23.0</td>\n",
              "      <td>0.0</td>\n",
              "      <td>0</td>\n",
              "      <td>0</td>\n",
              "      <td>0</td>\n",
              "      <td>285.0</td>\n",
              "      <td>130.0</td>\n",
              "      <td>84.0</td>\n",
              "      <td>23.10</td>\n",
              "      <td>85.0</td>\n",
              "      <td>85.0</td>\n",
              "      <td>0</td>\n",
              "    </tr>\n",
              "    <tr>\n",
              "      <th>...</th>\n",
              "      <td>...</td>\n",
              "      <td>...</td>\n",
              "      <td>...</td>\n",
              "      <td>...</td>\n",
              "      <td>...</td>\n",
              "      <td>...</td>\n",
              "      <td>...</td>\n",
              "      <td>...</td>\n",
              "      <td>...</td>\n",
              "      <td>...</td>\n",
              "      <td>...</td>\n",
              "      <td>...</td>\n",
              "      <td>...</td>\n",
              "      <td>...</td>\n",
              "      <td>...</td>\n",
              "      <td>...</td>\n",
              "    </tr>\n",
              "    <tr>\n",
              "      <th>4233</th>\n",
              "      <td>1</td>\n",
              "      <td>50</td>\n",
              "      <td>1.0</td>\n",
              "      <td>1</td>\n",
              "      <td>1.0</td>\n",
              "      <td>0.0</td>\n",
              "      <td>0</td>\n",
              "      <td>1</td>\n",
              "      <td>0</td>\n",
              "      <td>313.0</td>\n",
              "      <td>179.0</td>\n",
              "      <td>92.0</td>\n",
              "      <td>25.97</td>\n",
              "      <td>66.0</td>\n",
              "      <td>86.0</td>\n",
              "      <td>1</td>\n",
              "    </tr>\n",
              "    <tr>\n",
              "      <th>4234</th>\n",
              "      <td>1</td>\n",
              "      <td>51</td>\n",
              "      <td>3.0</td>\n",
              "      <td>1</td>\n",
              "      <td>43.0</td>\n",
              "      <td>0.0</td>\n",
              "      <td>0</td>\n",
              "      <td>0</td>\n",
              "      <td>0</td>\n",
              "      <td>207.0</td>\n",
              "      <td>126.5</td>\n",
              "      <td>80.0</td>\n",
              "      <td>19.71</td>\n",
              "      <td>65.0</td>\n",
              "      <td>68.0</td>\n",
              "      <td>0</td>\n",
              "    </tr>\n",
              "    <tr>\n",
              "      <th>4237</th>\n",
              "      <td>0</td>\n",
              "      <td>52</td>\n",
              "      <td>2.0</td>\n",
              "      <td>0</td>\n",
              "      <td>0.0</td>\n",
              "      <td>0.0</td>\n",
              "      <td>0</td>\n",
              "      <td>0</td>\n",
              "      <td>0</td>\n",
              "      <td>269.0</td>\n",
              "      <td>133.5</td>\n",
              "      <td>83.0</td>\n",
              "      <td>21.47</td>\n",
              "      <td>80.0</td>\n",
              "      <td>107.0</td>\n",
              "      <td>0</td>\n",
              "    </tr>\n",
              "    <tr>\n",
              "      <th>4238</th>\n",
              "      <td>1</td>\n",
              "      <td>40</td>\n",
              "      <td>3.0</td>\n",
              "      <td>0</td>\n",
              "      <td>0.0</td>\n",
              "      <td>0.0</td>\n",
              "      <td>0</td>\n",
              "      <td>1</td>\n",
              "      <td>0</td>\n",
              "      <td>185.0</td>\n",
              "      <td>141.0</td>\n",
              "      <td>98.0</td>\n",
              "      <td>25.60</td>\n",
              "      <td>67.0</td>\n",
              "      <td>72.0</td>\n",
              "      <td>0</td>\n",
              "    </tr>\n",
              "    <tr>\n",
              "      <th>4239</th>\n",
              "      <td>0</td>\n",
              "      <td>39</td>\n",
              "      <td>3.0</td>\n",
              "      <td>1</td>\n",
              "      <td>30.0</td>\n",
              "      <td>0.0</td>\n",
              "      <td>0</td>\n",
              "      <td>0</td>\n",
              "      <td>0</td>\n",
              "      <td>196.0</td>\n",
              "      <td>133.0</td>\n",
              "      <td>86.0</td>\n",
              "      <td>20.91</td>\n",
              "      <td>85.0</td>\n",
              "      <td>80.0</td>\n",
              "      <td>0</td>\n",
              "    </tr>\n",
              "  </tbody>\n",
              "</table>\n",
              "<p>3658 rows × 16 columns</p>\n",
              "</div>"
            ],
            "text/plain": [
              "      Gender  age  education  ...  heartRate  glucose  TenYearCHD\n",
              "0          1   39        4.0  ...       80.0     77.0           0\n",
              "1          0   46        2.0  ...       95.0     76.0           0\n",
              "2          1   48        1.0  ...       75.0     70.0           0\n",
              "3          0   61        3.0  ...       65.0    103.0           1\n",
              "4          0   46        3.0  ...       85.0     85.0           0\n",
              "...      ...  ...        ...  ...        ...      ...         ...\n",
              "4233       1   50        1.0  ...       66.0     86.0           1\n",
              "4234       1   51        3.0  ...       65.0     68.0           0\n",
              "4237       0   52        2.0  ...       80.0    107.0           0\n",
              "4238       1   40        3.0  ...       67.0     72.0           0\n",
              "4239       0   39        3.0  ...       85.0     80.0           0\n",
              "\n",
              "[3658 rows x 16 columns]"
            ]
          },
          "metadata": {
            "tags": []
          },
          "execution_count": 9
        }
      ]
    },
    {
      "cell_type": "code",
      "metadata": {
        "id": "dl-uZpquHFYk",
        "colab_type": "code",
        "colab": {
          "base_uri": "https://localhost:8080/",
          "height": 541
        },
        "outputId": "901780db-d547-4754-ff50-15111bca4aa2"
      },
      "source": [
        "df.corr()"
      ],
      "execution_count": null,
      "outputs": [
        {
          "output_type": "execute_result",
          "data": {
            "text/html": [
              "<div>\n",
              "<style scoped>\n",
              "    .dataframe tbody tr th:only-of-type {\n",
              "        vertical-align: middle;\n",
              "    }\n",
              "\n",
              "    .dataframe tbody tr th {\n",
              "        vertical-align: top;\n",
              "    }\n",
              "\n",
              "    .dataframe thead th {\n",
              "        text-align: right;\n",
              "    }\n",
              "</style>\n",
              "<table border=\"1\" class=\"dataframe\">\n",
              "  <thead>\n",
              "    <tr style=\"text-align: right;\">\n",
              "      <th></th>\n",
              "      <th>Gender</th>\n",
              "      <th>age</th>\n",
              "      <th>education</th>\n",
              "      <th>currentSmoker</th>\n",
              "      <th>cigsPerDay</th>\n",
              "      <th>BPMeds</th>\n",
              "      <th>prevalentStroke</th>\n",
              "      <th>prevalentHyp</th>\n",
              "      <th>diabetes</th>\n",
              "      <th>totChol</th>\n",
              "      <th>sysBP</th>\n",
              "      <th>diaBP</th>\n",
              "      <th>BMI</th>\n",
              "      <th>heartRate</th>\n",
              "      <th>glucose</th>\n",
              "      <th>TenYearCHD</th>\n",
              "    </tr>\n",
              "  </thead>\n",
              "  <tbody>\n",
              "    <tr>\n",
              "      <th>Gender</th>\n",
              "      <td>1.000000</td>\n",
              "      <td>-0.024412</td>\n",
              "      <td>0.017729</td>\n",
              "      <td>0.206114</td>\n",
              "      <td>0.330322</td>\n",
              "      <td>-0.052124</td>\n",
              "      <td>-0.002312</td>\n",
              "      <td>0.001424</td>\n",
              "      <td>0.013819</td>\n",
              "      <td>-0.070321</td>\n",
              "      <td>-0.045358</td>\n",
              "      <td>0.051872</td>\n",
              "      <td>0.073111</td>\n",
              "      <td>-0.115285</td>\n",
              "      <td>0.002940</td>\n",
              "      <td>0.091688</td>\n",
              "    </tr>\n",
              "    <tr>\n",
              "      <th>age</th>\n",
              "      <td>-0.024412</td>\n",
              "      <td>1.000000</td>\n",
              "      <td>-0.159499</td>\n",
              "      <td>-0.210771</td>\n",
              "      <td>-0.189295</td>\n",
              "      <td>0.134732</td>\n",
              "      <td>0.050893</td>\n",
              "      <td>0.306239</td>\n",
              "      <td>0.109092</td>\n",
              "      <td>0.268252</td>\n",
              "      <td>0.388267</td>\n",
              "      <td>0.208283</td>\n",
              "      <td>0.137511</td>\n",
              "      <td>-0.002722</td>\n",
              "      <td>0.118349</td>\n",
              "      <td>0.233983</td>\n",
              "    </tr>\n",
              "    <tr>\n",
              "      <th>education</th>\n",
              "      <td>0.017729</td>\n",
              "      <td>-0.159499</td>\n",
              "      <td>1.000000</td>\n",
              "      <td>0.025251</td>\n",
              "      <td>0.013790</td>\n",
              "      <td>-0.013739</td>\n",
              "      <td>-0.030386</td>\n",
              "      <td>-0.078828</td>\n",
              "      <td>-0.039627</td>\n",
              "      <td>-0.013522</td>\n",
              "      <td>-0.124360</td>\n",
              "      <td>-0.058059</td>\n",
              "      <td>-0.137555</td>\n",
              "      <td>-0.064214</td>\n",
              "      <td>-0.031998</td>\n",
              "      <td>-0.063279</td>\n",
              "    </tr>\n",
              "    <tr>\n",
              "      <th>currentSmoker</th>\n",
              "      <td>0.206114</td>\n",
              "      <td>-0.210771</td>\n",
              "      <td>0.025251</td>\n",
              "      <td>1.000000</td>\n",
              "      <td>0.773913</td>\n",
              "      <td>-0.051923</td>\n",
              "      <td>-0.038150</td>\n",
              "      <td>-0.108078</td>\n",
              "      <td>-0.041849</td>\n",
              "      <td>-0.051034</td>\n",
              "      <td>-0.134428</td>\n",
              "      <td>-0.115955</td>\n",
              "      <td>-0.159821</td>\n",
              "      <td>0.050841</td>\n",
              "      <td>-0.053242</td>\n",
              "      <td>0.019165</td>\n",
              "    </tr>\n",
              "    <tr>\n",
              "      <th>cigsPerDay</th>\n",
              "      <td>0.330322</td>\n",
              "      <td>-0.189295</td>\n",
              "      <td>0.013790</td>\n",
              "      <td>0.773913</td>\n",
              "      <td>1.000000</td>\n",
              "      <td>-0.046504</td>\n",
              "      <td>-0.036286</td>\n",
              "      <td>-0.070460</td>\n",
              "      <td>-0.036961</td>\n",
              "      <td>-0.030400</td>\n",
              "      <td>-0.094781</td>\n",
              "      <td>-0.056746</td>\n",
              "      <td>-0.087395</td>\n",
              "      <td>0.064030</td>\n",
              "      <td>-0.053726</td>\n",
              "      <td>0.052014</td>\n",
              "    </tr>\n",
              "    <tr>\n",
              "      <th>BPMeds</th>\n",
              "      <td>-0.052124</td>\n",
              "      <td>0.134732</td>\n",
              "      <td>-0.013739</td>\n",
              "      <td>-0.051923</td>\n",
              "      <td>-0.046504</td>\n",
              "      <td>1.000000</td>\n",
              "      <td>0.113125</td>\n",
              "      <td>0.262910</td>\n",
              "      <td>0.049066</td>\n",
              "      <td>0.094083</td>\n",
              "      <td>0.271263</td>\n",
              "      <td>0.199630</td>\n",
              "      <td>0.105642</td>\n",
              "      <td>0.012889</td>\n",
              "      <td>0.054232</td>\n",
              "      <td>0.089152</td>\n",
              "    </tr>\n",
              "    <tr>\n",
              "      <th>prevalentStroke</th>\n",
              "      <td>-0.002312</td>\n",
              "      <td>0.050893</td>\n",
              "      <td>-0.030386</td>\n",
              "      <td>-0.038150</td>\n",
              "      <td>-0.036286</td>\n",
              "      <td>0.113125</td>\n",
              "      <td>1.000000</td>\n",
              "      <td>0.066057</td>\n",
              "      <td>0.009625</td>\n",
              "      <td>0.012736</td>\n",
              "      <td>0.061070</td>\n",
              "      <td>0.055834</td>\n",
              "      <td>0.036496</td>\n",
              "      <td>-0.017019</td>\n",
              "      <td>0.016061</td>\n",
              "      <td>0.048366</td>\n",
              "    </tr>\n",
              "    <tr>\n",
              "      <th>prevalentHyp</th>\n",
              "      <td>0.001424</td>\n",
              "      <td>0.306239</td>\n",
              "      <td>-0.078828</td>\n",
              "      <td>-0.108078</td>\n",
              "      <td>-0.070460</td>\n",
              "      <td>0.262910</td>\n",
              "      <td>0.066057</td>\n",
              "      <td>1.000000</td>\n",
              "      <td>0.080556</td>\n",
              "      <td>0.166655</td>\n",
              "      <td>0.697675</td>\n",
              "      <td>0.617734</td>\n",
              "      <td>0.302949</td>\n",
              "      <td>0.146818</td>\n",
              "      <td>0.086942</td>\n",
              "      <td>0.181387</td>\n",
              "    </tr>\n",
              "    <tr>\n",
              "      <th>diabetes</th>\n",
              "      <td>0.013819</td>\n",
              "      <td>0.109092</td>\n",
              "      <td>-0.039627</td>\n",
              "      <td>-0.041849</td>\n",
              "      <td>-0.036961</td>\n",
              "      <td>0.049066</td>\n",
              "      <td>0.009625</td>\n",
              "      <td>0.080556</td>\n",
              "      <td>1.000000</td>\n",
              "      <td>0.048451</td>\n",
              "      <td>0.102552</td>\n",
              "      <td>0.050686</td>\n",
              "      <td>0.089009</td>\n",
              "      <td>0.060984</td>\n",
              "      <td>0.614820</td>\n",
              "      <td>0.093431</td>\n",
              "    </tr>\n",
              "    <tr>\n",
              "      <th>totChol</th>\n",
              "      <td>-0.070321</td>\n",
              "      <td>0.268252</td>\n",
              "      <td>-0.013522</td>\n",
              "      <td>-0.051034</td>\n",
              "      <td>-0.030400</td>\n",
              "      <td>0.094083</td>\n",
              "      <td>0.012736</td>\n",
              "      <td>0.166655</td>\n",
              "      <td>0.048451</td>\n",
              "      <td>1.000000</td>\n",
              "      <td>0.219925</td>\n",
              "      <td>0.174422</td>\n",
              "      <td>0.121056</td>\n",
              "      <td>0.093053</td>\n",
              "      <td>0.049884</td>\n",
              "      <td>0.091338</td>\n",
              "    </tr>\n",
              "    <tr>\n",
              "      <th>sysBP</th>\n",
              "      <td>-0.045358</td>\n",
              "      <td>0.388267</td>\n",
              "      <td>-0.124360</td>\n",
              "      <td>-0.134428</td>\n",
              "      <td>-0.094781</td>\n",
              "      <td>0.271263</td>\n",
              "      <td>0.061070</td>\n",
              "      <td>0.697675</td>\n",
              "      <td>0.102552</td>\n",
              "      <td>0.219925</td>\n",
              "      <td>1.000000</td>\n",
              "      <td>0.786669</td>\n",
              "      <td>0.330917</td>\n",
              "      <td>0.184797</td>\n",
              "      <td>0.134651</td>\n",
              "      <td>0.222821</td>\n",
              "    </tr>\n",
              "    <tr>\n",
              "      <th>diaBP</th>\n",
              "      <td>0.051872</td>\n",
              "      <td>0.208283</td>\n",
              "      <td>-0.058059</td>\n",
              "      <td>-0.115955</td>\n",
              "      <td>-0.056746</td>\n",
              "      <td>0.199630</td>\n",
              "      <td>0.055834</td>\n",
              "      <td>0.617734</td>\n",
              "      <td>0.050686</td>\n",
              "      <td>0.174422</td>\n",
              "      <td>0.786669</td>\n",
              "      <td>1.000000</td>\n",
              "      <td>0.385348</td>\n",
              "      <td>0.178744</td>\n",
              "      <td>0.063540</td>\n",
              "      <td>0.150124</td>\n",
              "    </tr>\n",
              "    <tr>\n",
              "      <th>BMI</th>\n",
              "      <td>0.073111</td>\n",
              "      <td>0.137511</td>\n",
              "      <td>-0.137555</td>\n",
              "      <td>-0.159821</td>\n",
              "      <td>-0.087395</td>\n",
              "      <td>0.105642</td>\n",
              "      <td>0.036496</td>\n",
              "      <td>0.302949</td>\n",
              "      <td>0.089009</td>\n",
              "      <td>0.121056</td>\n",
              "      <td>0.330917</td>\n",
              "      <td>0.385348</td>\n",
              "      <td>1.000000</td>\n",
              "      <td>0.074131</td>\n",
              "      <td>0.083683</td>\n",
              "      <td>0.082055</td>\n",
              "    </tr>\n",
              "    <tr>\n",
              "      <th>heartRate</th>\n",
              "      <td>-0.115285</td>\n",
              "      <td>-0.002722</td>\n",
              "      <td>-0.064214</td>\n",
              "      <td>0.050841</td>\n",
              "      <td>0.064030</td>\n",
              "      <td>0.012889</td>\n",
              "      <td>-0.017019</td>\n",
              "      <td>0.146818</td>\n",
              "      <td>0.060984</td>\n",
              "      <td>0.093053</td>\n",
              "      <td>0.184797</td>\n",
              "      <td>0.178744</td>\n",
              "      <td>0.074131</td>\n",
              "      <td>1.000000</td>\n",
              "      <td>0.097074</td>\n",
              "      <td>0.020514</td>\n",
              "    </tr>\n",
              "    <tr>\n",
              "      <th>glucose</th>\n",
              "      <td>0.002940</td>\n",
              "      <td>0.118349</td>\n",
              "      <td>-0.031998</td>\n",
              "      <td>-0.053242</td>\n",
              "      <td>-0.053726</td>\n",
              "      <td>0.054232</td>\n",
              "      <td>0.016061</td>\n",
              "      <td>0.086942</td>\n",
              "      <td>0.614820</td>\n",
              "      <td>0.049884</td>\n",
              "      <td>0.134651</td>\n",
              "      <td>0.063540</td>\n",
              "      <td>0.083683</td>\n",
              "      <td>0.097074</td>\n",
              "      <td>1.000000</td>\n",
              "      <td>0.121990</td>\n",
              "    </tr>\n",
              "    <tr>\n",
              "      <th>TenYearCHD</th>\n",
              "      <td>0.091688</td>\n",
              "      <td>0.233983</td>\n",
              "      <td>-0.063279</td>\n",
              "      <td>0.019165</td>\n",
              "      <td>0.052014</td>\n",
              "      <td>0.089152</td>\n",
              "      <td>0.048366</td>\n",
              "      <td>0.181387</td>\n",
              "      <td>0.093431</td>\n",
              "      <td>0.091338</td>\n",
              "      <td>0.222821</td>\n",
              "      <td>0.150124</td>\n",
              "      <td>0.082055</td>\n",
              "      <td>0.020514</td>\n",
              "      <td>0.121990</td>\n",
              "      <td>1.000000</td>\n",
              "    </tr>\n",
              "  </tbody>\n",
              "</table>\n",
              "</div>"
            ],
            "text/plain": [
              "                   Gender       age  education  ...  heartRate   glucose  TenYearCHD\n",
              "Gender           1.000000 -0.024412   0.017729  ...  -0.115285  0.002940    0.091688\n",
              "age             -0.024412  1.000000  -0.159499  ...  -0.002722  0.118349    0.233983\n",
              "education        0.017729 -0.159499   1.000000  ...  -0.064214 -0.031998   -0.063279\n",
              "currentSmoker    0.206114 -0.210771   0.025251  ...   0.050841 -0.053242    0.019165\n",
              "cigsPerDay       0.330322 -0.189295   0.013790  ...   0.064030 -0.053726    0.052014\n",
              "BPMeds          -0.052124  0.134732  -0.013739  ...   0.012889  0.054232    0.089152\n",
              "prevalentStroke -0.002312  0.050893  -0.030386  ...  -0.017019  0.016061    0.048366\n",
              "prevalentHyp     0.001424  0.306239  -0.078828  ...   0.146818  0.086942    0.181387\n",
              "diabetes         0.013819  0.109092  -0.039627  ...   0.060984  0.614820    0.093431\n",
              "totChol         -0.070321  0.268252  -0.013522  ...   0.093053  0.049884    0.091338\n",
              "sysBP           -0.045358  0.388267  -0.124360  ...   0.184797  0.134651    0.222821\n",
              "diaBP            0.051872  0.208283  -0.058059  ...   0.178744  0.063540    0.150124\n",
              "BMI              0.073111  0.137511  -0.137555  ...   0.074131  0.083683    0.082055\n",
              "heartRate       -0.115285 -0.002722  -0.064214  ...   1.000000  0.097074    0.020514\n",
              "glucose          0.002940  0.118349  -0.031998  ...   0.097074  1.000000    0.121990\n",
              "TenYearCHD       0.091688  0.233983  -0.063279  ...   0.020514  0.121990    1.000000\n",
              "\n",
              "[16 rows x 16 columns]"
            ]
          },
          "metadata": {
            "tags": []
          },
          "execution_count": 10
        }
      ]
    },
    {
      "cell_type": "code",
      "metadata": {
        "id": "1bDlHtuxHOC2",
        "colab_type": "code",
        "colab": {
          "base_uri": "https://localhost:8080/",
          "height": 530
        },
        "outputId": "129e9b64-0a5b-4867-eb12-15ffdda30a94"
      },
      "source": [
        "plt.figure(figsize=(20,7))\n",
        "sns.heatmap(df.corr(),annot=True)"
      ],
      "execution_count": null,
      "outputs": [
        {
          "output_type": "execute_result",
          "data": {
            "text/plain": [
              "<matplotlib.axes._subplots.AxesSubplot at 0x7f9f6458e8d0>"
            ]
          },
          "metadata": {
            "tags": []
          },
          "execution_count": 11
        },
        {
          "output_type": "display_data",
          "data": {
            "image/png": "[encoded data removed]",
            "text/plain": [
              "<Figure size 1440x504 with 2 Axes>"
            ]
          },
          "metadata": {
            "tags": [],
            "needs_background": "light"
          }
        }
      ]
    },
    {
      "cell_type": "markdown",
      "metadata": {
        "id": "DRvvXFaKSHwM",
        "colab_type": "text"
      },
      "source": [
        "Here highest correltion is 0.23.\n",
        "Hence features with correlation 0.021 should be considered as important features\n",
        "But if the highest correation scores are of 0.98,0.91 and the weakest correlation is 0.021 then in such scenario we can consider this as the weakest feature.\n",
        "Hence its is difficult to make decision of significant features based on correlation matrix, statistical test pvlaue are considered\n"
      ]
    },
    {
      "cell_type": "markdown",
      "metadata": {
        "id": "FxuaWTbQucAq",
        "colab_type": "text"
      },
      "source": [
        "Splitting in train test in X and y"
      ]
    },
    {
      "cell_type": "code",
      "metadata": {
        "id": "vTB6G1z4IGiQ",
        "colab_type": "code",
        "colab": {}
      },
      "source": [
        "x=df.drop('TenYearCHD',axis=1)\n",
        "y=df['TenYearCHD']"
      ],
      "execution_count": null,
      "outputs": []
    },
    {
      "cell_type": "code",
      "metadata": {
        "id": "AhFAm-6yurjs",
        "colab_type": "code",
        "colab": {
          "base_uri": "https://localhost:8080/",
          "height": 567
        },
        "outputId": "a1b91960-26ac-4063-dbff-9e0dfdb0f615"
      },
      "source": [
        "x_constant= sm.add_constant(x)\n",
        "logit_model=sm.Logit(y,x_constant).fit()\n",
        "logit_model.summary()"
      ],
      "execution_count": null,
      "outputs": [
        {
          "output_type": "stream",
          "text": [
            "Optimization terminated successfully.\n",
            "         Current function value: 0.376500\n",
            "         Iterations 7\n"
          ],
          "name": "stdout"
        },
        {
          "output_type": "execute_result",
          "data": {
            "text/html": [
              "<table class=\"simpletable\">\n",
              "<caption>Logit Regression Results</caption>\n",
              "<tr>\n",
              "  <th>Dep. Variable:</th>      <td>TenYearCHD</td>    <th>  No. Observations:  </th>  <td>  3658</td>  \n",
              "</tr>\n",
              "<tr>\n",
              "  <th>Model:</th>                 <td>Logit</td>      <th>  Df Residuals:      </th>  <td>  3642</td>  \n",
              "</tr>\n",
              "<tr>\n",
              "  <th>Method:</th>                 <td>MLE</td>       <th>  Df Model:          </th>  <td>    15</td>  \n",
              "</tr>\n",
              "<tr>\n",
              "  <th>Date:</th>            <td>Sun, 21 Jun 2020</td> <th>  Pseudo R-squ.:     </th>  <td>0.1175</td>  \n",
              "</tr>\n",
              "<tr>\n",
              "  <th>Time:</th>                <td>10:20:28</td>     <th>  Log-Likelihood:    </th> <td> -1377.2</td> \n",
              "</tr>\n",
              "<tr>\n",
              "  <th>converged:</th>             <td>True</td>       <th>  LL-Null:           </th> <td> -1560.6</td> \n",
              "</tr>\n",
              "<tr>\n",
              "  <th>Covariance Type:</th>     <td>nonrobust</td>    <th>  LLR p-value:       </th> <td>6.676e-69</td>\n",
              "</tr>\n",
              "</table>\n",
              "<table class=\"simpletable\">\n",
              "<tr>\n",
              "         <td></td>            <th>coef</th>     <th>std err</th>      <th>z</th>      <th>P>|z|</th>  <th>[0.025</th>    <th>0.975]</th>  \n",
              "</tr>\n",
              "<tr>\n",
              "  <th>const</th>           <td>   -8.3282</td> <td>    0.715</td> <td>  -11.640</td> <td> 0.000</td> <td>   -9.730</td> <td>   -6.926</td>\n",
              "</tr>\n",
              "<tr>\n",
              "  <th>Gender</th>          <td>    0.5553</td> <td>    0.109</td> <td>    5.093</td> <td> 0.000</td> <td>    0.342</td> <td>    0.769</td>\n",
              "</tr>\n",
              "<tr>\n",
              "  <th>age</th>             <td>    0.0635</td> <td>    0.007</td> <td>    9.509</td> <td> 0.000</td> <td>    0.050</td> <td>    0.077</td>\n",
              "</tr>\n",
              "<tr>\n",
              "  <th>education</th>       <td>   -0.0478</td> <td>    0.049</td> <td>   -0.967</td> <td> 0.334</td> <td>   -0.145</td> <td>    0.049</td>\n",
              "</tr>\n",
              "<tr>\n",
              "  <th>currentSmoker</th>   <td>    0.0716</td> <td>    0.157</td> <td>    0.457</td> <td> 0.648</td> <td>   -0.236</td> <td>    0.379</td>\n",
              "</tr>\n",
              "<tr>\n",
              "  <th>cigsPerDay</th>      <td>    0.0179</td> <td>    0.006</td> <td>    2.872</td> <td> 0.004</td> <td>    0.006</td> <td>    0.030</td>\n",
              "</tr>\n",
              "<tr>\n",
              "  <th>BPMeds</th>          <td>    0.1625</td> <td>    0.234</td> <td>    0.693</td> <td> 0.488</td> <td>   -0.297</td> <td>    0.622</td>\n",
              "</tr>\n",
              "<tr>\n",
              "  <th>prevalentStroke</th> <td>    0.6937</td> <td>    0.490</td> <td>    1.417</td> <td> 0.157</td> <td>   -0.266</td> <td>    1.653</td>\n",
              "</tr>\n",
              "<tr>\n",
              "  <th>prevalentHyp</th>    <td>    0.2342</td> <td>    0.138</td> <td>    1.697</td> <td> 0.090</td> <td>   -0.036</td> <td>    0.505</td>\n",
              "</tr>\n",
              "<tr>\n",
              "  <th>diabetes</th>        <td>    0.0392</td> <td>    0.316</td> <td>    0.124</td> <td> 0.901</td> <td>   -0.579</td> <td>    0.658</td>\n",
              "</tr>\n",
              "<tr>\n",
              "  <th>totChol</th>         <td>    0.0023</td> <td>    0.001</td> <td>    2.070</td> <td> 0.038</td> <td>    0.000</td> <td>    0.005</td>\n",
              "</tr>\n",
              "<tr>\n",
              "  <th>sysBP</th>           <td>    0.0154</td> <td>    0.004</td> <td>    4.044</td> <td> 0.000</td> <td>    0.008</td> <td>    0.023</td>\n",
              "</tr>\n",
              "<tr>\n",
              "  <th>diaBP</th>           <td>   -0.0042</td> <td>    0.006</td> <td>   -0.646</td> <td> 0.518</td> <td>   -0.017</td> <td>    0.008</td>\n",
              "</tr>\n",
              "<tr>\n",
              "  <th>BMI</th>             <td>    0.0067</td> <td>    0.013</td> <td>    0.523</td> <td> 0.601</td> <td>   -0.018</td> <td>    0.032</td>\n",
              "</tr>\n",
              "<tr>\n",
              "  <th>heartRate</th>       <td>   -0.0032</td> <td>    0.004</td> <td>   -0.771</td> <td> 0.441</td> <td>   -0.012</td> <td>    0.005</td>\n",
              "</tr>\n",
              "<tr>\n",
              "  <th>glucose</th>         <td>    0.0071</td> <td>    0.002</td> <td>    3.190</td> <td> 0.001</td> <td>    0.003</td> <td>    0.012</td>\n",
              "</tr>\n",
              "</table>"
            ],
            "text/plain": [
              "<class 'statsmodels.iolib.summary.Summary'>\n",
              "\"\"\"\n",
              "                           Logit Regression Results                           \n",
              "==============================================================================\n",
              "Dep. Variable:             TenYearCHD   No. Observations:                 3658\n",
              "Model:                          Logit   Df Residuals:                     3642\n",
              "Method:                           MLE   Df Model:                           15\n",
              "Date:                Sun, 21 Jun 2020   Pseudo R-squ.:                  0.1175\n",
              "Time:                        10:20:28   Log-Likelihood:                -1377.2\n",
              "converged:                       True   LL-Null:                       -1560.6\n",
              "Covariance Type:            nonrobust   LLR p-value:                 6.676e-69\n",
              "===================================================================================\n",
              "                      coef    std err          z      P>|z|      [0.025      0.975]\n",
              "-----------------------------------------------------------------------------------\n",
              "const              -8.3282      0.715    -11.640      0.000      -9.730      -6.926\n",
              "Gender              0.5553      0.109      5.093      0.000       0.342       0.769\n",
              "age                 0.0635      0.007      9.509      0.000       0.050       0.077\n",
              "education          -0.0478      0.049     -0.967      0.334      -0.145       0.049\n",
              "currentSmoker       0.0716      0.157      0.457      0.648      -0.236       0.379\n",
              "cigsPerDay          0.0179      0.006      2.872      0.004       0.006       0.030\n",
              "BPMeds              0.1625      0.234      0.693      0.488      -0.297       0.622\n",
              "prevalentStroke     0.6937      0.490      1.417      0.157      -0.266       1.653\n",
              "prevalentHyp        0.2342      0.138      1.697      0.090      -0.036       0.505\n",
              "diabetes            0.0392      0.316      0.124      0.901      -0.579       0.658\n",
              "totChol             0.0023      0.001      2.070      0.038       0.000       0.005\n",
              "sysBP               0.0154      0.004      4.044      0.000       0.008       0.023\n",
              "diaBP              -0.0042      0.006     -0.646      0.518      -0.017       0.008\n",
              "BMI                 0.0067      0.013      0.523      0.601      -0.018       0.032\n",
              "heartRate          -0.0032      0.004     -0.771      0.441      -0.012       0.005\n",
              "glucose             0.0071      0.002      3.190      0.001       0.003       0.012\n",
              "===================================================================================\n",
              "\"\"\""
            ]
          },
          "metadata": {
            "tags": []
          },
          "execution_count": 13
        }
      ]
    },
    {
      "cell_type": "markdown",
      "metadata": {
        "id": "vdzMd6lUYAHt",
        "colab_type": "text"
      },
      "source": [
        "Pvalue<.05\n",
        "We reject Null Hypothesis\n",
        "That means,\n",
        "ho:Feature is not significant\n",
        "h1:Feature is significant\n",
        "\n",
        "or (gender)\n",
        "\n",
        "ho:Proportion of Male with TenYearCHD as 1= Proportion of Female with TenYearCHD as 1\n",
        "\n",
        "h1:Proportion of Male with TenYearCHD as 1= Proportion of Female with TenYearCHD as 1\n",
        "\n",
        "\n",
        "pvaluve< 0.05\n",
        "we reject hull hypothesis\n",
        "\n",
        "pvalue>0.05\n",
        "We fail to reject Null Hypotheisis\n"
      ]
    },
    {
      "cell_type": "markdown",
      "metadata": {
        "id": "VnK160uQeSKw",
        "colab_type": "text"
      },
      "source": [
        "# Backward Elimination Method(Pvalue approach)\n"
      ]
    },
    {
      "cell_type": "code",
      "metadata": {
        "id": "9jEYs2WU0Hj7",
        "colab_type": "code",
        "colab": {
          "base_uri": "https://localhost:8080/",
          "height": 538
        },
        "outputId": "aaea838c-2fd6-486b-df23-c0386a220917"
      },
      "source": [
        "cols = list(x.columns)\n",
        "pmax = 1\n",
        "while (len(cols)>0):\n",
        "    p= []\n",
        "    X_1 = x[cols]\n",
        "    X_1 = sm.add_constant(X_1)\n",
        "    model = sm.Logit(y,X_1).fit()\n",
        "    p = pd.Series(model.pvalues.values[1:],index = cols)      \n",
        "    pmax = max(p)\n",
        "    feature_with_p_max = p.idxmax()\n",
        "    if(pmax>0.05):\n",
        "        cols.remove(feature_with_p_max)\n",
        "    else:\n",
        "        break\n",
        "selected_features_BE = cols\n",
        "print(selected_features_BE)"
      ],
      "execution_count": null,
      "outputs": [
        {
          "output_type": "stream",
          "text": [
            "Optimization terminated successfully.\n",
            "         Current function value: 0.376500\n",
            "         Iterations 7\n",
            "Optimization terminated successfully.\n",
            "         Current function value: 0.376502\n",
            "         Iterations 7\n",
            "Optimization terminated successfully.\n",
            "         Current function value: 0.376531\n",
            "         Iterations 7\n",
            "Optimization terminated successfully.\n",
            "         Current function value: 0.376562\n",
            "         Iterations 7\n",
            "Optimization terminated successfully.\n",
            "         Current function value: 0.376608\n",
            "         Iterations 7\n",
            "Optimization terminated successfully.\n",
            "         Current function value: 0.376679\n",
            "         Iterations 7\n",
            "Optimization terminated successfully.\n",
            "         Current function value: 0.376770\n",
            "         Iterations 7\n",
            "Optimization terminated successfully.\n",
            "         Current function value: 0.376914\n",
            "         Iterations 7\n",
            "Optimization terminated successfully.\n",
            "         Current function value: 0.377226\n",
            "         Iterations 7\n",
            "Optimization terminated successfully.\n",
            "         Current function value: 0.377634\n",
            "         Iterations 7\n",
            "['Gender', 'age', 'cigsPerDay', 'totChol', 'sysBP', 'glucose']\n"
          ],
          "name": "stdout"
        }
      ]
    },
    {
      "cell_type": "markdown",
      "metadata": {
        "id": "wV4q1-ONrQqh",
        "colab_type": "text"
      },
      "source": [
        "Manually written"
      ]
    },
    {
      "cell_type": "code",
      "metadata": {
        "id": "ag7fEMPsd7B6",
        "colab_type": "code",
        "colab": {
          "base_uri": "https://localhost:8080/",
          "height": 538
        },
        "outputId": "ce84d706-6745-4f13-9c0c-574cf5e463ca"
      },
      "source": [
        "cols = x.columns\n",
        "while (len(cols)>0):\n",
        "    X_constant =sm.add_constant(x[cols])\n",
        "    model = sm.Logit(y,X_constant).fit()\n",
        "    highest_pvalue=round(model.pvalues,3).nlargest(1)    \n",
        "    if(highest_pvalue[0] > 0.05):\n",
        "        cols=cols.drop(highest_pvalue.index)\n",
        "    else:\n",
        "        break\n",
        "print(cols)\n"
      ],
      "execution_count": null,
      "outputs": [
        {
          "output_type": "stream",
          "text": [
            "Optimization terminated successfully.\n",
            "         Current function value: 0.376500\n",
            "         Iterations 7\n",
            "Optimization terminated successfully.\n",
            "         Current function value: 0.376502\n",
            "         Iterations 7\n",
            "Optimization terminated successfully.\n",
            "         Current function value: 0.376531\n",
            "         Iterations 7\n",
            "Optimization terminated successfully.\n",
            "         Current function value: 0.376562\n",
            "         Iterations 7\n",
            "Optimization terminated successfully.\n",
            "         Current function value: 0.376608\n",
            "         Iterations 7\n",
            "Optimization terminated successfully.\n",
            "         Current function value: 0.376679\n",
            "         Iterations 7\n",
            "Optimization terminated successfully.\n",
            "         Current function value: 0.376770\n",
            "         Iterations 7\n",
            "Optimization terminated successfully.\n",
            "         Current function value: 0.376914\n",
            "         Iterations 7\n",
            "Optimization terminated successfully.\n",
            "         Current function value: 0.377226\n",
            "         Iterations 7\n",
            "Optimization terminated successfully.\n",
            "         Current function value: 0.377634\n",
            "         Iterations 7\n",
            "Index(['Gender', 'age', 'cigsPerDay', 'totChol', 'sysBP', 'glucose'], dtype='object')\n"
          ],
          "name": "stdout"
        }
      ]
    },
    {
      "cell_type": "code",
      "metadata": {
        "id": "ITVBl8l4osm4",
        "colab_type": "code",
        "colab": {
          "base_uri": "https://localhost:8080/",
          "height": 337
        },
        "outputId": "a6c81561-524e-4674-a053-aebde10553f9"
      },
      "source": [
        "model.summary()"
      ],
      "execution_count": null,
      "outputs": [
        {
          "output_type": "execute_result",
          "data": {
            "text/html": [
              "<table class=\"simpletable\">\n",
              "<caption>Logit Regression Results</caption>\n",
              "<tr>\n",
              "  <th>Dep. Variable:</th>      <td>TenYearCHD</td>    <th>  No. Observations:  </th>  <td>  3658</td>  \n",
              "</tr>\n",
              "<tr>\n",
              "  <th>Model:</th>                 <td>Logit</td>      <th>  Df Residuals:      </th>  <td>  3651</td>  \n",
              "</tr>\n",
              "<tr>\n",
              "  <th>Method:</th>                 <td>MLE</td>       <th>  Df Model:          </th>  <td>     6</td>  \n",
              "</tr>\n",
              "<tr>\n",
              "  <th>Date:</th>            <td>Sun, 21 Jun 2020</td> <th>  Pseudo R-squ.:     </th>  <td>0.1148</td>  \n",
              "</tr>\n",
              "<tr>\n",
              "  <th>Time:</th>                <td>10:20:28</td>     <th>  Log-Likelihood:    </th> <td> -1381.4</td> \n",
              "</tr>\n",
              "<tr>\n",
              "  <th>converged:</th>             <td>True</td>       <th>  LL-Null:           </th> <td> -1560.6</td> \n",
              "</tr>\n",
              "<tr>\n",
              "  <th>Covariance Type:</th>     <td>nonrobust</td>    <th>  LLR p-value:       </th> <td>2.408e-74</td>\n",
              "</tr>\n",
              "</table>\n",
              "<table class=\"simpletable\">\n",
              "<tr>\n",
              "       <td></td>         <th>coef</th>     <th>std err</th>      <th>z</th>      <th>P>|z|</th>  <th>[0.025</th>    <th>0.975]</th>  \n",
              "</tr>\n",
              "<tr>\n",
              "  <th>const</th>      <td>   -9.1353</td> <td>    0.475</td> <td>  -19.213</td> <td> 0.000</td> <td>  -10.067</td> <td>   -8.203</td>\n",
              "</tr>\n",
              "<tr>\n",
              "  <th>Gender</th>     <td>    0.5617</td> <td>    0.107</td> <td>    5.258</td> <td> 0.000</td> <td>    0.352</td> <td>    0.771</td>\n",
              "</tr>\n",
              "<tr>\n",
              "  <th>age</th>        <td>    0.0660</td> <td>    0.006</td> <td>   10.267</td> <td> 0.000</td> <td>    0.053</td> <td>    0.079</td>\n",
              "</tr>\n",
              "<tr>\n",
              "  <th>cigsPerDay</th> <td>    0.0192</td> <td>    0.004</td> <td>    4.606</td> <td> 0.000</td> <td>    0.011</td> <td>    0.027</td>\n",
              "</tr>\n",
              "<tr>\n",
              "  <th>totChol</th>    <td>    0.0023</td> <td>    0.001</td> <td>    2.031</td> <td> 0.042</td> <td> 8.01e-05</td> <td>    0.004</td>\n",
              "</tr>\n",
              "<tr>\n",
              "  <th>sysBP</th>      <td>    0.0175</td> <td>    0.002</td> <td>    8.155</td> <td> 0.000</td> <td>    0.013</td> <td>    0.022</td>\n",
              "</tr>\n",
              "<tr>\n",
              "  <th>glucose</th>    <td>    0.0073</td> <td>    0.002</td> <td>    4.343</td> <td> 0.000</td> <td>    0.004</td> <td>    0.011</td>\n",
              "</tr>\n",
              "</table>"
            ],
            "text/plain": [
              "<class 'statsmodels.iolib.summary.Summary'>\n",
              "\"\"\"\n",
              "                           Logit Regression Results                           \n",
              "==============================================================================\n",
              "Dep. Variable:             TenYearCHD   No. Observations:                 3658\n",
              "Model:                          Logit   Df Residuals:                     3651\n",
              "Method:                           MLE   Df Model:                            6\n",
              "Date:                Sun, 21 Jun 2020   Pseudo R-squ.:                  0.1148\n",
              "Time:                        10:20:28   Log-Likelihood:                -1381.4\n",
              "converged:                       True   LL-Null:                       -1560.6\n",
              "Covariance Type:            nonrobust   LLR p-value:                 2.408e-74\n",
              "==============================================================================\n",
              "                 coef    std err          z      P>|z|      [0.025      0.975]\n",
              "------------------------------------------------------------------------------\n",
              "const         -9.1353      0.475    -19.213      0.000     -10.067      -8.203\n",
              "Gender         0.5617      0.107      5.258      0.000       0.352       0.771\n",
              "age            0.0660      0.006     10.267      0.000       0.053       0.079\n",
              "cigsPerDay     0.0192      0.004      4.606      0.000       0.011       0.027\n",
              "totChol        0.0023      0.001      2.031      0.042    8.01e-05       0.004\n",
              "sysBP          0.0175      0.002      8.155      0.000       0.013       0.022\n",
              "glucose        0.0073      0.002      4.343      0.000       0.004       0.011\n",
              "==============================================================================\n",
              "\"\"\""
            ]
          },
          "metadata": {
            "tags": []
          },
          "execution_count": 16
        }
      ]
    },
    {
      "cell_type": "markdown",
      "metadata": {
        "id": "qa3K3nsm2yLG",
        "colab_type": "text"
      },
      "source": [
        "In Logistic regression(classification) the probablities are between 0-1.\n",
        "\n",
        "taking log of that probabilities (0-1) will always give a negative value.\n",
        "\n",
        "log(likelihood)=log(probablilty score)\n",
        "hence lolog(likelihood) is negative"
      ]
    },
    {
      "cell_type": "code",
      "metadata": {
        "id": "m9Xm7JVe2E-N",
        "colab_type": "code",
        "colab": {}
      },
      "source": [
        "xfinal=df[cols]"
      ],
      "execution_count": null,
      "outputs": []
    },
    {
      "cell_type": "code",
      "metadata": {
        "id": "7WOef6OJ2HEL",
        "colab_type": "code",
        "colab": {
          "base_uri": "https://localhost:8080/",
          "height": 101
        },
        "outputId": "53f05608-ae2d-4080-c3b2-09e49583162a"
      },
      "source": [
        "from sklearn.model_selection import train_test_split\n",
        "from sklearn.linear_model import LogisticRegression\n",
        "X_train, X_test, y_train, y_test = train_test_split(xfinal,y,test_size=0.3,random_state=0)\n",
        "model=LogisticRegression()\n",
        "model.fit(X_train,y_train)"
      ],
      "execution_count": null,
      "outputs": [
        {
          "output_type": "execute_result",
          "data": {
            "text/plain": [
              "LogisticRegression(C=1.0, class_weight=None, dual=False, fit_intercept=True,\n",
              "                   intercept_scaling=1, l1_ratio=None, max_iter=100,\n",
              "                   multi_class='auto', n_jobs=None, penalty='l2',\n",
              "                   random_state=None, solver='lbfgs', tol=0.0001, verbose=0,\n",
              "                   warm_start=False)"
            ]
          },
          "metadata": {
            "tags": []
          },
          "execution_count": 35
        }
      ]
    },
    {
      "cell_type": "code",
      "metadata": {
        "id": "Bu10_QBMPqEf",
        "colab_type": "code",
        "colab": {
          "base_uri": "https://localhost:8080/",
          "height": 34
        },
        "outputId": "412b9f69-95fe-4ace-a813-16d94bbff054"
      },
      "source": [
        "y_prediction=model.predict(X_test)\n",
        "y_prediction "
      ],
      "execution_count": null,
      "outputs": [
        {
          "output_type": "execute_result",
          "data": {
            "text/plain": [
              "array([0, 0, 0, ..., 0, 0, 0])"
            ]
          },
          "metadata": {
            "tags": []
          },
          "execution_count": 36
        }
      ]
    },
    {
      "cell_type": "code",
      "metadata": {
        "id": "GeZ5N3d4TeNP",
        "colab_type": "code",
        "colab": {
          "base_uri": "https://localhost:8080/",
          "height": 34
        },
        "outputId": "fd5d6163-7c52-4a31-ff16-e9f62cded5bb"
      },
      "source": [
        "from sklearn import metrics\n",
        "overall_accuracy_score=metrics.accuracy_score(y_test,y_prediction)\n",
        "overall_accuracy_score*100"
      ],
      "execution_count": null,
      "outputs": [
        {
          "output_type": "execute_result",
          "data": {
            "text/plain": [
              "84.06193078324226"
            ]
          },
          "metadata": {
            "tags": []
          },
          "execution_count": 37
        }
      ]
    },
    {
      "cell_type": "code",
      "metadata": {
        "id": "ODGsRyVicfE2",
        "colab_type": "code",
        "colab": {
          "base_uri": "https://localhost:8080/",
          "height": 34
        },
        "outputId": "b497199a-8d65-44bc-ded2-adab897ef243"
      },
      "source": [
        "model.score(X_test,y_test)"
      ],
      "execution_count": null,
      "outputs": [
        {
          "output_type": "execute_result",
          "data": {
            "text/plain": [
              "0.8406193078324226"
            ]
          },
          "metadata": {
            "tags": []
          },
          "execution_count": 38
        }
      ]
    },
    {
      "cell_type": "code",
      "metadata": {
        "id": "K7beUMkWZbC5",
        "colab_type": "code",
        "colab": {
          "base_uri": "https://localhost:8080/",
          "height": 67
        },
        "outputId": "58bd3753-e626-473f-b505-7187d9a4852c"
      },
      "source": [
        "y_test.value_counts()"
      ],
      "execution_count": null,
      "outputs": [
        {
          "output_type": "execute_result",
          "data": {
            "text/plain": [
              "0    916\n",
              "1    182\n",
              "Name: TenYearCHD, dtype: int64"
            ]
          },
          "metadata": {
            "tags": []
          },
          "execution_count": 39
        }
      ]
    },
    {
      "cell_type": "code",
      "metadata": {
        "id": "Kdd5DS63TrJV",
        "colab_type": "code",
        "colab": {
          "base_uri": "https://localhost:8080/",
          "height": 50
        },
        "outputId": "1ddd7853-a199-4367-d3ca-5a17339dca21"
      },
      "source": [
        "confusion_matrix=metrics.confusion_matrix(y_test,y_prediction)\n",
        "confusion_matrix"
      ],
      "execution_count": null,
      "outputs": [
        {
          "output_type": "execute_result",
          "data": {
            "text/plain": [
              "array([[908,   8],\n",
              "       [167,  15]])"
            ]
          },
          "metadata": {
            "tags": []
          },
          "execution_count": 40
        }
      ]
    },
    {
      "cell_type": "markdown",
      "metadata": {
        "id": "g0JUrOoUaOkc",
        "colab_type": "text"
      },
      "source": [
        "# Sensitivity"
      ]
    },
    {
      "cell_type": "code",
      "metadata": {
        "id": "6OiTvV__Z--c",
        "colab_type": "code",
        "colab": {
          "base_uri": "https://localhost:8080/",
          "height": 34
        },
        "outputId": "e53b3fcd-f578-471d-8883-73966471c935"
      },
      "source": [
        "true_positive_rate=15/182\n",
        "true_positive_rate"
      ],
      "execution_count": null,
      "outputs": [
        {
          "output_type": "execute_result",
          "data": {
            "text/plain": [
              "0.08241758241758242"
            ]
          },
          "metadata": {
            "tags": []
          },
          "execution_count": 41
        }
      ]
    },
    {
      "cell_type": "markdown",
      "metadata": {
        "id": "oyZhJlbXaY4X",
        "colab_type": "text"
      },
      "source": [
        "# Specificity"
      ]
    },
    {
      "cell_type": "code",
      "metadata": {
        "id": "NfsP98DXZ_Ch",
        "colab_type": "code",
        "colab": {
          "base_uri": "https://localhost:8080/",
          "height": 34
        },
        "outputId": "1d88c2ac-1a02-4357-bfc5-12d2fce9064c"
      },
      "source": [
        "true_negative_rate=908/916\n",
        "true_negative_rate"
      ],
      "execution_count": null,
      "outputs": [
        {
          "output_type": "execute_result",
          "data": {
            "text/plain": [
              "0.9912663755458515"
            ]
          },
          "metadata": {
            "tags": []
          },
          "execution_count": 42
        }
      ]
    },
    {
      "cell_type": "markdown",
      "metadata": {
        "id": "KjEJ1sWzbDEl",
        "colab_type": "text"
      },
      "source": [
        "# Alpha Error"
      ]
    },
    {
      "cell_type": "code",
      "metadata": {
        "id": "1NSQrV7VZ-8N",
        "colab_type": "code",
        "colab": {
          "base_uri": "https://localhost:8080/",
          "height": 34
        },
        "outputId": "43f6c09a-6c11-488e-b589-2d8d46de14c6"
      },
      "source": [
        "alpha=8/182\n",
        "alpha"
      ],
      "execution_count": null,
      "outputs": [
        {
          "output_type": "execute_result",
          "data": {
            "text/plain": [
              "0.04395604395604396"
            ]
          },
          "metadata": {
            "tags": []
          },
          "execution_count": 43
        }
      ]
    },
    {
      "cell_type": "markdown",
      "metadata": {
        "id": "3hQxsB8LbNoR",
        "colab_type": "text"
      },
      "source": [
        "# Beta Error"
      ]
    },
    {
      "cell_type": "code",
      "metadata": {
        "id": "nG6ebFolbQTf",
        "colab_type": "code",
        "colab": {
          "base_uri": "https://localhost:8080/",
          "height": 34
        },
        "outputId": "cdec89cb-5aa7-4e78-8388-a544b7fab0ea"
      },
      "source": [
        "beta=167/916\n",
        "beta"
      ],
      "execution_count": null,
      "outputs": [
        {
          "output_type": "execute_result",
          "data": {
            "text/plain": [
              "0.18231441048034935"
            ]
          },
          "metadata": {
            "tags": []
          },
          "execution_count": 44
        }
      ]
    },
    {
      "cell_type": "code",
      "metadata": {
        "id": "XtlcoiHfUR5-",
        "colab_type": "code",
        "colab": {
          "base_uri": "https://localhost:8080/",
          "height": 34
        },
        "outputId": "3f3bc439-a0d5-429a-820c-b104a7fac508"
      },
      "source": [
        "df.shape"
      ],
      "execution_count": null,
      "outputs": [
        {
          "output_type": "execute_result",
          "data": {
            "text/plain": [
              "(3658, 16)"
            ]
          },
          "metadata": {
            "tags": []
          },
          "execution_count": 45
        }
      ]
    },
    {
      "cell_type": "code",
      "metadata": {
        "id": "tXZKAAA6UyX9",
        "colab_type": "code",
        "colab": {
          "base_uri": "https://localhost:8080/",
          "height": 34
        },
        "outputId": "68c18387-b310-4aa7-d279-0f5039c996a3"
      },
      "source": [
        "np.round(model.coef_,4)"
      ],
      "execution_count": null,
      "outputs": [
        {
          "output_type": "execute_result",
          "data": {
            "text/plain": [
              "array([[0.5477, 0.0558, 0.0178, 0.0023, 0.0185, 0.0092]])"
            ]
          },
          "metadata": {
            "tags": []
          },
          "execution_count": 50
        }
      ]
    },
    {
      "cell_type": "code",
      "metadata": {
        "id": "WO-8c0dUerpq",
        "colab_type": "code",
        "colab": {
          "base_uri": "https://localhost:8080/",
          "height": 34
        },
        "outputId": "dba3ec6a-10f1-47b8-9a16-87639128660d"
      },
      "source": [
        "xfinal.columns"
      ],
      "execution_count": null,
      "outputs": [
        {
          "output_type": "execute_result",
          "data": {
            "text/plain": [
              "Index(['Gender', 'age', 'cigsPerDay', 'totChol', 'sysBP', 'glucose'], dtype='object')"
            ]
          },
          "metadata": {
            "tags": []
          },
          "execution_count": 48
        }
      ]
    },
    {
      "cell_type": "code",
      "metadata": {
        "id": "Cdv6QJd-fns6",
        "colab_type": "code",
        "colab": {}
      },
      "source": [
        ""
      ],
      "execution_count": null,
      "outputs": []
    },
    {
      "cell_type": "code",
      "metadata": {
        "id": "t0PFxXZCfthy",
        "colab_type": "code",
        "colab": {}
      },
      "source": [
        ""
      ],
      "execution_count": null,
      "outputs": []
    }
  ]
}