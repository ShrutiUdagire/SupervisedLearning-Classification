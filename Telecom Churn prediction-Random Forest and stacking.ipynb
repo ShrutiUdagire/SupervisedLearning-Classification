{
 "cells": [
  {
   "cell_type": "code",
   "execution_count": 55,
   "metadata": {},
   "outputs": [],
   "source": [
    "import pandas as pd\n",
    "import numpy as np\n",
    "import matplotlib.pyplot as plt\n",
    "import seaborn as sns\n"
   ]
  },
  {
   "cell_type": "code",
   "execution_count": 56,
   "metadata": {},
   "outputs": [],
   "source": [
    "df=pd.read_csv(\"C:\\\\Users\\\\Shruti Udagire\\\\Supervised_Categorical\\\\Files\\\\telco_chrun_encoded.csv\")\n",
    "df=df.sample(frac=0.25,random_state=3)"
   ]
  },
  {
   "cell_type": "code",
   "execution_count": 57,
   "metadata": {},
   "outputs": [
    {
     "data": {
      "text/html": [
       "<div>\n",
       "<style scoped>\n",
       "    .dataframe tbody tr th:only-of-type {\n",
       "        vertical-align: middle;\n",
       "    }\n",
       "\n",
       "    .dataframe tbody tr th {\n",
       "        vertical-align: top;\n",
       "    }\n",
       "\n",
       "    .dataframe thead th {\n",
       "        text-align: right;\n",
       "    }\n",
       "</style>\n",
       "<table border=\"1\" class=\"dataframe\">\n",
       "  <thead>\n",
       "    <tr style=\"text-align: right;\">\n",
       "      <th></th>\n",
       "      <th>gender</th>\n",
       "      <th>senior</th>\n",
       "      <th>partner</th>\n",
       "      <th>dependents</th>\n",
       "      <th>tenure</th>\n",
       "      <th>phone_service</th>\n",
       "      <th>multiple_lines</th>\n",
       "      <th>online_security</th>\n",
       "      <th>online_backup</th>\n",
       "      <th>device_protection</th>\n",
       "      <th>...</th>\n",
       "      <th>total_charges</th>\n",
       "      <th>churn</th>\n",
       "      <th>avg_monthly_charges</th>\n",
       "      <th>internet_service-fiber_optic</th>\n",
       "      <th>internet_service-no</th>\n",
       "      <th>contract-one_year</th>\n",
       "      <th>contract-two_year</th>\n",
       "      <th>payment_method-credit_card_auto</th>\n",
       "      <th>payment_method-electronic_check</th>\n",
       "      <th>payment_method-mailed_check</th>\n",
       "    </tr>\n",
       "  </thead>\n",
       "  <tbody>\n",
       "    <tr>\n",
       "      <td>5571</td>\n",
       "      <td>0</td>\n",
       "      <td>0</td>\n",
       "      <td>0</td>\n",
       "      <td>0</td>\n",
       "      <td>48</td>\n",
       "      <td>1</td>\n",
       "      <td>0</td>\n",
       "      <td>0</td>\n",
       "      <td>0</td>\n",
       "      <td>0</td>\n",
       "      <td>...</td>\n",
       "      <td>1004.50</td>\n",
       "      <td>0</td>\n",
       "      <td>20.927083</td>\n",
       "      <td>0</td>\n",
       "      <td>1</td>\n",
       "      <td>1</td>\n",
       "      <td>0</td>\n",
       "      <td>0</td>\n",
       "      <td>0</td>\n",
       "      <td>0</td>\n",
       "    </tr>\n",
       "    <tr>\n",
       "      <td>3432</td>\n",
       "      <td>0</td>\n",
       "      <td>0</td>\n",
       "      <td>1</td>\n",
       "      <td>0</td>\n",
       "      <td>18</td>\n",
       "      <td>1</td>\n",
       "      <td>1</td>\n",
       "      <td>0</td>\n",
       "      <td>0</td>\n",
       "      <td>0</td>\n",
       "      <td>...</td>\n",
       "      <td>1687.95</td>\n",
       "      <td>1</td>\n",
       "      <td>93.775000</td>\n",
       "      <td>1</td>\n",
       "      <td>0</td>\n",
       "      <td>0</td>\n",
       "      <td>0</td>\n",
       "      <td>0</td>\n",
       "      <td>1</td>\n",
       "      <td>0</td>\n",
       "    </tr>\n",
       "  </tbody>\n",
       "</table>\n",
       "<p>2 rows × 25 columns</p>\n",
       "</div>"
      ],
      "text/plain": [
       "      gender  senior  partner  dependents  tenure  phone_service  \\\n",
       "5571       0       0        0           0      48              1   \n",
       "3432       0       0        1           0      18              1   \n",
       "\n",
       "      multiple_lines  online_security  online_backup  device_protection  ...  \\\n",
       "5571               0                0              0                  0  ...   \n",
       "3432               1                0              0                  0  ...   \n",
       "\n",
       "      total_charges  churn  avg_monthly_charges  internet_service-fiber_optic  \\\n",
       "5571        1004.50      0            20.927083                             0   \n",
       "3432        1687.95      1            93.775000                             1   \n",
       "\n",
       "      internet_service-no  contract-one_year  contract-two_year  \\\n",
       "5571                    1                  1                  0   \n",
       "3432                    0                  0                  0   \n",
       "\n",
       "      payment_method-credit_card_auto  payment_method-electronic_check  \\\n",
       "5571                                0                                0   \n",
       "3432                                0                                1   \n",
       "\n",
       "      payment_method-mailed_check  \n",
       "5571                            0  \n",
       "3432                            0  \n",
       "\n",
       "[2 rows x 25 columns]"
      ]
     },
     "execution_count": 57,
     "metadata": {},
     "output_type": "execute_result"
    }
   ],
   "source": [
    "df.head(2)"
   ]
  },
  {
   "cell_type": "code",
   "execution_count": 58,
   "metadata": {},
   "outputs": [
    {
     "data": {
      "text/plain": [
       "Index(['gender', 'senior', 'partner', 'dependents', 'tenure', 'phone_service',\n",
       "       'multiple_lines', 'online_security', 'online_backup',\n",
       "       'device_protection', 'tech_support', 'streaming_tv', 'streaming_movies',\n",
       "       'paperless_billing', 'monthly_charges', 'total_charges', 'churn',\n",
       "       'avg_monthly_charges', 'internet_service-fiber_optic',\n",
       "       'internet_service-no', 'contract-one_year', 'contract-two_year',\n",
       "       'payment_method-credit_card_auto', 'payment_method-electronic_check',\n",
       "       'payment_method-mailed_check'],\n",
       "      dtype='object')"
      ]
     },
     "execution_count": 58,
     "metadata": {},
     "output_type": "execute_result"
    }
   ],
   "source": [
    "df.columns"
   ]
  },
  {
   "cell_type": "code",
   "execution_count": 59,
   "metadata": {},
   "outputs": [
    {
     "data": {
      "text/plain": [
       "0    1318\n",
       "1     440\n",
       "Name: churn, dtype: int64"
      ]
     },
     "execution_count": 59,
     "metadata": {},
     "output_type": "execute_result"
    }
   ],
   "source": [
    "df['churn'].value_counts()"
   ]
  },
  {
   "cell_type": "code",
   "execution_count": 60,
   "metadata": {},
   "outputs": [
    {
     "data": {
      "text/plain": [
       "<matplotlib.axes._subplots.AxesSubplot at 0x25eda859288>"
      ]
     },
     "execution_count": 60,
     "metadata": {},
     "output_type": "execute_result"
    },
    {
     "data": {
      "image/png": "[encoded data removed]",
      "text/plain": [
       "<Figure size 432x288 with 1 Axes>"
      ]
     },
     "metadata": {
      "needs_background": "light"
     },
     "output_type": "display_data"
    }
   ],
   "source": [
    "\n",
    "df['churn'].value_counts(normalize=True).plot(kind='bar')"
   ]
  },
  {
   "cell_type": "code",
   "execution_count": 61,
   "metadata": {
    "scrolled": false
   },
   "outputs": [
    {
     "data": {
      "text/plain": [
       "gender                             0\n",
       "senior                             0\n",
       "partner                            0\n",
       "dependents                         0\n",
       "tenure                             0\n",
       "phone_service                      0\n",
       "multiple_lines                     0\n",
       "online_security                    0\n",
       "online_backup                      0\n",
       "device_protection                  0\n",
       "tech_support                       0\n",
       "streaming_tv                       0\n",
       "streaming_movies                   0\n",
       "paperless_billing                  0\n",
       "monthly_charges                    0\n",
       "total_charges                      0\n",
       "churn                              0\n",
       "avg_monthly_charges                0\n",
       "internet_service-fiber_optic       0\n",
       "internet_service-no                0\n",
       "contract-one_year                  0\n",
       "contract-two_year                  0\n",
       "payment_method-credit_card_auto    0\n",
       "payment_method-electronic_check    0\n",
       "payment_method-mailed_check        0\n",
       "dtype: int64"
      ]
     },
     "execution_count": 61,
     "metadata": {},
     "output_type": "execute_result"
    }
   ],
   "source": [
    "df.isnull().sum()"
   ]
  },
  {
   "cell_type": "code",
   "execution_count": 62,
   "metadata": {},
   "outputs": [],
   "source": [
    "df=df.sample(frac=1,random_state=3)\n",
    "y=df['churn']\n",
    "X=df.drop('churn',axis=1)"
   ]
  },
  {
   "cell_type": "markdown",
   "metadata": {},
   "source": [
    "# Building predictive algoritm using random Forest"
   ]
  },
  {
   "cell_type": "code",
   "execution_count": 63,
   "metadata": {},
   "outputs": [],
   "source": [
    "from sklearn.model_selection import train_test_split\n",
    "X_train, X_test, y_train, y_test = train_test_split(X, y, test_size=0.30, random_state=3)"
   ]
  },
  {
   "cell_type": "code",
   "execution_count": 64,
   "metadata": {},
   "outputs": [],
   "source": [
    "from sklearn.preprocessing import StandardScaler\n",
    "ss=StandardScaler()\n",
    "Xs=ss.fit_transform(X)\n",
    "X_trains=ss.fit_transform(X_train)\n",
    "X_tests=ss.transform(X_test)"
   ]
  },
  {
   "cell_type": "code",
   "execution_count": 65,
   "metadata": {},
   "outputs": [],
   "source": [
    "# Here we are telling the model to create 100 decision tress and make random forest and calculated the score etc\n",
    "from sklearn.ensemble import RandomForestClassifier\n",
    "from sklearn.metrics import confusion_matrix,accuracy_score,roc_auc_score,roc_curve\n",
    "# Create 100 decision trees to form randon Forest\n",
    "rfc=RandomForestClassifier(n_estimators=100)"
   ]
  },
  {
   "cell_type": "code",
   "execution_count": 66,
   "metadata": {},
   "outputs": [
    {
     "data": {
      "text/plain": [
       "RandomForestClassifier(bootstrap=True, ccp_alpha=0.0, class_weight=None,\n",
       "                       criterion='gini', max_depth=None, max_features='auto',\n",
       "                       max_leaf_nodes=None, max_samples=None,\n",
       "                       min_impurity_decrease=0.0, min_impurity_split=None,\n",
       "                       min_samples_leaf=1, min_samples_split=2,\n",
       "                       min_weight_fraction_leaf=0.0, n_estimators=100,\n",
       "                       n_jobs=None, oob_score=False, random_state=None,\n",
       "                       verbose=0, warm_start=False)"
      ]
     },
     "execution_count": 66,
     "metadata": {},
     "output_type": "execute_result"
    }
   ],
   "source": [
    "rfc.fit(X_trains,y_train)"
   ]
  },
  {
   "cell_type": "code",
   "execution_count": 67,
   "metadata": {},
   "outputs": [
    {
     "name": "stdout",
     "output_type": "stream",
     "text": [
      "Overall Accuracy -Train 1.0\n",
      "Confusion matrix-Train \n",
      " [[912   0]\n",
      " [  0 318]]\n",
      "AUC - Train 1.0\n"
     ]
    }
   ],
   "source": [
    "y_train_predict=rfc.predict(X_trains)\n",
    "y_train_prob=rfc.predict_proba(X_trains)[:,-1]\n",
    "y_train_predict\n",
    "print('Overall Accuracy -Train',accuracy_score(y_train,y_train_predict))\n",
    "print('Confusion matrix-Train','\\n',confusion_matrix(y_train,y_train_predict))\n",
    "print('AUC - Train',roc_auc_score(y_train,y_train_prob))"
   ]
  },
  {
   "cell_type": "code",
   "execution_count": 68,
   "metadata": {},
   "outputs": [
    {
     "name": "stdout",
     "output_type": "stream",
     "text": [
      "Overall Accuracy -Test 0.7992424242424242\n",
      "Confusion matrix-Test \n",
      " [[374  32]\n",
      " [ 74  48]]\n",
      "AUC - Test 0.818894855850763\n"
     ]
    }
   ],
   "source": [
    "y_test_pred=rfc.predict(X_tests)\n",
    "y_test_prob=rfc.predict_proba(X_tests)[:,-1]\n",
    "print('Overall Accuracy -Test',accuracy_score(y_test,y_test_pred))\n",
    "print('Confusion matrix-Test','\\n',confusion_matrix(y_test,y_test_pred))\n",
    "print('AUC - Test',roc_auc_score(y_test,y_test_prob))"
   ]
  },
  {
   "cell_type": "code",
   "execution_count": 69,
   "metadata": {},
   "outputs": [
    {
     "data": {
      "text/plain": [
       "Text(0, 0.5, 'TPR')"
      ]
     },
     "execution_count": 69,
     "metadata": {},
     "output_type": "execute_result"
    },
    {
     "data": {
      "image/png": "[encoded data removed]",
      "text/plain": [
       "<Figure size 432x288 with 1 Axes>"
      ]
     },
     "metadata": {
      "needs_background": "light"
     },
     "output_type": "display_data"
    }
   ],
   "source": [
    "fpr,tpr,thresholds=roc_curve(y_test,y_test_prob)\n",
    "plt.plot(fpr,tpr)\n",
    "plt.plot(fpr,fpr)\n",
    "plt.xlabel('FPR')\n",
    "plt.ylabel('TPR')"
   ]
  },
  {
   "cell_type": "code",
   "execution_count": 70,
   "metadata": {},
   "outputs": [],
   "source": [
    "## HYperparameter tuning of Random Forest\n",
    "# #Here we are telling to  select the best features and thn will create randomforest and and th remove auc ,score etc"
   ]
  },
  {
   "cell_type": "code",
   "execution_count": 71,
   "metadata": {},
   "outputs": [
    {
     "data": {
      "text/plain": [
       "RandomizedSearchCV(cv=3, error_score=nan,\n",
       "                   estimator=RandomForestClassifier(bootstrap=True,\n",
       "                                                    ccp_alpha=0.0,\n",
       "                                                    class_weight=None,\n",
       "                                                    criterion='gini',\n",
       "                                                    max_depth=None,\n",
       "                                                    max_features='auto',\n",
       "                                                    max_leaf_nodes=None,\n",
       "                                                    max_samples=None,\n",
       "                                                    min_impurity_decrease=0.0,\n",
       "                                                    min_impurity_split=None,\n",
       "                                                    min_samples_leaf=1,\n",
       "                                                    min_samples_split=2,\n",
       "                                                    min_weight_fraction_leaf=0.0,\n",
       "                                                    n_estimators=100,\n",
       "                                                    n_jobs...\n",
       "                                        'min_samples_leaf': <scipy.stats._distn_infrastructure.rv_frozen object at 0x0000025EDA925B88>,\n",
       "                                        'min_samples_split': <scipy.stats._distn_infrastructure.rv_frozen object at 0x0000025EDA925B48>,\n",
       "                                        'n_estimators': <scipy.stats._distn_infrastructure.rv_frozen object at 0x0000025EDA92CF88>},\n",
       "                   pre_dispatch='2*n_jobs', random_state=3, refit=True,\n",
       "                   return_train_score=True, scoring='roc_auc', verbose=0)"
      ]
     },
     "execution_count": 71,
     "metadata": {},
     "output_type": "execute_result"
    }
   ],
   "source": [
    "from sklearn.model_selection import RandomizedSearchCV\n",
    "from scipy.stats import randint as sp_randint\n",
    "rfc=RandomForestClassifier(random_state=3)\n",
    "params={'n_estimators':sp_randint(50,200),\n",
    "        'max_features':sp_randint(1,24),\n",
    "        'max_depth':sp_randint(2,10),\n",
    "        'min_samples_split':sp_randint(2,20),\n",
    "        'min_samples_leaf':sp_randint(1,20),\n",
    "        'criterion':['gini','entropy']\n",
    "}\n",
    "rsearch_rfc=RandomizedSearchCV(rfc,param_distributions=params,n_iter=50,cv=3,scoring='roc_auc',random_state=3,return_train_score=True)\n",
    "rsearch_rfc.fit(Xs,y)"
   ]
  },
  {
   "cell_type": "code",
   "execution_count": 72,
   "metadata": {},
   "outputs": [
    {
     "data": {
      "text/plain": [
       "{'criterion': 'entropy',\n",
       " 'max_depth': 9,\n",
       " 'max_features': 1,\n",
       " 'min_samples_leaf': 4,\n",
       " 'min_samples_split': 16,\n",
       " 'n_estimators': 126}"
      ]
     },
     "execution_count": 72,
     "metadata": {},
     "output_type": "execute_result"
    }
   ],
   "source": [
    "rsearch_rfc.best_params_"
   ]
  },
  {
   "cell_type": "code",
   "execution_count": 73,
   "metadata": {},
   "outputs": [
    {
     "data": {
      "text/plain": [
       "{'mean_fit_time': array([0.06195339, 0.39893548, 0.3009088 , 0.3593092 , 0.20793867,\n",
       "        0.25513657, 0.08330433, 0.07291079, 0.11456776, 0.37491727,\n",
       "        0.38533783, 0.1509939 , 0.18225654, 0.16661485, 0.22391343,\n",
       "        0.11456688, 0.24005938, 0.15101544, 0.51028291, 0.15100511,\n",
       "        0.15101671, 0.22391391, 0.14582658, 0.20306635, 0.32805713,\n",
       "        0.20307612, 0.1926523 , 0.19408441, 0.20311308, 0.39736263,\n",
       "        0.17393883, 0.1457808 , 0.05207117, 0.19265358, 0.12495844,\n",
       "        0.08853173, 0.20310362, 0.1926651 , 0.30199917, 0.18745716,\n",
       "        0.29161739, 0.37489223, 0.14580909, 0.25515469, 0.27597022,\n",
       "        0.24994477, 0.13539942, 0.12497973, 0.35236359, 0.11453048]),\n",
       " 'std_fit_time': array([7.48925353e-04, 4.71891313e-02, 2.29751503e-02, 2.20652773e-02,\n",
       "        6.80554288e-03, 7.37217278e-03, 7.36834264e-03, 7.34720784e-03,\n",
       "        7.38159910e-03, 1.17237958e-05, 7.34754440e-03, 7.35419097e-03,\n",
       "        7.33065748e-03, 7.38047515e-03, 7.39998524e-03, 7.37985710e-03,\n",
       "        7.05674971e-03, 7.38933988e-03, 1.47154629e-02, 7.36631390e-03,\n",
       "        7.37082082e-03, 7.37687914e-03, 7.31955897e-03, 2.38426526e-05,\n",
       "        1.19198693e-05, 5.84003864e-07, 7.35156548e-03, 2.35024255e-02,\n",
       "        3.62098094e-05, 6.51174377e-03, 2.98468703e-03, 7.37624733e-03,\n",
       "        7.36417837e-03, 7.35232104e-03, 1.27404357e-02, 7.37368913e-03,\n",
       "        3.32838561e-06, 7.32078074e-03, 7.37008786e-03, 2.13544032e-06,\n",
       "        7.36189517e-03, 2.68197059e-05, 7.35661060e-03, 7.37614815e-03,\n",
       "        7.35665468e-03, 2.88951340e-05, 7.37257143e-03, 1.61715065e-05,\n",
       "        6.82298074e-03, 7.35503661e-03]),\n",
       " 'mean_score_time': array([0.01564868, 0.02138217, 0.02328022, 0.01560354, 0.02082658,\n",
       "        0.01564137, 0.00520698, 0.01562325, 0.01562095, 0.02083023,\n",
       "        0.02082674, 0.01562174, 0.00520841, 0.01562285, 0.01040626,\n",
       "        0.01562293, 0.0156227 , 0.0104266 , 0.02082825, 0.0156219 ,\n",
       "        0.01562206, 0.01561316, 0.01562285, 0.01041547, 0.03123514,\n",
       "        0.0156227 , 0.01563223, 0.0033718 , 0.01561348, 0.01937207,\n",
       "        0.0052073 , 0.01562174, 0.01562166, 0.01562262, 0.01041452,\n",
       "        0.00520738, 0.01562238, 0.02082817, 0.01562516, 0.01562238,\n",
       "        0.01562325, 0.01562333, 0.00520714, 0.01039561, 0.02082801,\n",
       "        0.01559281, 0.02081402, 0.01562277, 0.02603674, 0.01043439]),\n",
       " 'std_score_time': array([1.89941797e-05, 8.14440084e-03, 6.39712459e-03, 2.71636793e-05,\n",
       "        7.36238009e-03, 2.68622968e-05, 7.36378498e-03, 1.74478677e-06,\n",
       "        1.18411894e-06, 7.36232389e-03, 7.36429076e-03, 4.89903609e-07,\n",
       "        7.36580803e-03, 1.68587394e-06, 7.35834004e-03, 1.36730278e-06,\n",
       "        2.54064677e-06, 7.37272317e-03, 7.36457189e-03, 5.15042996e-07,\n",
       "        5.94720425e-07, 1.10298481e-05, 1.36267568e-06, 7.36485273e-03,\n",
       "        1.25290167e-05, 2.08152149e-06, 1.02350430e-05, 4.01232189e-03,\n",
       "        1.19278146e-05, 5.34287589e-03, 7.36423455e-03, 4.89903609e-07,\n",
       "        5.15042996e-07, 1.08386530e-06, 7.36417836e-03, 7.36434694e-03,\n",
       "        6.74349576e-07, 7.36159338e-03, 1.94992131e-06, 7.01885292e-07,\n",
       "        4.45757029e-06, 1.03008599e-06, 7.36400976e-03, 7.35083995e-03,\n",
       "        7.36103139e-03, 2.59624587e-05, 7.34462229e-03, 1.94992131e-06,\n",
       "        7.36445249e-03, 7.37826711e-03]),\n",
       " 'param_criterion': masked_array(data=['gini', 'entropy', 'entropy', 'entropy', 'entropy',\n",
       "                    'entropy', 'entropy', 'entropy', 'gini', 'entropy',\n",
       "                    'gini', 'gini', 'entropy', 'gini', 'entropy', 'gini',\n",
       "                    'entropy', 'gini', 'entropy', 'gini', 'gini', 'gini',\n",
       "                    'gini', 'entropy', 'gini', 'gini', 'entropy',\n",
       "                    'entropy', 'entropy', 'gini', 'entropy', 'entropy',\n",
       "                    'gini', 'gini', 'entropy', 'gini', 'entropy', 'gini',\n",
       "                    'entropy', 'gini', 'entropy', 'gini', 'entropy',\n",
       "                    'entropy', 'entropy', 'entropy', 'entropy', 'entropy',\n",
       "                    'gini', 'gini'],\n",
       "              mask=[False, False, False, False, False, False, False, False,\n",
       "                    False, False, False, False, False, False, False, False,\n",
       "                    False, False, False, False, False, False, False, False,\n",
       "                    False, False, False, False, False, False, False, False,\n",
       "                    False, False, False, False, False, False, False, False,\n",
       "                    False, False, False, False, False, False, False, False,\n",
       "                    False, False],\n",
       "        fill_value='?',\n",
       "             dtype=object),\n",
       " 'param_max_depth': masked_array(data=[2, 5, 9, 8, 5, 4, 2, 8, 9, 3, 5, 4, 3, 2, 7, 2, 6, 6,\n",
       "                    4, 3, 6, 2, 4, 2, 7, 2, 6, 9, 2, 6, 7, 2, 7, 8, 7, 3,\n",
       "                    6, 6, 4, 5, 7, 8, 2, 6, 7, 9, 9, 8, 9, 6],\n",
       "              mask=[False, False, False, False, False, False, False, False,\n",
       "                    False, False, False, False, False, False, False, False,\n",
       "                    False, False, False, False, False, False, False, False,\n",
       "                    False, False, False, False, False, False, False, False,\n",
       "                    False, False, False, False, False, False, False, False,\n",
       "                    False, False, False, False, False, False, False, False,\n",
       "                    False, False],\n",
       "        fill_value='?',\n",
       "             dtype=object),\n",
       " 'param_max_features': masked_array(data=[4, 11, 7, 18, 6, 8, 6, 1, 6, 22, 17, 12, 21, 13, 18,\n",
       "                    10, 11, 13, 21, 23, 17, 15, 6, 14, 11, 22, 22, 14, 16,\n",
       "                    16, 18, 5, 3, 13, 8, 8, 9, 4, 19, 4, 13, 20, 13, 22, 5,\n",
       "                    10, 1, 2, 15, 3],\n",
       "              mask=[False, False, False, False, False, False, False, False,\n",
       "                    False, False, False, False, False, False, False, False,\n",
       "                    False, False, False, False, False, False, False, False,\n",
       "                    False, False, False, False, False, False, False, False,\n",
       "                    False, False, False, False, False, False, False, False,\n",
       "                    False, False, False, False, False, False, False, False,\n",
       "                    False, False],\n",
       "        fill_value='?',\n",
       "             dtype=object),\n",
       " 'param_min_samples_leaf': masked_array(data=[9, 12, 1, 3, 9, 12, 18, 1, 8, 11, 17, 1, 18, 17, 9, 2,\n",
       "                    17, 17, 2, 12, 12, 13, 10, 13, 9, 8, 16, 5, 5, 15, 9,\n",
       "                    1, 15, 12, 13, 3, 10, 3, 1, 6, 19, 14, 9, 13, 3, 7, 4,\n",
       "                    16, 12, 2],\n",
       "              mask=[False, False, False, False, False, False, False, False,\n",
       "                    False, False, False, False, False, False, False, False,\n",
       "                    False, False, False, False, False, False, False, False,\n",
       "                    False, False, False, False, False, False, False, False,\n",
       "                    False, False, False, False, False, False, False, False,\n",
       "                    False, False, False, False, False, False, False, False,\n",
       "                    False, False],\n",
       "        fill_value='?',\n",
       "             dtype=object),\n",
       " 'param_min_samples_split': masked_array(data=[2, 11, 14, 4, 16, 3, 16, 11, 7, 13, 2, 15, 4, 12, 9,\n",
       "                    17, 18, 4, 4, 9, 10, 6, 12, 9, 14, 2, 13, 11, 12, 12,\n",
       "                    4, 15, 12, 9, 14, 17, 10, 13, 9, 16, 4, 9, 6, 2, 7, 15,\n",
       "                    16, 5, 7, 8],\n",
       "              mask=[False, False, False, False, False, False, False, False,\n",
       "                    False, False, False, False, False, False, False, False,\n",
       "                    False, False, False, False, False, False, False, False,\n",
       "                    False, False, False, False, False, False, False, False,\n",
       "                    False, False, False, False, False, False, False, False,\n",
       "                    False, False, False, False, False, False, False, False,\n",
       "                    False, False],\n",
       "        fill_value='?',\n",
       "             dtype=object),\n",
       " 'param_n_estimators': masked_array(data=[71, 188, 143, 110, 147, 173, 78, 68, 83, 174, 194, 98,\n",
       "                    86, 141, 79, 105, 126, 85, 198, 82, 70, 187, 131, 142,\n",
       "                    195, 138, 67, 63, 137, 189, 61, 147, 57, 107, 71, 72,\n",
       "                    119, 169, 128, 172, 142, 159, 92, 85, 175, 115, 126,\n",
       "                    120, 169, 100],\n",
       "              mask=[False, False, False, False, False, False, False, False,\n",
       "                    False, False, False, False, False, False, False, False,\n",
       "                    False, False, False, False, False, False, False, False,\n",
       "                    False, False, False, False, False, False, False, False,\n",
       "                    False, False, False, False, False, False, False, False,\n",
       "                    False, False, False, False, False, False, False, False,\n",
       "                    False, False],\n",
       "        fill_value='?',\n",
       "             dtype=object),\n",
       " 'params': [{'criterion': 'gini',\n",
       "   'max_depth': 2,\n",
       "   'max_features': 4,\n",
       "   'min_samples_leaf': 9,\n",
       "   'min_samples_split': 2,\n",
       "   'n_estimators': 71},\n",
       "  {'criterion': 'entropy',\n",
       "   'max_depth': 5,\n",
       "   'max_features': 11,\n",
       "   'min_samples_leaf': 12,\n",
       "   'min_samples_split': 11,\n",
       "   'n_estimators': 188},\n",
       "  {'criterion': 'entropy',\n",
       "   'max_depth': 9,\n",
       "   'max_features': 7,\n",
       "   'min_samples_leaf': 1,\n",
       "   'min_samples_split': 14,\n",
       "   'n_estimators': 143},\n",
       "  {'criterion': 'entropy',\n",
       "   'max_depth': 8,\n",
       "   'max_features': 18,\n",
       "   'min_samples_leaf': 3,\n",
       "   'min_samples_split': 4,\n",
       "   'n_estimators': 110},\n",
       "  {'criterion': 'entropy',\n",
       "   'max_depth': 5,\n",
       "   'max_features': 6,\n",
       "   'min_samples_leaf': 9,\n",
       "   'min_samples_split': 16,\n",
       "   'n_estimators': 147},\n",
       "  {'criterion': 'entropy',\n",
       "   'max_depth': 4,\n",
       "   'max_features': 8,\n",
       "   'min_samples_leaf': 12,\n",
       "   'min_samples_split': 3,\n",
       "   'n_estimators': 173},\n",
       "  {'criterion': 'entropy',\n",
       "   'max_depth': 2,\n",
       "   'max_features': 6,\n",
       "   'min_samples_leaf': 18,\n",
       "   'min_samples_split': 16,\n",
       "   'n_estimators': 78},\n",
       "  {'criterion': 'entropy',\n",
       "   'max_depth': 8,\n",
       "   'max_features': 1,\n",
       "   'min_samples_leaf': 1,\n",
       "   'min_samples_split': 11,\n",
       "   'n_estimators': 68},\n",
       "  {'criterion': 'gini',\n",
       "   'max_depth': 9,\n",
       "   'max_features': 6,\n",
       "   'min_samples_leaf': 8,\n",
       "   'min_samples_split': 7,\n",
       "   'n_estimators': 83},\n",
       "  {'criterion': 'entropy',\n",
       "   'max_depth': 3,\n",
       "   'max_features': 22,\n",
       "   'min_samples_leaf': 11,\n",
       "   'min_samples_split': 13,\n",
       "   'n_estimators': 174},\n",
       "  {'criterion': 'gini',\n",
       "   'max_depth': 5,\n",
       "   'max_features': 17,\n",
       "   'min_samples_leaf': 17,\n",
       "   'min_samples_split': 2,\n",
       "   'n_estimators': 194},\n",
       "  {'criterion': 'gini',\n",
       "   'max_depth': 4,\n",
       "   'max_features': 12,\n",
       "   'min_samples_leaf': 1,\n",
       "   'min_samples_split': 15,\n",
       "   'n_estimators': 98},\n",
       "  {'criterion': 'entropy',\n",
       "   'max_depth': 3,\n",
       "   'max_features': 21,\n",
       "   'min_samples_leaf': 18,\n",
       "   'min_samples_split': 4,\n",
       "   'n_estimators': 86},\n",
       "  {'criterion': 'gini',\n",
       "   'max_depth': 2,\n",
       "   'max_features': 13,\n",
       "   'min_samples_leaf': 17,\n",
       "   'min_samples_split': 12,\n",
       "   'n_estimators': 141},\n",
       "  {'criterion': 'entropy',\n",
       "   'max_depth': 7,\n",
       "   'max_features': 18,\n",
       "   'min_samples_leaf': 9,\n",
       "   'min_samples_split': 9,\n",
       "   'n_estimators': 79},\n",
       "  {'criterion': 'gini',\n",
       "   'max_depth': 2,\n",
       "   'max_features': 10,\n",
       "   'min_samples_leaf': 2,\n",
       "   'min_samples_split': 17,\n",
       "   'n_estimators': 105},\n",
       "  {'criterion': 'entropy',\n",
       "   'max_depth': 6,\n",
       "   'max_features': 11,\n",
       "   'min_samples_leaf': 17,\n",
       "   'min_samples_split': 18,\n",
       "   'n_estimators': 126},\n",
       "  {'criterion': 'gini',\n",
       "   'max_depth': 6,\n",
       "   'max_features': 13,\n",
       "   'min_samples_leaf': 17,\n",
       "   'min_samples_split': 4,\n",
       "   'n_estimators': 85},\n",
       "  {'criterion': 'entropy',\n",
       "   'max_depth': 4,\n",
       "   'max_features': 21,\n",
       "   'min_samples_leaf': 2,\n",
       "   'min_samples_split': 4,\n",
       "   'n_estimators': 198},\n",
       "  {'criterion': 'gini',\n",
       "   'max_depth': 3,\n",
       "   'max_features': 23,\n",
       "   'min_samples_leaf': 12,\n",
       "   'min_samples_split': 9,\n",
       "   'n_estimators': 82},\n",
       "  {'criterion': 'gini',\n",
       "   'max_depth': 6,\n",
       "   'max_features': 17,\n",
       "   'min_samples_leaf': 12,\n",
       "   'min_samples_split': 10,\n",
       "   'n_estimators': 70},\n",
       "  {'criterion': 'gini',\n",
       "   'max_depth': 2,\n",
       "   'max_features': 15,\n",
       "   'min_samples_leaf': 13,\n",
       "   'min_samples_split': 6,\n",
       "   'n_estimators': 187},\n",
       "  {'criterion': 'gini',\n",
       "   'max_depth': 4,\n",
       "   'max_features': 6,\n",
       "   'min_samples_leaf': 10,\n",
       "   'min_samples_split': 12,\n",
       "   'n_estimators': 131},\n",
       "  {'criterion': 'entropy',\n",
       "   'max_depth': 2,\n",
       "   'max_features': 14,\n",
       "   'min_samples_leaf': 13,\n",
       "   'min_samples_split': 9,\n",
       "   'n_estimators': 142},\n",
       "  {'criterion': 'gini',\n",
       "   'max_depth': 7,\n",
       "   'max_features': 11,\n",
       "   'min_samples_leaf': 9,\n",
       "   'min_samples_split': 14,\n",
       "   'n_estimators': 195},\n",
       "  {'criterion': 'gini',\n",
       "   'max_depth': 2,\n",
       "   'max_features': 22,\n",
       "   'min_samples_leaf': 8,\n",
       "   'min_samples_split': 2,\n",
       "   'n_estimators': 138},\n",
       "  {'criterion': 'entropy',\n",
       "   'max_depth': 6,\n",
       "   'max_features': 22,\n",
       "   'min_samples_leaf': 16,\n",
       "   'min_samples_split': 13,\n",
       "   'n_estimators': 67},\n",
       "  {'criterion': 'entropy',\n",
       "   'max_depth': 9,\n",
       "   'max_features': 14,\n",
       "   'min_samples_leaf': 5,\n",
       "   'min_samples_split': 11,\n",
       "   'n_estimators': 63},\n",
       "  {'criterion': 'entropy',\n",
       "   'max_depth': 2,\n",
       "   'max_features': 16,\n",
       "   'min_samples_leaf': 5,\n",
       "   'min_samples_split': 12,\n",
       "   'n_estimators': 137},\n",
       "  {'criterion': 'gini',\n",
       "   'max_depth': 6,\n",
       "   'max_features': 16,\n",
       "   'min_samples_leaf': 15,\n",
       "   'min_samples_split': 12,\n",
       "   'n_estimators': 189},\n",
       "  {'criterion': 'entropy',\n",
       "   'max_depth': 7,\n",
       "   'max_features': 18,\n",
       "   'min_samples_leaf': 9,\n",
       "   'min_samples_split': 4,\n",
       "   'n_estimators': 61},\n",
       "  {'criterion': 'entropy',\n",
       "   'max_depth': 2,\n",
       "   'max_features': 5,\n",
       "   'min_samples_leaf': 1,\n",
       "   'min_samples_split': 15,\n",
       "   'n_estimators': 147},\n",
       "  {'criterion': 'gini',\n",
       "   'max_depth': 7,\n",
       "   'max_features': 3,\n",
       "   'min_samples_leaf': 15,\n",
       "   'min_samples_split': 12,\n",
       "   'n_estimators': 57},\n",
       "  {'criterion': 'gini',\n",
       "   'max_depth': 8,\n",
       "   'max_features': 13,\n",
       "   'min_samples_leaf': 12,\n",
       "   'min_samples_split': 9,\n",
       "   'n_estimators': 107},\n",
       "  {'criterion': 'entropy',\n",
       "   'max_depth': 7,\n",
       "   'max_features': 8,\n",
       "   'min_samples_leaf': 13,\n",
       "   'min_samples_split': 14,\n",
       "   'n_estimators': 71},\n",
       "  {'criterion': 'gini',\n",
       "   'max_depth': 3,\n",
       "   'max_features': 8,\n",
       "   'min_samples_leaf': 3,\n",
       "   'min_samples_split': 17,\n",
       "   'n_estimators': 72},\n",
       "  {'criterion': 'entropy',\n",
       "   'max_depth': 6,\n",
       "   'max_features': 9,\n",
       "   'min_samples_leaf': 10,\n",
       "   'min_samples_split': 10,\n",
       "   'n_estimators': 119},\n",
       "  {'criterion': 'gini',\n",
       "   'max_depth': 6,\n",
       "   'max_features': 4,\n",
       "   'min_samples_leaf': 3,\n",
       "   'min_samples_split': 13,\n",
       "   'n_estimators': 169},\n",
       "  {'criterion': 'entropy',\n",
       "   'max_depth': 4,\n",
       "   'max_features': 19,\n",
       "   'min_samples_leaf': 1,\n",
       "   'min_samples_split': 9,\n",
       "   'n_estimators': 128},\n",
       "  {'criterion': 'gini',\n",
       "   'max_depth': 5,\n",
       "   'max_features': 4,\n",
       "   'min_samples_leaf': 6,\n",
       "   'min_samples_split': 16,\n",
       "   'n_estimators': 172},\n",
       "  {'criterion': 'entropy',\n",
       "   'max_depth': 7,\n",
       "   'max_features': 13,\n",
       "   'min_samples_leaf': 19,\n",
       "   'min_samples_split': 4,\n",
       "   'n_estimators': 142},\n",
       "  {'criterion': 'gini',\n",
       "   'max_depth': 8,\n",
       "   'max_features': 20,\n",
       "   'min_samples_leaf': 14,\n",
       "   'min_samples_split': 9,\n",
       "   'n_estimators': 159},\n",
       "  {'criterion': 'entropy',\n",
       "   'max_depth': 2,\n",
       "   'max_features': 13,\n",
       "   'min_samples_leaf': 9,\n",
       "   'min_samples_split': 6,\n",
       "   'n_estimators': 92},\n",
       "  {'criterion': 'entropy',\n",
       "   'max_depth': 6,\n",
       "   'max_features': 22,\n",
       "   'min_samples_leaf': 13,\n",
       "   'min_samples_split': 2,\n",
       "   'n_estimators': 85},\n",
       "  {'criterion': 'entropy',\n",
       "   'max_depth': 7,\n",
       "   'max_features': 5,\n",
       "   'min_samples_leaf': 3,\n",
       "   'min_samples_split': 7,\n",
       "   'n_estimators': 175},\n",
       "  {'criterion': 'entropy',\n",
       "   'max_depth': 9,\n",
       "   'max_features': 10,\n",
       "   'min_samples_leaf': 7,\n",
       "   'min_samples_split': 15,\n",
       "   'n_estimators': 115},\n",
       "  {'criterion': 'entropy',\n",
       "   'max_depth': 9,\n",
       "   'max_features': 1,\n",
       "   'min_samples_leaf': 4,\n",
       "   'min_samples_split': 16,\n",
       "   'n_estimators': 126},\n",
       "  {'criterion': 'entropy',\n",
       "   'max_depth': 8,\n",
       "   'max_features': 2,\n",
       "   'min_samples_leaf': 16,\n",
       "   'min_samples_split': 5,\n",
       "   'n_estimators': 120},\n",
       "  {'criterion': 'gini',\n",
       "   'max_depth': 9,\n",
       "   'max_features': 15,\n",
       "   'min_samples_leaf': 12,\n",
       "   'min_samples_split': 7,\n",
       "   'n_estimators': 169},\n",
       "  {'criterion': 'gini',\n",
       "   'max_depth': 6,\n",
       "   'max_features': 3,\n",
       "   'min_samples_leaf': 2,\n",
       "   'min_samples_split': 8,\n",
       "   'n_estimators': 100}],\n",
       " 'split0_test_score': array([0.83850123, 0.84274712, 0.83874917, 0.83028063, 0.8466521 ,\n",
       "        0.84460664, 0.8395782 , 0.84780655, 0.8443432 , 0.83483644,\n",
       "        0.83692065, 0.84181736, 0.83244232, 0.82075837, 0.8369129 ,\n",
       "        0.83031937, 0.84376985, 0.84198782, 0.8388034 , 0.832698  ,\n",
       "        0.83650225, 0.81726404, 0.84522647, 0.82502751, 0.83936901,\n",
       "        0.81763594, 0.84077914, 0.8321169 , 0.82224598, 0.83575845,\n",
       "        0.83831528, 0.83936901, 0.84593929, 0.8378659 , 0.84776781,\n",
       "        0.84043048, 0.84652813, 0.84718671, 0.83964793, 0.84806998,\n",
       "        0.84448267, 0.83115615, 0.8267863 , 0.84017479, 0.84350642,\n",
       "        0.84098058, 0.84948786, 0.8451335 , 0.83620008, 0.84980553]),\n",
       " 'split1_test_score': array([0.82019277, 0.82568608, 0.82006105, 0.8107015 , 0.82591077,\n",
       "        0.8256241 , 0.82167263, 0.82050269, 0.82145569, 0.80138844,\n",
       "        0.82502751, 0.82144019, 0.80174484, 0.82543815, 0.82356314,\n",
       "        0.82636016, 0.8252367 , 0.82600375, 0.81771342, 0.82272636,\n",
       "        0.82037097, 0.82398153, 0.82747587, 0.81866642, 0.82469434,\n",
       "        0.82201354, 0.82250167, 0.81581516, 0.81254552, 0.82558536,\n",
       "        0.82515147, 0.82473308, 0.82125424, 0.8254459 , 0.82317574,\n",
       "        0.82766182, 0.82463236, 0.82165714, 0.81918553, 0.82756109,\n",
       "        0.82240869, 0.82325322, 0.81852696, 0.81992159, 0.82116901,\n",
       "        0.81934824, 0.82089009, 0.82288132, 0.82415973, 0.82301303]),\n",
       " 'split2_test_score': array([0.86039072, 0.85777553, 0.85358811, 0.8387142 , 0.86302927,\n",
       "        0.86051526, 0.86353518, 0.86728674, 0.85259184, 0.85423412,\n",
       "        0.84467621, 0.85049813, 0.85218711, 0.84499533, 0.84416252,\n",
       "        0.84908157, 0.85495797, 0.85038138, 0.85245953, 0.83914228,\n",
       "        0.84187422, 0.84053549, 0.86032067, 0.85335461, 0.8487391 ,\n",
       "        0.83483032, 0.85515255, 0.84363325, 0.8509807 , 0.8443571 ,\n",
       "        0.84441936, 0.86181507, 0.85983811, 0.84664539, 0.85716065,\n",
       "        0.85581413, 0.85842933, 0.85950342, 0.8550358 , 0.8619863 ,\n",
       "        0.85486457, 0.84167964, 0.85719178, 0.85407846, 0.85875623,\n",
       "        0.84936955, 0.86726339, 0.86631382, 0.84585149, 0.85997821]),\n",
       " 'mean_test_score': array([0.83969491, 0.84206958, 0.83746611, 0.82656544, 0.84519738,\n",
       "        0.843582  , 0.84159534, 0.84519866, 0.83946358, 0.830153  ,\n",
       "        0.83554145, 0.83791856, 0.82879142, 0.83039728, 0.83487952,\n",
       "        0.8352537 , 0.84132151, 0.83945765, 0.83632545, 0.83152221,\n",
       "        0.83291582, 0.82726035, 0.844341  , 0.83234951, 0.83760082,\n",
       "        0.8248266 , 0.83947778, 0.83052177, 0.82859073, 0.83523364,\n",
       "        0.83596204, 0.84197239, 0.84234388, 0.8366524 , 0.8427014 ,\n",
       "        0.84130214, 0.84319661, 0.84278242, 0.83795642, 0.84587246,\n",
       "        0.84058531, 0.83202967, 0.83416834, 0.83805828, 0.84114389,\n",
       "        0.83656613, 0.84588044, 0.84477621, 0.83540377, 0.84426559]),\n",
       " 'std_test_score': array([0.01643244, 0.01310922, 0.0137174 , 0.01173399, 0.01518843,\n",
       "        0.01426267, 0.01714973, 0.01918832, 0.01317126, 0.02182686,\n",
       "        0.00808062, 0.01217898, 0.02075415, 0.01049769, 0.00853169,\n",
       "        0.00991048, 0.01225654, 0.01011166, 0.01429285, 0.00675315,\n",
       "        0.00913763, 0.00977934, 0.01342345, 0.01507816, 0.00989554,\n",
       "        0.00729597, 0.01336139, 0.01141256, 0.01631988, 0.00767251,\n",
       "        0.00804016, 0.01525017, 0.01595564, 0.00869709, 0.01432934,\n",
       "        0.01150965, 0.01399722, 0.01576142, 0.0146846 , 0.01413967,\n",
       "        0.01353361, 0.00754787, 0.01662555, 0.01402456, 0.01543558,\n",
       "        0.01264741, 0.01910289, 0.01773305, 0.00887351, 0.01559111]),\n",
       " 'rank_test_score': array([20, 13, 28, 49,  4,  8, 15,  3, 22, 45, 33, 26, 46, 44, 37, 35, 16,\n",
       "        23, 31, 42, 39, 48,  6, 40, 27, 50, 21, 43, 47, 36, 32, 14, 12, 29,\n",
       "        11, 17,  9, 10, 25,  2, 19, 41, 38, 24, 18, 30,  1,  5, 34,  7]),\n",
       " 'split0_train_score': array([0.85189111, 0.89187993, 0.95989858, 0.96862709, 0.88914062,\n",
       "        0.87242523, 0.85577196, 0.93228226, 0.9281568 , 0.86162137,\n",
       "        0.89007055, 0.88411436, 0.85906068, 0.84216279, 0.92644061,\n",
       "        0.84568642, 0.89471048, 0.89575301, 0.88571795, 0.85780654,\n",
       "        0.90796049, 0.84061938, 0.87461706, 0.84088924, 0.92275973,\n",
       "        0.83756169, 0.9009773 , 0.96030627, 0.83918663, 0.90171114,\n",
       "        0.92471277, 0.85652522, 0.88459582, 0.91798778, 0.90603463,\n",
       "        0.86479555, 0.90590455, 0.91075415, 0.8830097 , 0.88862227,\n",
       "        0.89696055, 0.9147146 , 0.84483026, 0.9072577 , 0.9345401 ,\n",
       "        0.94246875, 0.91351481, 0.88504622, 0.92013885, 0.91367207]),\n",
       " 'split1_train_score': array([0.86314148, 0.89664411, 0.96331155, 0.96952789, 0.896747  ,\n",
       "        0.8823904 , 0.86290658, 0.932059  , 0.93054083, 0.8652246 ,\n",
       "        0.89512982, 0.88884941, 0.86540709, 0.85733478, 0.93057578,\n",
       "        0.85910921, 0.90013862, 0.89923587, 0.89422707, 0.86859874,\n",
       "        0.91264701, 0.85252012, 0.88352417, 0.86014592, 0.9257223 ,\n",
       "        0.84708616, 0.90641514, 0.96270584, 0.86024298, 0.90549298,\n",
       "        0.9300982 , 0.86680684, 0.89212454, 0.92059702, 0.90857397,\n",
       "        0.87070127, 0.91005331, 0.91744808, 0.89347381, 0.89809433,\n",
       "        0.90227415, 0.91813921, 0.86089723, 0.91129386, 0.94034099,\n",
       "        0.94524495, 0.92015826, 0.89080828, 0.9222705 , 0.91890801]),\n",
       " 'split2_train_score': array([0.84786078, 0.88453776, 0.95953233, 0.9699766 , 0.88320123,\n",
       "        0.86766267, 0.84576496, 0.93139363, 0.92445725, 0.85603877,\n",
       "        0.8838753 , 0.87709583, 0.85182775, 0.83759084, 0.92489114,\n",
       "        0.84038012, 0.8875246 , 0.88939186, 0.87906381, 0.85402236,\n",
       "        0.90382053, 0.83441224, 0.86879775, 0.83443548, 0.91921962,\n",
       "        0.83113485, 0.89526289, 0.95900934, 0.8342166 , 0.89578394,\n",
       "        0.92409891, 0.84529233, 0.87920521, 0.91258348, 0.89637472,\n",
       "        0.85528141, 0.89858871, 0.90557351, 0.87798491, 0.88370485,\n",
       "        0.88910519, 0.91014287, 0.83968473, 0.90036106, 0.93136845,\n",
       "        0.94049556, 0.9087986 , 0.87536415, 0.91586475, 0.90936226]),\n",
       " 'mean_train_score': array([0.85429779, 0.8910206 , 0.96091415, 0.96937719, 0.88969628,\n",
       "        0.87415943, 0.8548145 , 0.93191163, 0.9277183 , 0.86096158,\n",
       "        0.88969189, 0.8833532 , 0.85876517, 0.84569614, 0.92730251,\n",
       "        0.84839192, 0.89412457, 0.89479358, 0.88633628, 0.86014255,\n",
       "        0.90814268, 0.84251725, 0.87564633, 0.84515688, 0.92256722,\n",
       "        0.83859423, 0.90088511, 0.96067382, 0.84454874, 0.90099602,\n",
       "        0.92630329, 0.85620813, 0.88530853, 0.9170561 , 0.90366111,\n",
       "        0.86359274, 0.90484886, 0.91125858, 0.88482281, 0.89014048,\n",
       "        0.8961133 , 0.91433223, 0.84847074, 0.90630421, 0.93541651,\n",
       "        0.94273642, 0.91415723, 0.88373955, 0.9194247 , 0.91398078]),\n",
       " 'std_train_score': array([0.00646627, 0.00497961, 0.0017018 , 0.00056115, 0.00554398,\n",
       "        0.00613635, 0.00703071, 0.00037745, 0.00250289, 0.00377901,\n",
       "        0.00460243, 0.00482847, 0.00554768, 0.00843876, 0.00239943,\n",
       "        0.00788182, 0.00516629, 0.00407566, 0.0062058 , 0.00617578,\n",
       "        0.0036057 , 0.00751333, 0.00605593, 0.01092142, 0.00265819,\n",
       "        0.0065529 , 0.00455335, 0.0015313 , 0.01128147, 0.00399582,\n",
       "        0.00269508, 0.00878612, 0.00529832, 0.00333719, 0.00525551,\n",
       "        0.00635233, 0.00473956, 0.00486088, 0.00645198, 0.00597177,\n",
       "        0.00540948, 0.00327567, 0.00903447, 0.00451394, 0.00371508,\n",
       "        0.00194814, 0.00465976, 0.00637238, 0.00266344, 0.00390314])}"
      ]
     },
     "execution_count": 73,
     "metadata": {},
     "output_type": "execute_result"
    }
   ],
   "source": [
    "# combinations that he took so as to find the best parameters\n",
    "rsearch_rfc.cv_results_"
   ]
  },
  {
   "cell_type": "code",
   "execution_count": 74,
   "metadata": {},
   "outputs": [
    {
     "data": {
      "text/html": [
       "<div>\n",
       "<style scoped>\n",
       "    .dataframe tbody tr th:only-of-type {\n",
       "        vertical-align: middle;\n",
       "    }\n",
       "\n",
       "    .dataframe tbody tr th {\n",
       "        vertical-align: top;\n",
       "    }\n",
       "\n",
       "    .dataframe thead th {\n",
       "        text-align: right;\n",
       "    }\n",
       "</style>\n",
       "<table border=\"1\" class=\"dataframe\">\n",
       "  <thead>\n",
       "    <tr style=\"text-align: right;\">\n",
       "      <th></th>\n",
       "      <th>mean_fit_time</th>\n",
       "      <th>std_fit_time</th>\n",
       "      <th>mean_score_time</th>\n",
       "      <th>std_score_time</th>\n",
       "      <th>param_criterion</th>\n",
       "      <th>param_max_depth</th>\n",
       "      <th>param_max_features</th>\n",
       "      <th>param_min_samples_leaf</th>\n",
       "      <th>param_min_samples_split</th>\n",
       "      <th>param_n_estimators</th>\n",
       "      <th>...</th>\n",
       "      <th>split1_test_score</th>\n",
       "      <th>split2_test_score</th>\n",
       "      <th>mean_test_score</th>\n",
       "      <th>std_test_score</th>\n",
       "      <th>rank_test_score</th>\n",
       "      <th>split0_train_score</th>\n",
       "      <th>split1_train_score</th>\n",
       "      <th>split2_train_score</th>\n",
       "      <th>mean_train_score</th>\n",
       "      <th>std_train_score</th>\n",
       "    </tr>\n",
       "  </thead>\n",
       "  <tbody>\n",
       "    <tr>\n",
       "      <td>0</td>\n",
       "      <td>0.061953</td>\n",
       "      <td>0.000749</td>\n",
       "      <td>0.015649</td>\n",
       "      <td>0.000019</td>\n",
       "      <td>gini</td>\n",
       "      <td>2</td>\n",
       "      <td>4</td>\n",
       "      <td>9</td>\n",
       "      <td>2</td>\n",
       "      <td>71</td>\n",
       "      <td>...</td>\n",
       "      <td>0.820193</td>\n",
       "      <td>0.860391</td>\n",
       "      <td>0.839695</td>\n",
       "      <td>0.016432</td>\n",
       "      <td>20</td>\n",
       "      <td>0.851891</td>\n",
       "      <td>0.863141</td>\n",
       "      <td>0.847861</td>\n",
       "      <td>0.854298</td>\n",
       "      <td>0.006466</td>\n",
       "    </tr>\n",
       "    <tr>\n",
       "      <td>1</td>\n",
       "      <td>0.398935</td>\n",
       "      <td>0.047189</td>\n",
       "      <td>0.021382</td>\n",
       "      <td>0.008144</td>\n",
       "      <td>entropy</td>\n",
       "      <td>5</td>\n",
       "      <td>11</td>\n",
       "      <td>12</td>\n",
       "      <td>11</td>\n",
       "      <td>188</td>\n",
       "      <td>...</td>\n",
       "      <td>0.825686</td>\n",
       "      <td>0.857776</td>\n",
       "      <td>0.842070</td>\n",
       "      <td>0.013109</td>\n",
       "      <td>13</td>\n",
       "      <td>0.891880</td>\n",
       "      <td>0.896644</td>\n",
       "      <td>0.884538</td>\n",
       "      <td>0.891021</td>\n",
       "      <td>0.004980</td>\n",
       "    </tr>\n",
       "  </tbody>\n",
       "</table>\n",
       "<p>2 rows × 22 columns</p>\n",
       "</div>"
      ],
      "text/plain": [
       "   mean_fit_time  std_fit_time  mean_score_time  std_score_time  \\\n",
       "0       0.061953      0.000749         0.015649        0.000019   \n",
       "1       0.398935      0.047189         0.021382        0.008144   \n",
       "\n",
       "  param_criterion param_max_depth param_max_features param_min_samples_leaf  \\\n",
       "0            gini               2                  4                      9   \n",
       "1         entropy               5                 11                     12   \n",
       "\n",
       "  param_min_samples_split param_n_estimators  ... split1_test_score  \\\n",
       "0                       2                 71  ...          0.820193   \n",
       "1                      11                188  ...          0.825686   \n",
       "\n",
       "   split2_test_score  mean_test_score  std_test_score  rank_test_score  \\\n",
       "0           0.860391         0.839695        0.016432               20   \n",
       "1           0.857776         0.842070        0.013109               13   \n",
       "\n",
       "   split0_train_score  split1_train_score  split2_train_score  \\\n",
       "0            0.851891            0.863141            0.847861   \n",
       "1            0.891880            0.896644            0.884538   \n",
       "\n",
       "   mean_train_score  std_train_score  \n",
       "0          0.854298         0.006466  \n",
       "1          0.891021         0.004980  \n",
       "\n",
       "[2 rows x 22 columns]"
      ]
     },
     "execution_count": 74,
     "metadata": {},
     "output_type": "execute_result"
    }
   ],
   "source": [
    "pd.DataFrame(rsearch_rfc.cv_results_).head(2)"
   ]
  },
  {
   "cell_type": "code",
   "execution_count": 75,
   "metadata": {},
   "outputs": [],
   "source": [
    "rfc=RandomForestClassifier(**rsearch_rfc.best_params_)"
   ]
  },
  {
   "cell_type": "code",
   "execution_count": 76,
   "metadata": {},
   "outputs": [
    {
     "data": {
      "text/plain": [
       "RandomForestClassifier(bootstrap=True, ccp_alpha=0.0, class_weight=None,\n",
       "                       criterion='entropy', max_depth=9, max_features=1,\n",
       "                       max_leaf_nodes=None, max_samples=None,\n",
       "                       min_impurity_decrease=0.0, min_impurity_split=None,\n",
       "                       min_samples_leaf=4, min_samples_split=16,\n",
       "                       min_weight_fraction_leaf=0.0, n_estimators=126,\n",
       "                       n_jobs=None, oob_score=False, random_state=None,\n",
       "                       verbose=0, warm_start=False)"
      ]
     },
     "execution_count": 76,
     "metadata": {},
     "output_type": "execute_result"
    }
   ],
   "source": [
    "rfc.fit(X_trains,y_train)"
   ]
  },
  {
   "cell_type": "code",
   "execution_count": 77,
   "metadata": {},
   "outputs": [
    {
     "name": "stdout",
     "output_type": "stream",
     "text": [
      "Overall Accuracy -Train 0.8219512195121951\n",
      "Confusion matrix-Train \n",
      " [[886  26]\n",
      " [193 125]]\n",
      "AUC - Train 0.9134271902239876\n"
     ]
    }
   ],
   "source": [
    "y_train_predict=rfc.predict(X_trains)\n",
    "y_train_prob=rfc.predict_proba(X_trains)[:,-1]\n",
    "y_train_predict\n",
    "print('Overall Accuracy -Train',accuracy_score(y_train,y_train_predict))\n",
    "print('Confusion matrix-Train','\\n',confusion_matrix(y_train,y_train_predict))\n",
    "print('AUC - Train',roc_auc_score(y_train,y_train_prob))"
   ]
  },
  {
   "cell_type": "code",
   "execution_count": 78,
   "metadata": {},
   "outputs": [
    {
     "name": "stdout",
     "output_type": "stream",
     "text": [
      "Overall Accuracy -Test 0.8125\n",
      "Confusion matrix-Test \n",
      " [[395  11]\n",
      " [ 88  34]]\n",
      "AUC - Test 0.8400428006137446\n"
     ]
    }
   ],
   "source": [
    "y_test_pred=rfc.predict(X_tests)\n",
    "y_test_prob=rfc.predict_proba(X_tests)[:,-1]\n",
    "print('Overall Accuracy -Test',accuracy_score(y_test,y_test_pred))\n",
    "print('Confusion matrix-Test','\\n',confusion_matrix(y_test,y_test_pred))\n",
    "print('AUC - Test',roc_auc_score(y_test,y_test_prob))"
   ]
  },
  {
   "cell_type": "code",
   "execution_count": 79,
   "metadata": {},
   "outputs": [
    {
     "data": {
      "text/plain": [
       "Text(0, 0.5, 'TPR')"
      ]
     },
     "execution_count": 79,
     "metadata": {},
     "output_type": "execute_result"
    },
    {
     "data": {
      "image/png": "[encoded data removed]",
      "text/plain": [
       "<Figure size 432x288 with 1 Axes>"
      ]
     },
     "metadata": {
      "needs_background": "light"
     },
     "output_type": "display_data"
    }
   ],
   "source": [
    "fpr,tpr,thresholds=roc_curve(y_test,y_test_prob)\n",
    "plt.plot(fpr,tpr)\n",
    "plt.plot(fpr,fpr)\n",
    "plt.xlabel('FPR')\n",
    "plt.ylabel('TPR')"
   ]
  },
  {
   "cell_type": "code",
   "execution_count": 80,
   "metadata": {},
   "outputs": [
    {
     "data": {
      "text/html": [
       "<div>\n",
       "<style scoped>\n",
       "    .dataframe tbody tr th:only-of-type {\n",
       "        vertical-align: middle;\n",
       "    }\n",
       "\n",
       "    .dataframe tbody tr th {\n",
       "        vertical-align: top;\n",
       "    }\n",
       "\n",
       "    .dataframe thead th {\n",
       "        text-align: right;\n",
       "    }\n",
       "</style>\n",
       "<table border=\"1\" class=\"dataframe\">\n",
       "  <thead>\n",
       "    <tr style=\"text-align: right;\">\n",
       "      <th></th>\n",
       "      <th>imp</th>\n",
       "    </tr>\n",
       "  </thead>\n",
       "  <tbody>\n",
       "    <tr>\n",
       "      <td>tenure</td>\n",
       "      <td>0.148404</td>\n",
       "    </tr>\n",
       "    <tr>\n",
       "      <td>monthly_charges</td>\n",
       "      <td>0.107593</td>\n",
       "    </tr>\n",
       "    <tr>\n",
       "      <td>total_charges</td>\n",
       "      <td>0.091647</td>\n",
       "    </tr>\n",
       "    <tr>\n",
       "      <td>avg_monthly_charges</td>\n",
       "      <td>0.089773</td>\n",
       "    </tr>\n",
       "    <tr>\n",
       "      <td>contract-two_year</td>\n",
       "      <td>0.088882</td>\n",
       "    </tr>\n",
       "    <tr>\n",
       "      <td>internet_service-fiber_optic</td>\n",
       "      <td>0.058317</td>\n",
       "    </tr>\n",
       "    <tr>\n",
       "      <td>payment_method-electronic_check</td>\n",
       "      <td>0.051313</td>\n",
       "    </tr>\n",
       "    <tr>\n",
       "      <td>tech_support</td>\n",
       "      <td>0.039230</td>\n",
       "    </tr>\n",
       "    <tr>\n",
       "      <td>internet_service-no</td>\n",
       "      <td>0.033479</td>\n",
       "    </tr>\n",
       "    <tr>\n",
       "      <td>online_security</td>\n",
       "      <td>0.031443</td>\n",
       "    </tr>\n",
       "    <tr>\n",
       "      <td>paperless_billing</td>\n",
       "      <td>0.028909</td>\n",
       "    </tr>\n",
       "    <tr>\n",
       "      <td>contract-one_year</td>\n",
       "      <td>0.028165</td>\n",
       "    </tr>\n",
       "    <tr>\n",
       "      <td>dependents</td>\n",
       "      <td>0.025148</td>\n",
       "    </tr>\n",
       "    <tr>\n",
       "      <td>partner</td>\n",
       "      <td>0.022452</td>\n",
       "    </tr>\n",
       "    <tr>\n",
       "      <td>senior</td>\n",
       "      <td>0.021717</td>\n",
       "    </tr>\n",
       "    <tr>\n",
       "      <td>online_backup</td>\n",
       "      <td>0.021127</td>\n",
       "    </tr>\n",
       "    <tr>\n",
       "      <td>payment_method-credit_card_auto</td>\n",
       "      <td>0.019406</td>\n",
       "    </tr>\n",
       "    <tr>\n",
       "      <td>device_protection</td>\n",
       "      <td>0.017661</td>\n",
       "    </tr>\n",
       "    <tr>\n",
       "      <td>gender</td>\n",
       "      <td>0.016378</td>\n",
       "    </tr>\n",
       "    <tr>\n",
       "      <td>payment_method-mailed_check</td>\n",
       "      <td>0.015260</td>\n",
       "    </tr>\n",
       "    <tr>\n",
       "      <td>streaming_movies</td>\n",
       "      <td>0.012767</td>\n",
       "    </tr>\n",
       "    <tr>\n",
       "      <td>streaming_tv</td>\n",
       "      <td>0.011941</td>\n",
       "    </tr>\n",
       "    <tr>\n",
       "      <td>multiple_lines</td>\n",
       "      <td>0.011864</td>\n",
       "    </tr>\n",
       "    <tr>\n",
       "      <td>phone_service</td>\n",
       "      <td>0.007125</td>\n",
       "    </tr>\n",
       "  </tbody>\n",
       "</table>\n",
       "</div>"
      ],
      "text/plain": [
       "                                      imp\n",
       "tenure                           0.148404\n",
       "monthly_charges                  0.107593\n",
       "total_charges                    0.091647\n",
       "avg_monthly_charges              0.089773\n",
       "contract-two_year                0.088882\n",
       "internet_service-fiber_optic     0.058317\n",
       "payment_method-electronic_check  0.051313\n",
       "tech_support                     0.039230\n",
       "internet_service-no              0.033479\n",
       "online_security                  0.031443\n",
       "paperless_billing                0.028909\n",
       "contract-one_year                0.028165\n",
       "dependents                       0.025148\n",
       "partner                          0.022452\n",
       "senior                           0.021717\n",
       "online_backup                    0.021127\n",
       "payment_method-credit_card_auto  0.019406\n",
       "device_protection                0.017661\n",
       "gender                           0.016378\n",
       "payment_method-mailed_check      0.015260\n",
       "streaming_movies                 0.012767\n",
       "streaming_tv                     0.011941\n",
       "multiple_lines                   0.011864\n",
       "phone_service                    0.007125"
      ]
     },
     "execution_count": 80,
     "metadata": {},
     "output_type": "execute_result"
    }
   ],
   "source": [
    "# important features\n",
    "imp=pd.DataFrame(rfc.feature_importances_,index=X_train.columns,columns=['imp'])\n",
    "imp=imp.sort_values(by='imp',ascending=False)\n",
    "imp"
   ]
  },
  {
   "cell_type": "code",
   "execution_count": 81,
   "metadata": {},
   "outputs": [],
   "source": [
    "# Suppose if we happen to drop the tenture feature the performance of model will drop with 16%"
   ]
  },
  {
   "cell_type": "code",
   "execution_count": null,
   "metadata": {},
   "outputs": [],
   "source": []
  },
  {
   "cell_type": "markdown",
   "metadata": {},
   "source": [
    "# K-NN algorithm"
   ]
  },
  {
   "cell_type": "code",
   "execution_count": 82,
   "metadata": {},
   "outputs": [
    {
     "data": {
      "text/plain": [
       "RandomizedSearchCV(cv=3, error_score=nan,\n",
       "                   estimator=KNeighborsClassifier(algorithm='auto',\n",
       "                                                  leaf_size=30,\n",
       "                                                  metric='minkowski',\n",
       "                                                  metric_params=None,\n",
       "                                                  n_jobs=None, n_neighbors=5,\n",
       "                                                  p=2, weights='uniform'),\n",
       "                   iid='deprecated', n_iter=50, n_jobs=None,\n",
       "                   param_distributions={'n_neighbors': <scipy.stats._distn_infrastructure.rv_frozen object at 0x0000025EDAA2D4C8>,\n",
       "                                        'p': <scipy.stats._distn_infrastructure.rv_frozen object at 0x0000025EDAA2D208>},\n",
       "                   pre_dispatch='2*n_jobs', random_state=3, refit=True,\n",
       "                   return_train_score=True, scoring=None, verbose=0)"
      ]
     },
     "execution_count": 82,
     "metadata": {},
     "output_type": "execute_result"
    }
   ],
   "source": [
    "from sklearn.neighbors import KNeighborsClassifier\n",
    "from sklearn.model_selection import RandomizedSearchCV,GridSearchCV\n",
    "from scipy.stats import randint as sp_randint\n",
    "\n",
    "knn=KNeighborsClassifier()\n",
    "params={'n_neighbors':sp_randint(1,20),\n",
    "        'p':sp_randint(1,5)\n",
    "       }\n",
    "rsearch_knn=RandomizedSearchCV(knn,param_distributions=params,cv=3,return_train_score=True,n_iter=50,random_state=3)\n",
    "rsearch_knn.fit(Xs,y)"
   ]
  },
  {
   "cell_type": "code",
   "execution_count": 83,
   "metadata": {},
   "outputs": [
    {
     "data": {
      "text/plain": [
       "{'n_neighbors': 15, 'p': 2}"
      ]
     },
     "execution_count": 83,
     "metadata": {},
     "output_type": "execute_result"
    }
   ],
   "source": [
    "rsearch_knn.best_params_"
   ]
  },
  {
   "cell_type": "code",
   "execution_count": 84,
   "metadata": {},
   "outputs": [
    {
     "name": "stdout",
     "output_type": "stream",
     "text": [
      "Overall Accuracy -Train 0.8146341463414634\n",
      "Confusion matrix-Train \n",
      " [[807 105]\n",
      " [123 195]]\n",
      "Cassification Report-Test               precision    recall  f1-score   support\n",
      "\n",
      "           0       0.87      0.88      0.88       912\n",
      "           1       0.65      0.61      0.63       318\n",
      "\n",
      "    accuracy                           0.81      1230\n",
      "   macro avg       0.76      0.75      0.75      1230\n",
      "weighted avg       0.81      0.81      0.81      1230\n",
      "\n",
      "AUC - Train 0.8689227490897053\n",
      "Overall Accuracy -Test 0.8068181818181818\n",
      "Confusion matrix-Test \n",
      " [[355  51]\n",
      " [ 51  71]]\n",
      "Cassification Report-Test \n",
      "               precision    recall  f1-score   support\n",
      "\n",
      "           0       0.87      0.87      0.87       406\n",
      "           1       0.58      0.58      0.58       122\n",
      "\n",
      "    accuracy                           0.81       528\n",
      "   macro avg       0.73      0.73      0.73       528\n",
      "weighted avg       0.81      0.81      0.81       528\n",
      "\n",
      "AUC - Test 0.8169163369135104\n"
     ]
    }
   ],
   "source": [
    "from sklearn.metrics import confusion_matrix,accuracy_score,classification_report,roc_auc_score,roc_curve\n",
    "knn=KNeighborsClassifier(**rsearch_knn.best_params_)\n",
    "knn.fit(X_trains,y_train)\n",
    "\n",
    "y_train_predict=knn.predict(X_trains)\n",
    "y_train_prob=knn.predict_proba(X_trains)[:,-1]\n",
    "y_train_predict\n",
    "print('Overall Accuracy -Train',accuracy_score(y_train,y_train_predict))\n",
    "print('Confusion matrix-Train','\\n',confusion_matrix(y_train,y_train_predict))\n",
    "print(\"Cassification Report-Test\",classification_report(y_train,y_train_predict))\n",
    "print('AUC - Train',roc_auc_score(y_train,y_train_prob))\n",
    "\n",
    "y_test_pred=knn.predict(X_tests)\n",
    "y_test_prob=knn.predict_proba(X_tests)[:,-1]\n",
    "print('Overall Accuracy -Test',accuracy_score(y_test,y_test_pred))\n",
    "print('Confusion matrix-Test','\\n',confusion_matrix(y_test,y_test_pred))\n",
    "print(\"Cassification Report-Test\",'\\n',classification_report(y_test,y_test_pred))\n",
    "print('AUC - Test',roc_auc_score(y_test,y_test_prob))"
   ]
  },
  {
   "cell_type": "code",
   "execution_count": 85,
   "metadata": {},
   "outputs": [
    {
     "data": {
      "text/plain": [
       "Text(0, 0.5, 'TPR')"
      ]
     },
     "execution_count": 85,
     "metadata": {},
     "output_type": "execute_result"
    },
    {
     "data": {
      "image/png": "[encoded data removed]",
      "text/plain": [
       "<Figure size 432x288 with 1 Axes>"
      ]
     },
     "metadata": {
      "needs_background": "light"
     },
     "output_type": "display_data"
    }
   ],
   "source": [
    "fpr,tpr,thresholds=roc_curve(y_test,y_test_prob)\n",
    "plt.plot(fpr,tpr)\n",
    "plt.plot(fpr,fpr)\n",
    "plt.xlabel('FPR')\n",
    "plt.ylabel('TPR')"
   ]
  },
  {
   "cell_type": "markdown",
   "metadata": {},
   "source": [
    "# Stacking Results of 3 learners(Random forest,KNN,logistic regression)"
   ]
  },
  {
   "cell_type": "code",
   "execution_count": 86,
   "metadata": {},
   "outputs": [
    {
     "data": {
      "text/plain": [
       "LogisticRegression(C=1.0, class_weight=None, dual=False, fit_intercept=True,\n",
       "                   intercept_scaling=1, l1_ratio=None, max_iter=100,\n",
       "                   multi_class='auto', n_jobs=None, penalty='l2',\n",
       "                   random_state=None, solver='liblinear', tol=0.0001, verbose=0,\n",
       "                   warm_start=False)"
      ]
     },
     "execution_count": 86,
     "metadata": {},
     "output_type": "execute_result"
    }
   ],
   "source": [
    "from sklearn.linear_model import LogisticRegression\n",
    "lr=LogisticRegression(solver='liblinear')\n",
    "\n",
    "lr.fit(X_trains,y_train)\n"
   ]
  },
  {
   "cell_type": "code",
   "execution_count": 87,
   "metadata": {},
   "outputs": [
    {
     "name": "stdout",
     "output_type": "stream",
     "text": [
      "Overall Accuracy -Train 0.8105691056910569\n",
      "Confusion matrix-Train \n",
      " [[827  85]\n",
      " [148 170]]\n",
      "Cassification Report-Test               precision    recall  f1-score   support\n",
      "\n",
      "           0       0.85      0.91      0.88       912\n",
      "           1       0.67      0.53      0.59       318\n",
      "\n",
      "    accuracy                           0.81      1230\n",
      "   macro avg       0.76      0.72      0.73      1230\n",
      "weighted avg       0.80      0.81      0.80      1230\n",
      "\n",
      "AUC - Train 0.8557665783956746\n",
      "Overall Accuracy -Test 0.8087121212121212\n",
      "Confusion matrix-Test \n",
      " [[367  39]\n",
      " [ 62  60]]\n",
      "Cassification Report-Test \n",
      "               precision    recall  f1-score   support\n",
      "\n",
      "           0       0.86      0.90      0.88       406\n",
      "           1       0.61      0.49      0.54       122\n",
      "\n",
      "    accuracy                           0.81       528\n",
      "   macro avg       0.73      0.70      0.71       528\n",
      "weighted avg       0.80      0.81      0.80       528\n",
      "\n",
      "AUC - Test 0.842344343050957\n"
     ]
    },
    {
     "data": {
      "text/plain": [
       "Text(0, 0.5, 'TPR')"
      ]
     },
     "execution_count": 87,
     "metadata": {},
     "output_type": "execute_result"
    },
    {
     "data": {
      "image/png": "[encoded data removed]",
      "text/plain": [
       "<Figure size 432x288 with 1 Axes>"
      ]
     },
     "metadata": {
      "needs_background": "light"
     },
     "output_type": "display_data"
    }
   ],
   "source": [
    "from sklearn.metrics import confusion_matrix,accuracy_score,classification_report,roc_auc_score,roc_curve\n",
    "\n",
    "y_train_predict=lr.predict(X_trains)\n",
    "y_train_prob=lr.predict_proba(X_trains)[:,-1]\n",
    "y_train_predict\n",
    "print('Overall Accuracy -Train',accuracy_score(y_train,y_train_predict))\n",
    "print('Confusion matrix-Train','\\n',confusion_matrix(y_train,y_train_predict))\n",
    "print(\"Cassification Report-Test\",classification_report(y_train,y_train_predict))\n",
    "print('AUC - Train',roc_auc_score(y_train,y_train_prob))\n",
    "\n",
    "y_test_pred=lr.predict(X_tests)\n",
    "y_test_prob=lr.predict_proba(X_tests)[:,-1]\n",
    "print('Overall Accuracy -Test',accuracy_score(y_test,y_test_pred))\n",
    "print('Confusion matrix-Test','\\n',confusion_matrix(y_test,y_test_pred))\n",
    "print(\"Cassification Report-Test\",'\\n',classification_report(y_test,y_test_pred))\n",
    "print('AUC - Test',roc_auc_score(y_test,y_test_prob))\n",
    "\n",
    "fpr,tpr,thresholds=roc_curve(y_test,y_test_prob)\n",
    "plt.plot(fpr,tpr)\n",
    "plt.plot(fpr,fpr)\n",
    "plt.xlabel('FPR')\n",
    "plt.ylabel('TPR')"
   ]
  },
  {
   "cell_type": "code",
   "execution_count": 95,
   "metadata": {},
   "outputs": [],
   "source": [
    "##Hard voting"
   ]
  },
  {
   "cell_type": "code",
   "execution_count": 96,
   "metadata": {},
   "outputs": [],
   "source": [
    "from sklearn.ensemble import VotingClassifier\n",
    "lr=LogisticRegression(solver='liblinear')\n",
    "knn=KNeighborsClassifier(**rsearch_knn.best_params_)\n",
    "rfc=RandomForestClassifier(**rsearch_rfc.best_params_)\n"
   ]
  },
  {
   "cell_type": "code",
   "execution_count": 97,
   "metadata": {},
   "outputs": [
    {
     "name": "stdout",
     "output_type": "stream",
     "text": [
      "Accuracy score-Train 0.8170731707317073\n",
      "Accuracy score-Test 0.8087121212121212\n"
     ]
    }
   ],
   "source": [
    "clf=VotingClassifier(estimators=[('lr',lr),('knn',knn),('rfc',rfc)],voting='hard')\n",
    "clf.fit(X_trains,y_train)\n",
    "y_train_pred=clf.predict(X_trains)\n",
    "y_test_predt=clf.predict(X_tests)\n",
    "\n",
    "print('Accuracy score-Train',accuracy_score(y_train,y_train_pred))\n",
    "print('Accuracy score-Test',accuracy_score(y_test,y_test_pred))\n"
   ]
  },
  {
   "cell_type": "code",
   "execution_count": 98,
   "metadata": {},
   "outputs": [],
   "source": [
    "##SOFT voting"
   ]
  },
  {
   "cell_type": "code",
   "execution_count": 104,
   "metadata": {},
   "outputs": [
    {
     "name": "stdout",
     "output_type": "stream",
     "text": [
      "Overall Accuracy -Train 0.824390243902439\n",
      "Confusion matrix-Train \n",
      " [[843  69]\n",
      " [147 171]]\n",
      "Cassification Report-Test               precision    recall  f1-score   support\n",
      "\n",
      "           0       0.85      0.92      0.89       912\n",
      "           1       0.71      0.54      0.61       318\n",
      "\n",
      "    accuracy                           0.82      1230\n",
      "   macro avg       0.78      0.73      0.75      1230\n",
      "weighted avg       0.82      0.82      0.82      1230\n",
      "\n",
      "AUC - Train 0.8853201202692265\n",
      "------------------------------------------------------------------\n",
      "Overall Accuracy -Test 0.8087121212121212\n",
      "Confusion matrix-Test \n",
      " [[370  36]\n",
      " [ 65  57]]\n",
      "Cassification Report-Test \n",
      "               precision    recall  f1-score   support\n",
      "\n",
      "           0       0.85      0.91      0.88       406\n",
      "           1       0.61      0.47      0.53       122\n",
      "\n",
      "    accuracy                           0.81       528\n",
      "   macro avg       0.73      0.69      0.71       528\n",
      "weighted avg       0.80      0.81      0.80       528\n",
      "\n",
      "AUC - Test 0.8399418557700072\n"
     ]
    },
    {
     "data": {
      "text/plain": [
       "Text(0, 0.5, 'TPR')"
      ]
     },
     "execution_count": 104,
     "metadata": {},
     "output_type": "execute_result"
    },
    {
     "data": {
      "image/png": "[encoded data removed]",
      "text/plain": [
       "<Figure size 432x288 with 1 Axes>"
      ]
     },
     "metadata": {
      "needs_background": "light"
     },
     "output_type": "display_data"
    }
   ],
   "source": [
    "##Equal weightages\n",
    "clf=VotingClassifier(estimators=[('lr',lr),('knn',knn),('rfc',rfc)],voting='soft')\n",
    "clf.fit(X_trains,y_train)\n",
    "\n",
    "y_train_predict=clf.predict(X_trains)\n",
    "y_train_prob=clf.predict_proba(X_trains)[:,-1]\n",
    "y_train_predict\n",
    "print('Overall Accuracy -Train',accuracy_score(y_train,y_train_predict))\n",
    "print('Confusion matrix-Train','\\n',confusion_matrix(y_train,y_train_predict))\n",
    "print(\"Cassification Report-Test\",classification_report(y_train,y_train_predict))\n",
    "print('AUC - Train',roc_auc_score(y_train,y_train_prob))\n",
    "print(\"------------------------------------------------------------------\")\n",
    "y_test_pred=clf.predict(X_tests)\n",
    "y_test_prob=clf.predict_proba(X_tests)[:,-1]\n",
    "print('Overall Accuracy -Test',accuracy_score(y_test,y_test_pred))\n",
    "print('Confusion matrix-Test','\\n',confusion_matrix(y_test,y_test_pred))\n",
    "print(\"Cassification Report-Test\",'\\n',classification_report(y_test,y_test_pred))\n",
    "print('AUC - Test',roc_auc_score(y_test,y_test_prob))\n",
    "\n",
    "fpr,tpr,thresholds=roc_curve(y_test,y_test_prob)\n",
    "plt.plot(fpr,tpr)\n",
    "plt.plot(fpr,fpr)\n",
    "plt.xlabel('FPR')\n",
    "plt.ylabel('TPR')"
   ]
  },
  {
   "cell_type": "code",
   "execution_count": 108,
   "metadata": {},
   "outputs": [
    {
     "name": "stdout",
     "output_type": "stream",
     "text": [
      "Overall Accuracy -Train 0.8292682926829268\n",
      "Confusion matrix-Train \n",
      " [[854  58]\n",
      " [152 166]]\n",
      "Cassification Report-Test               precision    recall  f1-score   support\n",
      "\n",
      "           0       0.85      0.94      0.89       912\n",
      "           1       0.74      0.52      0.61       318\n",
      "\n",
      "    accuracy                           0.83      1230\n",
      "   macro avg       0.79      0.73      0.75      1230\n",
      "weighted avg       0.82      0.83      0.82      1230\n",
      "\n",
      "AUC - Train 0.8926748869027916\n",
      "------------------------------------------------------------------\n",
      "Overall Accuracy -Test 0.8087121212121212\n",
      "Confusion matrix-Test \n",
      " [[374  32]\n",
      " [ 69  53]]\n",
      "Cassification Report-Test \n",
      "               precision    recall  f1-score   support\n",
      "\n",
      "           0       0.84      0.92      0.88       406\n",
      "           1       0.62      0.43      0.51       122\n",
      "\n",
      "    accuracy                           0.81       528\n",
      "   macro avg       0.73      0.68      0.70       528\n",
      "weighted avg       0.79      0.81      0.80       528\n",
      "\n",
      "AUC - Test 0.8393563756763305\n"
     ]
    },
    {
     "data": {
      "text/plain": [
       "Text(0, 0.5, 'TPR')"
      ]
     },
     "execution_count": 108,
     "metadata": {},
     "output_type": "execute_result"
    },
    {
     "data": {
      "image/png": "[encoded data removed]",
      "text/plain": [
       "<Figure size 432x288 with 1 Axes>"
      ]
     },
     "metadata": {
      "needs_background": "light"
     },
     "output_type": "display_data"
    }
   ],
   "source": [
    "##different weightages\n",
    "clf=VotingClassifier(estimators=[('lr',lr),('knn',knn),('rfc',rfc)],voting='soft',weights=[1,2,3])\n",
    "clf.fit(X_trains,y_train)\n",
    "\n",
    "y_train_predict=clf.predict(X_trains)\n",
    "y_train_prob=clf.predict_proba(X_trains)[:,-1]\n",
    "y_train_predict\n",
    "print('Overall Accuracy -Train',accuracy_score(y_train,y_train_predict))\n",
    "print('Confusion matrix-Train','\\n',confusion_matrix(y_train,y_train_predict))\n",
    "print(\"Cassification Report-Test\",classification_report(y_train,y_train_predict))\n",
    "print('AUC - Train',roc_auc_score(y_train,y_train_prob))\n",
    "print(\"------------------------------------------------------------------\")\n",
    "y_test_pred=clf.predict(X_tests)\n",
    "y_test_prob=clf.predict_proba(X_tests)[:,-1]\n",
    "print('Overall Accuracy -Test',accuracy_score(y_test,y_test_pred))\n",
    "print('Confusion matrix-Test','\\n',confusion_matrix(y_test,y_test_pred))\n",
    "print(\"Cassification Report-Test\",'\\n',classification_report(y_test,y_test_pred))\n",
    "print('AUC - Test',roc_auc_score(y_test,y_test_prob))\n",
    "\n",
    "fpr,tpr,thresholds=roc_curve(y_test,y_test_prob)\n",
    "plt.plot(fpr,tpr)\n",
    "plt.plot(fpr,fpr)\n",
    "plt.xlabel('FPR')\n",
    "plt.ylabel('TPR')"
   ]
  },
  {
   "cell_type": "code",
   "execution_count": 107,
   "metadata": {},
   "outputs": [],
   "source": [
    "\n"
   ]
  },
  {
   "cell_type": "code",
   "execution_count": null,
   "metadata": {},
   "outputs": [],
   "source": []
  }
 ],
 "metadata": {
  "kernelspec": {
   "display_name": "Python 3",
   "language": "python",
   "name": "python3"
  },
  "language_info": {
   "codemirror_mode": {
    "name": "ipython",
    "version": 3
   },
   "file_extension": ".py",
   "mimetype": "text/x-python",
   "name": "python",
   "nbconvert_exporter": "python",
   "pygments_lexer": "ipython3",
   "version": "3.7.4"
  }
 },
 "nbformat": 4,
 "nbformat_minor": 2
}
